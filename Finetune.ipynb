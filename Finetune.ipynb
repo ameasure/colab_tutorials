{
  "nbformat": 4,
  "nbformat_minor": 0,
  "metadata": {
    "colab": {
      "name": "Overview of Colaboratory Features",
      "version": "0.3.2",
      "provenance": [],
      "collapsed_sections": [],
      "toc_visible": true,
      "include_colab_link": true
    },
    "kernelspec": {
      "display_name": "Python 3",
      "name": "python3"
    },
    "accelerator": "GPU"
  },
  "cells": [
    {
      "cell_type": "markdown",
      "metadata": {
        "id": "view-in-github",
        "colab_type": "text"
      },
      "source": [
        "[View in Colaboratory](https://colab.research.google.com/github/ameasure/try_git/blob/master/Finetune.ipynb)"
      ]
    },
    {
      "metadata": {
        "id": "Ic5-oTjJodK_",
        "colab_type": "text"
      },
      "cell_type": "markdown",
      "source": [
        "Transfer Learning with Finetune \n",
        "\n",
        "https://https://github.com/IndicoDataSolutions/finetune"
      ]
    },
    {
      "metadata": {
        "id": "aMc7WPBRob2v",
        "colab_type": "code",
        "colab": {
          "base_uri": "https://localhost:8080/",
          "height": 2007
        },
        "outputId": "4d46a279-0a11-465d-fa31-7c3924680073"
      },
      "cell_type": "code",
      "source": [
        "!pip install finetune git+git://github.com/IndicoDataSolutions/finetune.git@92b28ecc1db0e33838995ea792b5d3b6f3dd7686\n",
        "!python -m spacy download en_core_web_sm\n",
        "!python -m spacy link en_core_web_sm en\n",
        "!pip install tables\n",
        "!pip install xlrd\n",
        "!wget 'https://github.com/ameasure/autocoding-class/raw/master/msha.xlsx'"
      ],
      "execution_count": 13,
      "outputs": [
        {
          "output_type": "stream",
          "text": [
            "Collecting git+git://github.com/IndicoDataSolutions/finetune.git@92b28ecc1db0e33838995ea792b5d3b6f3dd7686\n",
            "  Cloning git://github.com/IndicoDataSolutions/finetune.git (to revision 92b28ecc1db0e33838995ea792b5d3b6f3dd7686) to /tmp/pip-req-build-iezucrws\n",
            "Collecting finetune\n",
            "\u001b[?25l  Downloading https://files.pythonhosted.org/packages/01/0b/340df24775f86c25b930900f1f60aa26bebc54c5214ac241a92444f038a5/finetune-0.4.1.tar.gz (41kB)\n",
            "\u001b[K    100% |████████████████████████████████| 51kB 3.0MB/s \n",
            "\u001b[?25hCollecting pandas>=0.23.1 (from finetune==0.4.1)\n",
            "\u001b[?25l  Downloading https://files.pythonhosted.org/packages/e1/d8/feeb346d41f181e83fba45224ab14a8d8af019b48af742e047f3845d8cff/pandas-0.23.4-cp36-cp36m-manylinux1_x86_64.whl (8.9MB)\n",
            "\u001b[K    100% |████████████████████████████████| 8.9MB 830kB/s \n",
            "\u001b[?25hCollecting IndicoIo>=1.1.5 (from finetune==0.4.1)\n",
            "  Downloading https://files.pythonhosted.org/packages/83/e5/5bcef01976ed776c33fd1ab1ad57154bf4023e1e3670863488b74b3d2a40/IndicoIo-1.1.5.tar.gz\n",
            "Requirement already satisfied: tqdm>=4.0.0 in /usr/local/lib/python3.6/dist-packages (from finetune==0.4.1) (4.26.0)\n",
            "Requirement already satisfied: numpy>=1.13.0 in /usr/local/lib/python3.6/dist-packages (from finetune==0.4.1) (1.14.6)\n",
            "Collecting scipy>=1.1.0 (from finetune==0.4.1)\n",
            "\u001b[?25l  Downloading https://files.pythonhosted.org/packages/a8/0b/f163da98d3a01b3e0ef1cab8dd2123c34aee2bafbb1c5bffa354cc8a1730/scipy-1.1.0-cp36-cp36m-manylinux1_x86_64.whl (31.2MB)\n",
            "\u001b[K    100% |████████████████████████████████| 31.2MB 1.4MB/s \n",
            "\u001b[?25hRequirement already satisfied: scikit-learn>=0.18.0 in /usr/local/lib/python3.6/dist-packages (from finetune==0.4.1) (0.19.2)\n",
            "Collecting ftfy>=4.4.0 (from finetune==0.4.1)\n",
            "\u001b[?25l  Downloading https://files.pythonhosted.org/packages/87/d1/b25441b6b8f22dfd9547711268562fe651b74cf66288cce632884025e085/ftfy-5.5.0.tar.gz (56kB)\n",
            "\u001b[K    100% |████████████████████████████████| 61kB 15.6MB/s \n",
            "\u001b[?25hRequirement already satisfied: spacy>=2.0.0 in /usr/local/lib/python3.6/dist-packages (from finetune==0.4.1) (2.0.12)\n",
            "Collecting msgpack-numpy==0.4.1 (from finetune==0.4.1)\n",
            "  Downloading https://files.pythonhosted.org/packages/2e/43/393e30e2768b0357541ac95891f96b80ccc4d517e0dd2fa3042fc8926538/msgpack_numpy-0.4.1-py2.py3-none-any.whl\n",
            "Requirement already satisfied: h5py>=2.8.0 in /usr/local/lib/python3.6/dist-packages (from finetune==0.4.1) (2.8.0)\n",
            "Requirement already satisfied: joblib>=0.12.0 in /usr/local/lib/python3.6/dist-packages (from finetune==0.4.1) (0.12.5)\n",
            "Collecting bs4>=0.0.1 (from finetune==0.4.1)\n",
            "  Downloading https://files.pythonhosted.org/packages/10/ed/7e8b97591f6f456174139ec089c769f89a94a1a4025fe967691de971f314/bs4-0.0.1.tar.gz\n",
            "Collecting imblearn>=0.0 (from finetune==0.4.1)\n",
            "  Downloading https://files.pythonhosted.org/packages/81/a7/4179e6ebfd654bd0eac0b9c06125b8b4c96a9d0a8ff9e9507eb2a26d2d7e/imblearn-0.0-py2.py3-none-any.whl\n",
            "Requirement already satisfied: python-dateutil>=2.5.0 in /usr/local/lib/python3.6/dist-packages (from pandas>=0.23.1->finetune==0.4.1) (2.5.3)\n",
            "Requirement already satisfied: pytz>=2011k in /usr/local/lib/python3.6/dist-packages (from pandas>=0.23.1->finetune==0.4.1) (2018.5)\n",
            "Requirement already satisfied: requests>=1.2.3 in /usr/local/lib/python3.6/dist-packages (from IndicoIo>=1.1.5->finetune==0.4.1) (2.18.4)\n",
            "Requirement already satisfied: six>=1.3.0 in /usr/local/lib/python3.6/dist-packages (from IndicoIo>=1.1.5->finetune==0.4.1) (1.11.0)\n",
            "Requirement already satisfied: pillow>=2.8.1 in /usr/local/lib/python3.6/dist-packages (from IndicoIo>=1.1.5->finetune==0.4.1) (4.0.0)\n",
            "Requirement already satisfied: msgpack>=0.5.6 in /usr/local/lib/python3.6/dist-packages (from IndicoIo>=1.1.5->finetune==0.4.1) (0.5.6)\n",
            "Requirement already satisfied: wcwidth in /usr/local/lib/python3.6/dist-packages (from ftfy>=4.4.0->finetune==0.4.1) (0.1.7)\n",
            "Requirement already satisfied: murmurhash<0.29,>=0.28 in /usr/local/lib/python3.6/dist-packages (from spacy>=2.0.0->finetune==0.4.1) (0.28.0)\n",
            "Requirement already satisfied: cymem<1.32,>=1.30 in /usr/local/lib/python3.6/dist-packages (from spacy>=2.0.0->finetune==0.4.1) (1.31.2)\n",
            "Requirement already satisfied: preshed<2.0.0,>=1.0.0 in /usr/local/lib/python3.6/dist-packages (from spacy>=2.0.0->finetune==0.4.1) (1.0.1)\n",
            "Requirement already satisfied: thinc<6.11.0,>=6.10.3 in /usr/local/lib/python3.6/dist-packages (from spacy>=2.0.0->finetune==0.4.1) (6.10.3)\n",
            "Requirement already satisfied: plac<1.0.0,>=0.9.6 in /usr/local/lib/python3.6/dist-packages (from spacy>=2.0.0->finetune==0.4.1) (0.9.6)\n",
            "Requirement already satisfied: ujson>=1.35 in /usr/local/lib/python3.6/dist-packages (from spacy>=2.0.0->finetune==0.4.1) (1.35)\n",
            "Requirement already satisfied: dill<0.3,>=0.2 in /usr/local/lib/python3.6/dist-packages (from spacy>=2.0.0->finetune==0.4.1) (0.2.8.2)\n",
            "Requirement already satisfied: regex==2017.4.5 in /usr/local/lib/python3.6/dist-packages (from spacy>=2.0.0->finetune==0.4.1) (2017.4.5)\n",
            "Collecting msgpack-python>=0.3.0 (from msgpack-numpy==0.4.1->finetune==0.4.1)\n",
            "\u001b[?25l  Downloading https://files.pythonhosted.org/packages/8a/20/6eca772d1a5830336f84aca1d8198e5a3f4715cd1c7fc36d3cc7f7185091/msgpack-python-0.5.6.tar.gz (138kB)\n",
            "\u001b[K    100% |████████████████████████████████| 143kB 28.2MB/s \n",
            "\u001b[?25hRequirement already satisfied: beautifulsoup4 in /usr/local/lib/python3.6/dist-packages (from bs4>=0.0.1->finetune==0.4.1) (4.6.3)\n",
            "Collecting imbalanced-learn (from imblearn>=0.0->finetune==0.4.1)\n",
            "\u001b[?25l  Downloading https://files.pythonhosted.org/packages/80/a4/900463a3c0af082aed9c5a43f4ec317a9469710c5ef80496c9abc26ed0ca/imbalanced_learn-0.3.3-py3-none-any.whl (144kB)\n",
            "\u001b[K    100% |████████████████████████████████| 153kB 27.8MB/s \n",
            "\u001b[?25hRequirement already satisfied: chardet<3.1.0,>=3.0.2 in /usr/local/lib/python3.6/dist-packages (from requests>=1.2.3->IndicoIo>=1.1.5->finetune==0.4.1) (3.0.4)\n",
            "Requirement already satisfied: certifi>=2017.4.17 in /usr/local/lib/python3.6/dist-packages (from requests>=1.2.3->IndicoIo>=1.1.5->finetune==0.4.1) (2018.8.24)\n",
            "Requirement already satisfied: urllib3<1.23,>=1.21.1 in /usr/local/lib/python3.6/dist-packages (from requests>=1.2.3->IndicoIo>=1.1.5->finetune==0.4.1) (1.22)\n",
            "Requirement already satisfied: idna<2.7,>=2.5 in /usr/local/lib/python3.6/dist-packages (from requests>=1.2.3->IndicoIo>=1.1.5->finetune==0.4.1) (2.6)\n",
            "Requirement already satisfied: olefile in /usr/local/lib/python3.6/dist-packages (from pillow>=2.8.1->IndicoIo>=1.1.5->finetune==0.4.1) (0.46)\n",
            "Requirement already satisfied: cytoolz<0.10,>=0.9.0 in /usr/local/lib/python3.6/dist-packages (from thinc<6.11.0,>=6.10.3->spacy>=2.0.0->finetune==0.4.1) (0.9.0.1)\n",
            "Requirement already satisfied: wrapt<1.11.0,>=1.10.0 in /usr/local/lib/python3.6/dist-packages (from thinc<6.11.0,>=6.10.3->spacy>=2.0.0->finetune==0.4.1) (1.10.11)\n",
            "Requirement already satisfied: toolz>=0.8.0 in /usr/local/lib/python3.6/dist-packages (from cytoolz<0.10,>=0.9.0->thinc<6.11.0,>=6.10.3->spacy>=2.0.0->finetune==0.4.1) (0.9.0)\n",
            "Building wheels for collected packages: finetune, IndicoIo, ftfy, bs4, msgpack-python\n",
            "  Running setup.py bdist_wheel for finetune ... \u001b[?25l-\b \b\\\b \bdone\n",
            "\u001b[?25h  Stored in directory: /root/.cache/pip/wheels/8e/8d/9d/3fc6353867db3b2f034897211c30d2dcb13ed46e724447d20d\n",
            "  Running setup.py bdist_wheel for IndicoIo ... \u001b[?25l-\b \b\\\b \bdone\n",
            "\u001b[?25h  Stored in directory: /root/.cache/pip/wheels/92/45/b8/3cc5048729333ee7fafff88522c9537d999b176453ca127798\n",
            "  Running setup.py bdist_wheel for ftfy ... \u001b[?25l-\b \b\\\b \bdone\n",
            "\u001b[?25h  Stored in directory: /root/.cache/pip/wheels/e6/42/b1/0d7f9445a9df8920548ab9bb953d6587067c34bc47e5be9620\n",
            "  Running setup.py bdist_wheel for bs4 ... \u001b[?25l-\b \bdone\n",
            "\u001b[?25h  Stored in directory: /root/.cache/pip/wheels/a0/b0/b2/4f80b9456b87abedbc0bf2d52235414c3467d8889be38dd472\n",
            "  Running setup.py bdist_wheel for msgpack-python ... \u001b[?25l-\b \b\\\b \b|\b \b/\b \b-\b \b\\\b \bdone\n",
            "\u001b[?25h  Stored in directory: /root/.cache/pip/wheels/d5/de/86/7fa56fda12511be47ea0808f3502bc879df4e63ab168ec0406\n",
            "Successfully built finetune IndicoIo ftfy bs4 msgpack-python\n",
            "Installing collected packages: pandas, msgpack-python, msgpack-numpy, IndicoIo, scipy, ftfy, bs4, imbalanced-learn, imblearn, finetune\n",
            "  Found existing installation: pandas 0.22.0\n",
            "    Uninstalling pandas-0.22.0:\n",
            "      Successfully uninstalled pandas-0.22.0\n",
            "  Found existing installation: msgpack-numpy 0.4.4.1\n",
            "    Uninstalling msgpack-numpy-0.4.4.1:\n",
            "      Successfully uninstalled msgpack-numpy-0.4.4.1\n",
            "  Found existing installation: scipy 0.19.1\n",
            "    Uninstalling scipy-0.19.1:\n",
            "      Successfully uninstalled scipy-0.19.1\n",
            "Successfully installed IndicoIo-1.1.5 bs4-0.0.1 finetune-0.4.1 ftfy-5.5.0 imbalanced-learn-0.3.3 imblearn-0.0 msgpack-numpy-0.4.1 msgpack-python-0.5.6 pandas-0.23.4 scipy-1.1.0\n",
            "Collecting en_core_web_lg==2.0.0 from https://github.com/explosion/spacy-models/releases/download/en_core_web_lg-2.0.0/en_core_web_lg-2.0.0.tar.gz#egg=en_core_web_lg==2.0.0\n",
            "\u001b[?25l  Downloading https://github.com/explosion/spacy-models/releases/download/en_core_web_lg-2.0.0/en_core_web_lg-2.0.0.tar.gz (852.3MB)\n",
            "\u001b[K    100% |████████████████████████████████| 852.3MB 66.8MB/s \n",
            "\u001b[?25hInstalling collected packages: en-core-web-lg\n",
            "  Running setup.py install for en-core-web-lg ... \u001b[?25l-\b \b\\\b \b|\b \b/\b \b-\b \b\\\b \b|\b \b/\b \b-\b \b\\\b \b|\b \bdone\n",
            "\u001b[?25hSuccessfully installed en-core-web-lg-2.0.0\n",
            "\n",
            "\u001b[93m    Linking successful\u001b[0m\n",
            "    /usr/local/lib/python3.6/dist-packages/en_core_web_lg -->\n",
            "    /usr/local/lib/python3.6/dist-packages/spacy/data/en_core_web_lg\n",
            "\n",
            "    You can now load the model via spacy.load('en_core_web_lg')\n",
            "\n",
            "\n",
            "\u001b[93m    Linking successful\u001b[0m\n",
            "    /usr/local/lib/python3.6/dist-packages/en_core_web_lg -->\n",
            "    /usr/local/lib/python3.6/dist-packages/spacy/data/en\n",
            "\n",
            "    You can now load the model via spacy.load('en')\n",
            "\n",
            "Collecting tables\n",
            "\u001b[?25l  Downloading https://files.pythonhosted.org/packages/d7/1b/21f4c7f296b718575c17ef25e61c05742a283c45077b4c8d5a190b3e0b59/tables-3.4.4-cp36-cp36m-manylinux1_x86_64.whl (3.8MB)\n",
            "\u001b[K    100% |████████████████████████████████| 3.8MB 7.5MB/s \n",
            "\u001b[?25hCollecting numexpr>=2.5.2 (from tables)\n",
            "\u001b[?25l  Downloading https://files.pythonhosted.org/packages/db/ea/efd9e16283637eb5b6c0042b6cc3521f1b9a5b47767ac463c88bbd37670c/numexpr-2.6.8-cp36-cp36m-manylinux1_x86_64.whl (162kB)\n",
            "\u001b[K    100% |████████████████████████████████| 163kB 14.8MB/s \n",
            "\u001b[?25hRequirement already satisfied: numpy>=1.8.0 in /usr/local/lib/python3.6/dist-packages (from tables) (1.14.6)\n",
            "Requirement already satisfied: six>=1.9.0 in /usr/local/lib/python3.6/dist-packages (from tables) (1.11.0)\n",
            "Installing collected packages: numexpr, tables\n",
            "Successfully installed numexpr-2.6.8 tables-3.4.4\n",
            "Requirement already satisfied: xlrd in /usr/local/lib/python3.6/dist-packages (1.1.0)\n",
            "\n",
            "Redirecting output to ‘wget-log.2’.\n"
          ],
          "name": "stdout"
        }
      ]
    },
    {
      "metadata": {
        "id": "KdpWCKhdxUNB",
        "colab_type": "code",
        "colab": {
          "base_uri": "https://localhost:8080/",
          "height": 52
        },
        "outputId": "07038d24-7e31-4ebd-b49a-2087116eaeaf"
      },
      "cell_type": "code",
      "source": [
        "import pandas as pd\n",
        "\n",
        "df = pd.read_excel('msha.xlsx')\n",
        "df['ACCIDENT_YEAR'] = df['ACCIDENT_DT'].apply(lambda x: x.year)\n",
        "df['ACCIDENT_YEAR'].value_counts()\n",
        "df_train = df[df['ACCIDENT_YEAR'].isin([2010, 2011])].copy()\n",
        "df_valid = df[df['ACCIDENT_YEAR'] == 2012].copy()\n",
        "print('training rows:', len(df_train))\n",
        "print('validation rows:', len(df_valid))"
      ],
      "execution_count": 14,
      "outputs": [
        {
          "output_type": "stream",
          "text": [
            "training rows: 18681\n",
            "validation rows: 9032\n"
          ],
          "name": "stdout"
        }
      ]
    },
    {
      "metadata": {
        "id": "zxOweCiZA0KU",
        "colab_type": "code",
        "colab": {
          "base_uri": "https://localhost:8080/",
          "height": 504
        },
        "outputId": "a9fbdd86-9af0-4274-e5e1-c9997414dc97"
      },
      "cell_type": "code",
      "source": [
        "from finetune import Classifier\n",
        "\n",
        "# max_length is the maximum number of words we will use from each narrative\n",
        "# behind the scenes finetune is setting aside 5% of the training data for validation\n",
        "model = Classifier(verbose=False, batch_size=32, max_length=90, n_epochs=4)\n",
        "model.fit(df_train['NARRATIVE'], df_train['INJ_BODY_PART'])"
      ],
      "execution_count": 15,
      "outputs": [
        {
          "output_type": "stream",
          "text": [
            "/usr/local/lib/python3.6/dist-packages/finetune/encoding.py:294: UserWarning: Some examples are longer than the max_length. Please trim documents or increase `max_length`. Fallback behaviour is to use the first 88 byte-pair encoded tokens\n",
            "  \"Fallback behaviour is to use the first {} byte-pair encoded tokens\".format(max_length - 2)\n",
            "/usr/local/lib/python3.6/dist-packages/finetune/encoding.py:233: UserWarning: Document is longer than max length allowed, trimming document to 90 tokens.\n",
            "  max_length\n"
          ],
          "name": "stderr"
        },
        {
          "output_type": "stream",
          "text": [
            "WARNING:tensorflow:From /usr/local/lib/python3.6/dist-packages/tensorflow/python/framework/function.py:988: calling Graph.create_op (from tensorflow.python.framework.ops) with compute_shapes is deprecated and will be removed in a future version.\n",
            "Instructions for updating:\n",
            "Shapes are always computed; don't use the compute_shapes as it has no effect.\n"
          ],
          "name": "stdout"
        },
        {
          "output_type": "stream",
          "text": [
            "/usr/local/lib/python3.6/dist-packages/tensorflow/python/ops/gradients_impl.py:108: UserWarning: Converting sparse IndexedSlices to a dense Tensor of unknown shape. This may consume a large amount of memory.\n",
            "  \"Converting sparse IndexedSlices to a dense Tensor of unknown shape. \"\n"
          ],
          "name": "stderr"
        },
        {
          "output_type": "stream",
          "text": [
            "WARNING:tensorflow:From /usr/local/lib/python3.6/dist-packages/tensorflow/python/util/tf_should_use.py:189: initialize_variables (from tensorflow.python.ops.variables) is deprecated and will be removed after 2017-03-02.\n",
            "Instructions for updating:\n",
            "Use `tf.variables_initializer` instead.\n",
            "Train loss: 2.02428658947826\t Validation loss: 1.4960562558931962\n",
            "Train loss: 1.1733399682670937\t Validation loss: 1.326524703531812\n",
            "Train loss: 0.8657235422376427\t Validation loss: 1.1786635609289138\n",
            "Train loss: 0.8157964310963368\t Validation loss: 1.0611117305191342\n",
            "Train loss: 0.7282302780120924\t Validation loss: 0.9721394627659866\n",
            "Train loss: 0.6319493325652035\t Validation loss: 0.9009963018470547\n",
            "Train loss: 0.6187396777123942\t Validation loss: 0.8520151351536146\n",
            "Train loss: 0.5823027279206591\t Validation loss: 0.8105794074323073\n",
            "Train loss: 0.5131763383288986\t Validation loss: 0.7771654124238514\n",
            "Train loss: 0.4661312149687483\t Validation loss: 0.758779292345116\n",
            "Train loss: 0.47322449278832546\t Validation loss: 0.7405749610013915\n",
            "Train loss: 0.42416194645229194\t Validation loss: 0.7260644953524004\n",
            "Train loss: 0.36603444547124886\t Validation loss: 0.7146084719484589\n",
            "Train loss: 0.3132562995922706\t Validation loss: 0.7091184016148295\n"
          ],
          "name": "stdout"
        },
        {
          "output_type": "execute_result",
          "data": {
            "text/plain": [
              "<finetune.classifier.Classifier at 0x7f222b207518>"
            ]
          },
          "metadata": {
            "tags": []
          },
          "execution_count": 15
        }
      ]
    },
    {
      "metadata": {
        "id": "LWbjdsG29Pqb",
        "colab_type": "code",
        "colab": {
          "base_uri": "https://localhost:8080/",
          "height": 285
        },
        "outputId": "0e869e08-cc4e-4b81-8f9a-fb4f385d739e"
      },
      "cell_type": "code",
      "source": [
        "# generate preditions\n",
        "df_valid['PREDICTED_PART'] = model.predict(df_valid['NARRATIVE'].values)\n",
        "# look at a sample\n",
        "df_valid[['NARRATIVE', 'INJ_BODY_PART', 'PREDICTED_PART']].sample(5)"
      ],
      "execution_count": 16,
      "outputs": [
        {
          "output_type": "execute_result",
          "data": {
            "text/html": [
              "<div>\n",
              "<style scoped>\n",
              "    .dataframe tbody tr th:only-of-type {\n",
              "        vertical-align: middle;\n",
              "    }\n",
              "\n",
              "    .dataframe tbody tr th {\n",
              "        vertical-align: top;\n",
              "    }\n",
              "\n",
              "    .dataframe thead th {\n",
              "        text-align: right;\n",
              "    }\n",
              "</style>\n",
              "<table border=\"1\" class=\"dataframe\">\n",
              "  <thead>\n",
              "    <tr style=\"text-align: right;\">\n",
              "      <th></th>\n",
              "      <th>NARRATIVE</th>\n",
              "      <th>INJ_BODY_PART</th>\n",
              "      <th>PREDICTED_PART</th>\n",
              "    </tr>\n",
              "  </thead>\n",
              "  <tbody>\n",
              "    <tr>\n",
              "      <th>24755</th>\n",
              "      <td>The EE was dragging water hose up the slope wh...</td>\n",
              "      <td>KNEE/PATELLA</td>\n",
              "      <td>KNEE/PATELLA</td>\n",
              "    </tr>\n",
              "    <tr>\n",
              "      <th>5720</th>\n",
              "      <td>The man was pushing up on a panel on a Kennedy...</td>\n",
              "      <td>WRIST</td>\n",
              "      <td>WRIST</td>\n",
              "    </tr>\n",
              "    <tr>\n",
              "      <th>14880</th>\n",
              "      <td>Loud noise / Hearing loss.</td>\n",
              "      <td>EAR(S) INTERNAL &amp; HEARING</td>\n",
              "      <td>EAR(S) INTERNAL &amp; HEARING</td>\n",
              "    </tr>\n",
              "    <tr>\n",
              "      <th>23610</th>\n",
              "      <td>Employee was sliding an electric motor from a ...</td>\n",
              "      <td>FINGER(S)/THUMB</td>\n",
              "      <td>FINGER(S)/THUMB</td>\n",
              "    </tr>\n",
              "    <tr>\n",
              "      <th>18036</th>\n",
              "      <td>Standard Threshold Shift in employee's hearing...</td>\n",
              "      <td>EAR(S) INTERNAL &amp; HEARING</td>\n",
              "      <td>EAR(S) INTERNAL &amp; HEARING</td>\n",
              "    </tr>\n",
              "  </tbody>\n",
              "</table>\n",
              "</div>"
            ],
            "text/plain": [
              "                                               NARRATIVE  \\\n",
              "24755  The EE was dragging water hose up the slope wh...   \n",
              "5720   The man was pushing up on a panel on a Kennedy...   \n",
              "14880                         Loud noise / Hearing loss.   \n",
              "23610  Employee was sliding an electric motor from a ...   \n",
              "18036  Standard Threshold Shift in employee's hearing...   \n",
              "\n",
              "                   INJ_BODY_PART             PREDICTED_PART  \n",
              "24755               KNEE/PATELLA               KNEE/PATELLA  \n",
              "5720                       WRIST                      WRIST  \n",
              "14880  EAR(S) INTERNAL & HEARING  EAR(S) INTERNAL & HEARING  \n",
              "23610            FINGER(S)/THUMB            FINGER(S)/THUMB  \n",
              "18036  EAR(S) INTERNAL & HEARING  EAR(S) INTERNAL & HEARING  "
            ]
          },
          "metadata": {
            "tags": []
          },
          "execution_count": 16
        }
      ]
    },
    {
      "metadata": {
        "id": "Lmb9BX0RA9bN",
        "colab_type": "code",
        "colab": {
          "base_uri": "https://localhost:8080/",
          "height": 1840
        },
        "outputId": "df416e3c-cad3-4203-b115-e952c582d8d3"
      },
      "cell_type": "code",
      "source": [
        "pd.options.display.max_colwidth=500\n",
        "\n",
        "df_valid['PROB_DICT'] = model.predict_proba(df_valid['NARRATIVE'].values)\n",
        "df_valid[['NARRATIVE', 'PREDICTED_PART', 'PROB_DICT']].head()"
      ],
      "execution_count": 17,
      "outputs": [
        {
          "output_type": "execute_result",
          "data": {
            "text/html": [
              "<div>\n",
              "<style scoped>\n",
              "    .dataframe tbody tr th:only-of-type {\n",
              "        vertical-align: middle;\n",
              "    }\n",
              "\n",
              "    .dataframe tbody tr th {\n",
              "        vertical-align: top;\n",
              "    }\n",
              "\n",
              "    .dataframe thead th {\n",
              "        text-align: right;\n",
              "    }\n",
              "</style>\n",
              "<table border=\"1\" class=\"dataframe\">\n",
              "  <thead>\n",
              "    <tr style=\"text-align: right;\">\n",
              "      <th></th>\n",
              "      <th>NARRATIVE</th>\n",
              "      <th>PREDICTED_PART</th>\n",
              "      <th>PROB_DICT</th>\n",
              "    </tr>\n",
              "  </thead>\n",
              "  <tbody>\n",
              "    <tr>\n",
              "      <th>2</th>\n",
              "      <td>Employee, parked s/c on grade at 16-Block #3 Entry Spad #3868. S/c slid approx. 3' pinning oper. between s/c &amp; rib, employee had set park brake and got off machine to move roof bolter cable.</td>\n",
              "      <td>SHOULDERS (COLLARBONE/CLAVICLE/SCAPULA)</td>\n",
              "      <td>{'ABDOMEN/INTERNAL ORGANS': 0.021482423, 'ANKLE': 0.005168089, 'ARM, MULTIPLE PARTS': 0.0011740514, 'ARM,NEC': 0.0096712345, 'BACK (MUSCLES/SPINE/S-CORD/TAILBONE)': 0.055421397, 'BODY PARTS, NEC': 0.0012622344, 'BODY SYSTEMS': 0.00076493644, 'BRAIN': 0.004081469, 'CHEST (RIBS/BREAST BONE/CHEST ORGNS)': 0.104457006, 'EAR(S) EXTERNAL': 0.0014992885, 'EAR(S) INTERNAL &amp; EXTERNAL': 0.000327146, 'EAR(S) INTERNAL &amp; HEARING': 0.00030815712, 'ELBOW': 0.008493464, 'EYE(S) OPTIC NERVE/VISON': 0.0009638...</td>\n",
              "    </tr>\n",
              "    <tr>\n",
              "      <th>5</th>\n",
              "      <td>Possible heart attack.</td>\n",
              "      <td>BODY SYSTEMS</td>\n",
              "      <td>{'ABDOMEN/INTERNAL ORGANS': 0.0006787256, 'ANKLE': 7.976627e-05, 'ARM, MULTIPLE PARTS': 9.517138e-05, 'ARM,NEC': 0.00037252132, 'BACK (MUSCLES/SPINE/S-CORD/TAILBONE)': 6.8991416e-05, 'BODY PARTS, NEC': 0.0001418036, 'BODY SYSTEMS': 0.95541155, 'BRAIN': 0.0005341452, 'CHEST (RIBS/BREAST BONE/CHEST ORGNS)': 0.010710106, 'EAR(S) EXTERNAL': 0.00011770584, 'EAR(S) INTERNAL &amp; EXTERNAL': 4.2028423e-05, 'EAR(S) INTERNAL &amp; HEARING': 0.00037901106, 'ELBOW': 3.1924483e-05, 'EYE(S) OPTIC NERVE/VISON': 7...</td>\n",
              "    </tr>\n",
              "    <tr>\n",
              "      <th>8</th>\n",
              "      <td>Employee was cleaning up plant spillage into a fork lift mounted self-dumping hopper. Latch on hopper was not operating properly and employee repeatedly lifted on hopper to unlatch it. Employee reported that his right shoulder hurt from the lifting at end of shift. Placed on light duty with no heavy lifting.</td>\n",
              "      <td>SHOULDERS (COLLARBONE/CLAVICLE/SCAPULA)</td>\n",
              "      <td>{'ABDOMEN/INTERNAL ORGANS': 6.264959e-06, 'ANKLE': 1.0312645e-05, 'ARM, MULTIPLE PARTS': 7.0406195e-06, 'ARM,NEC': 5.059311e-05, 'BACK (MUSCLES/SPINE/S-CORD/TAILBONE)': 0.00039924055, 'BODY PARTS, NEC': 4.5551865e-06, 'BODY SYSTEMS': 1.060816e-05, 'BRAIN': 1.7900391e-05, 'CHEST (RIBS/BREAST BONE/CHEST ORGNS)': 1.8342738e-05, 'EAR(S) EXTERNAL': 3.0551022e-05, 'EAR(S) INTERNAL &amp; EXTERNAL': 3.738909e-06, 'EAR(S) INTERNAL &amp; HEARING': 9.614982e-06, 'ELBOW': 2.2118455e-05, 'EYE(S) OPTIC NERVE/VISO...</td>\n",
              "    </tr>\n",
              "    <tr>\n",
              "      <th>12</th>\n",
              "      <td>Employee was putting a drag on a shuttle car, when he lifted one end and another employee lifted the other end, the drag smashed the end of his middle finger on his left hand. He was taken to the hospital and received 12 stitches in his finger and returned to work.</td>\n",
              "      <td>FINGER(S)/THUMB</td>\n",
              "      <td>{'ABDOMEN/INTERNAL ORGANS': 2.3168336e-06, 'ANKLE': 2.6768614e-06, 'ARM, MULTIPLE PARTS': 8.590277e-06, 'ARM,NEC': 6.8721884e-06, 'BACK (MUSCLES/SPINE/S-CORD/TAILBONE)': 2.8429595e-06, 'BODY PARTS, NEC': 3.817813e-06, 'BODY SYSTEMS': 7.2016483e-06, 'BRAIN': 2.312304e-06, 'CHEST (RIBS/BREAST BONE/CHEST ORGNS)': 1.59452e-06, 'EAR(S) EXTERNAL': 7.006113e-06, 'EAR(S) INTERNAL &amp; EXTERNAL': 1.6748319e-06, 'EAR(S) INTERNAL &amp; HEARING': 5.0143735e-06, 'ELBOW': 1.3061186e-05, 'EYE(S) OPTIC NERVE/VISON...</td>\n",
              "    </tr>\n",
              "    <tr>\n",
              "      <th>27</th>\n",
              "      <td>While using a cutting torch to remove a bearing the employee was burned by the torch tip after another employee tripped over the torch hose causing the torch flame to contact his left hand.</td>\n",
              "      <td>HAND (NOT WRIST OR FINGERS)</td>\n",
              "      <td>{'ABDOMEN/INTERNAL ORGANS': 4.601311e-06, 'ANKLE': 1.6828939e-05, 'ARM, MULTIPLE PARTS': 2.4594832e-05, 'ARM,NEC': 2.8724098e-05, 'BACK (MUSCLES/SPINE/S-CORD/TAILBONE)': 1.9359019e-05, 'BODY PARTS, NEC': 4.4981607e-06, 'BODY SYSTEMS': 0.000111284644, 'BRAIN': 5.086649e-06, 'CHEST (RIBS/BREAST BONE/CHEST ORGNS)': 5.84468e-05, 'EAR(S) EXTERNAL': 6.5714225e-06, 'EAR(S) INTERNAL &amp; EXTERNAL': 7.561547e-06, 'EAR(S) INTERNAL &amp; HEARING': 2.4453151e-05, 'ELBOW': 1.0785815e-05, 'EYE(S) OPTIC NERVE/VIS...</td>\n",
              "    </tr>\n",
              "  </tbody>\n",
              "</table>\n",
              "</div>"
            ],
            "text/plain": [
              "                                                                                                                                                                                                                                                                                                                NARRATIVE  \\\n",
              "2                                                                                                                          Employee, parked s/c on grade at 16-Block #3 Entry Spad #3868. S/c slid approx. 3' pinning oper. between s/c & rib, employee had set park brake and got off machine to move roof bolter cable.   \n",
              "5                                                                                                                                                                                                                                                                                                  Possible heart attack.   \n",
              "8   Employee was cleaning up plant spillage into a fork lift mounted self-dumping hopper. Latch on hopper was not operating properly and employee repeatedly lifted on hopper to unlatch it. Employee reported that his right shoulder hurt from the lifting at end of shift. Placed on light duty with no heavy lifting.   \n",
              "12                                              Employee was putting a drag on a shuttle car, when he lifted one end and another employee lifted the other end, the drag smashed the end of his middle finger on his left hand. He was taken to the hospital and received 12 stitches in his finger and returned to work.   \n",
              "27                                                                                                                          While using a cutting torch to remove a bearing the employee was burned by the torch tip after another employee tripped over the torch hose causing the torch flame to contact his left hand.   \n",
              "\n",
              "                             PREDICTED_PART  \\\n",
              "2   SHOULDERS (COLLARBONE/CLAVICLE/SCAPULA)   \n",
              "5                              BODY SYSTEMS   \n",
              "8   SHOULDERS (COLLARBONE/CLAVICLE/SCAPULA)   \n",
              "12                          FINGER(S)/THUMB   \n",
              "27              HAND (NOT WRIST OR FINGERS)   \n",
              "\n",
              "                                                                                                                                                                                                                                                                                                                                                                                                                                                                                                              PROB_DICT  \n",
              "2   {'ABDOMEN/INTERNAL ORGANS': 0.021482423, 'ANKLE': 0.005168089, 'ARM, MULTIPLE PARTS': 0.0011740514, 'ARM,NEC': 0.0096712345, 'BACK (MUSCLES/SPINE/S-CORD/TAILBONE)': 0.055421397, 'BODY PARTS, NEC': 0.0012622344, 'BODY SYSTEMS': 0.00076493644, 'BRAIN': 0.004081469, 'CHEST (RIBS/BREAST BONE/CHEST ORGNS)': 0.104457006, 'EAR(S) EXTERNAL': 0.0014992885, 'EAR(S) INTERNAL & EXTERNAL': 0.000327146, 'EAR(S) INTERNAL & HEARING': 0.00030815712, 'ELBOW': 0.008493464, 'EYE(S) OPTIC NERVE/VISON': 0.0009638...  \n",
              "5   {'ABDOMEN/INTERNAL ORGANS': 0.0006787256, 'ANKLE': 7.976627e-05, 'ARM, MULTIPLE PARTS': 9.517138e-05, 'ARM,NEC': 0.00037252132, 'BACK (MUSCLES/SPINE/S-CORD/TAILBONE)': 6.8991416e-05, 'BODY PARTS, NEC': 0.0001418036, 'BODY SYSTEMS': 0.95541155, 'BRAIN': 0.0005341452, 'CHEST (RIBS/BREAST BONE/CHEST ORGNS)': 0.010710106, 'EAR(S) EXTERNAL': 0.00011770584, 'EAR(S) INTERNAL & EXTERNAL': 4.2028423e-05, 'EAR(S) INTERNAL & HEARING': 0.00037901106, 'ELBOW': 3.1924483e-05, 'EYE(S) OPTIC NERVE/VISON': 7...  \n",
              "8   {'ABDOMEN/INTERNAL ORGANS': 6.264959e-06, 'ANKLE': 1.0312645e-05, 'ARM, MULTIPLE PARTS': 7.0406195e-06, 'ARM,NEC': 5.059311e-05, 'BACK (MUSCLES/SPINE/S-CORD/TAILBONE)': 0.00039924055, 'BODY PARTS, NEC': 4.5551865e-06, 'BODY SYSTEMS': 1.060816e-05, 'BRAIN': 1.7900391e-05, 'CHEST (RIBS/BREAST BONE/CHEST ORGNS)': 1.8342738e-05, 'EAR(S) EXTERNAL': 3.0551022e-05, 'EAR(S) INTERNAL & EXTERNAL': 3.738909e-06, 'EAR(S) INTERNAL & HEARING': 9.614982e-06, 'ELBOW': 2.2118455e-05, 'EYE(S) OPTIC NERVE/VISO...  \n",
              "12  {'ABDOMEN/INTERNAL ORGANS': 2.3168336e-06, 'ANKLE': 2.6768614e-06, 'ARM, MULTIPLE PARTS': 8.590277e-06, 'ARM,NEC': 6.8721884e-06, 'BACK (MUSCLES/SPINE/S-CORD/TAILBONE)': 2.8429595e-06, 'BODY PARTS, NEC': 3.817813e-06, 'BODY SYSTEMS': 7.2016483e-06, 'BRAIN': 2.312304e-06, 'CHEST (RIBS/BREAST BONE/CHEST ORGNS)': 1.59452e-06, 'EAR(S) EXTERNAL': 7.006113e-06, 'EAR(S) INTERNAL & EXTERNAL': 1.6748319e-06, 'EAR(S) INTERNAL & HEARING': 5.0143735e-06, 'ELBOW': 1.3061186e-05, 'EYE(S) OPTIC NERVE/VISON...  \n",
              "27  {'ABDOMEN/INTERNAL ORGANS': 4.601311e-06, 'ANKLE': 1.6828939e-05, 'ARM, MULTIPLE PARTS': 2.4594832e-05, 'ARM,NEC': 2.8724098e-05, 'BACK (MUSCLES/SPINE/S-CORD/TAILBONE)': 1.9359019e-05, 'BODY PARTS, NEC': 4.4981607e-06, 'BODY SYSTEMS': 0.000111284644, 'BRAIN': 5.086649e-06, 'CHEST (RIBS/BREAST BONE/CHEST ORGNS)': 5.84468e-05, 'EAR(S) EXTERNAL': 6.5714225e-06, 'EAR(S) INTERNAL & EXTERNAL': 7.561547e-06, 'EAR(S) INTERNAL & HEARING': 2.4453151e-05, 'ELBOW': 1.0785815e-05, 'EYE(S) OPTIC NERVE/VIS...  "
            ]
          },
          "metadata": {
            "tags": []
          },
          "execution_count": 17
        }
      ]
    },
    {
      "metadata": {
        "id": "HvZ3fBw3BBWf",
        "colab_type": "code",
        "colab": {
          "base_uri": "https://localhost:8080/",
          "height": 682
        },
        "outputId": "632f97e7-fb72-4ff4-875c-f94903a8e4c6"
      },
      "cell_type": "code",
      "source": [
        "# function that takes a row of our dataframe and returns the predicted probability\n",
        "def get_probability(row):\n",
        "    predicted_part = row['PREDICTED_PART']\n",
        "    probability_dict = row['PROB_DICT']\n",
        "    return probability_dict[predicted_part]\n",
        "\n",
        "# apply get_probability to each row in our dataframe and store the result\n",
        "df_valid['PREDICTED_PROB'] = df_valid.apply(func=get_probability, axis=1)\n",
        "# take a peak at what we get\n",
        "df_valid[['NARRATIVE', 'INJ_BODY_PART', 'PREDICTED_PART', 'PREDICTED_PROB']].sample(5).head()"
      ],
      "execution_count": 18,
      "outputs": [
        {
          "output_type": "execute_result",
          "data": {
            "text/html": [
              "<div>\n",
              "<style scoped>\n",
              "    .dataframe tbody tr th:only-of-type {\n",
              "        vertical-align: middle;\n",
              "    }\n",
              "\n",
              "    .dataframe tbody tr th {\n",
              "        vertical-align: top;\n",
              "    }\n",
              "\n",
              "    .dataframe thead th {\n",
              "        text-align: right;\n",
              "    }\n",
              "</style>\n",
              "<table border=\"1\" class=\"dataframe\">\n",
              "  <thead>\n",
              "    <tr style=\"text-align: right;\">\n",
              "      <th></th>\n",
              "      <th>NARRATIVE</th>\n",
              "      <th>INJ_BODY_PART</th>\n",
              "      <th>PREDICTED_PART</th>\n",
              "      <th>PREDICTED_PROB</th>\n",
              "    </tr>\n",
              "  </thead>\n",
              "  <tbody>\n",
              "    <tr>\n",
              "      <th>32972</th>\n",
              "      <td>Facts are at time of this report (taken from statement by Anderson Count Sheriffs Dept). 2 males on haulage road from mine got into a fight? and one shot the other with a 40 cal Taurus handgun. Victim is alive at this time. Neither man is employed by company.</td>\n",
              "      <td>ABDOMEN/INTERNAL ORGANS</td>\n",
              "      <td>MULTIPLE PARTS (MORE THAN ONE MAJOR)</td>\n",
              "      <td>0.639339</td>\n",
              "    </tr>\n",
              "    <tr>\n",
              "      <th>14586</th>\n",
              "      <td>While attempting to secure a nut on a bolt on the bottom of the BB float cell, the employee fell from ladder when he lost his balance.  The employee was standing on the second step of a 4 foot step ladder on the ground floor on the East side of the Float Plant.  He fell to the ground, striking his left side (rib area), on the water hose of the nearby water cannon.</td>\n",
              "      <td>CHEST (RIBS/BREAST BONE/CHEST ORGNS)</td>\n",
              "      <td>CHEST (RIBS/BREAST BONE/CHEST ORGNS)</td>\n",
              "      <td>0.951890</td>\n",
              "    </tr>\n",
              "    <tr>\n",
              "      <th>36909</th>\n",
              "      <td>EE was changing batteries on a scoop and the battery lid dropped down and caught his left thumb. Sutures were required no lost time.</td>\n",
              "      <td>FINGER(S)/THUMB</td>\n",
              "      <td>FINGER(S)/THUMB</td>\n",
              "      <td>0.996906</td>\n",
              "    </tr>\n",
              "    <tr>\n",
              "      <th>21789</th>\n",
              "      <td>Miner was bolting and the leg extended rapidly. The miner tried to catch the machine and got his hand in between the wall and the handle of the machine.</td>\n",
              "      <td>HAND (NOT WRIST OR FINGERS)</td>\n",
              "      <td>HAND (NOT WRIST OR FINGERS)</td>\n",
              "      <td>0.519798</td>\n",
              "    </tr>\n",
              "    <tr>\n",
              "      <th>15752</th>\n",
              "      <td>A driver lost control of his haul truck resulting in a tip-over. According to the driver, he was wearing his seat belt, yet he stated that he impacted the left side of the cab. The driver stated that he had pain on his left side, left lower back and left shoulder. No external bruising, or abrasion was visible. X-ray and CT scan showed no internal injuries.</td>\n",
              "      <td>TRUNK, MULTIPLE PARTS</td>\n",
              "      <td>BACK (MUSCLES/SPINE/S-CORD/TAILBONE)</td>\n",
              "      <td>0.517057</td>\n",
              "    </tr>\n",
              "  </tbody>\n",
              "</table>\n",
              "</div>"
            ],
            "text/plain": [
              "                                                                                                                                                                                                                                                                                                                                                                            NARRATIVE  \\\n",
              "32972                                                                                                             Facts are at time of this report (taken from statement by Anderson Count Sheriffs Dept). 2 males on haulage road from mine got into a fight? and one shot the other with a 40 cal Taurus handgun. Victim is alive at this time. Neither man is employed by company.   \n",
              "14586  While attempting to secure a nut on a bolt on the bottom of the BB float cell, the employee fell from ladder when he lost his balance.  The employee was standing on the second step of a 4 foot step ladder on the ground floor on the East side of the Float Plant.  He fell to the ground, striking his left side (rib area), on the water hose of the nearby water cannon.   \n",
              "36909                                                                                                                                                                                                                                            EE was changing batteries on a scoop and the battery lid dropped down and caught his left thumb. Sutures were required no lost time.   \n",
              "21789                                                                                                                                                                                                                        Miner was bolting and the leg extended rapidly. The miner tried to catch the machine and got his hand in between the wall and the handle of the machine.   \n",
              "15752          A driver lost control of his haul truck resulting in a tip-over. According to the driver, he was wearing his seat belt, yet he stated that he impacted the left side of the cab. The driver stated that he had pain on his left side, left lower back and left shoulder. No external bruising, or abrasion was visible. X-ray and CT scan showed no internal injuries.   \n",
              "\n",
              "                              INJ_BODY_PART  \\\n",
              "32972               ABDOMEN/INTERNAL ORGANS   \n",
              "14586  CHEST (RIBS/BREAST BONE/CHEST ORGNS)   \n",
              "36909                       FINGER(S)/THUMB   \n",
              "21789           HAND (NOT WRIST OR FINGERS)   \n",
              "15752                 TRUNK, MULTIPLE PARTS   \n",
              "\n",
              "                             PREDICTED_PART  PREDICTED_PROB  \n",
              "32972  MULTIPLE PARTS (MORE THAN ONE MAJOR)        0.639339  \n",
              "14586  CHEST (RIBS/BREAST BONE/CHEST ORGNS)        0.951890  \n",
              "36909                       FINGER(S)/THUMB        0.996906  \n",
              "21789           HAND (NOT WRIST OR FINGERS)        0.519798  \n",
              "15752  BACK (MUSCLES/SPINE/S-CORD/TAILBONE)        0.517057  "
            ]
          },
          "metadata": {
            "tags": []
          },
          "execution_count": 18
        }
      ]
    },
    {
      "metadata": {
        "id": "p6Tzjh2JBD4M",
        "colab_type": "code",
        "colab": {
          "base_uri": "https://localhost:8080/",
          "height": 106
        },
        "outputId": "46422d7b-af97-4d5a-8523-882c37e59fa0"
      },
      "cell_type": "code",
      "source": [
        "from sklearn.metrics import accuracy_score, f1_score\n",
        "\n",
        "mf1 = f1_score(df_valid['INJ_BODY_PART'], df_valid['PREDICTED_PART'], average='macro')\n",
        "acc = accuracy_score(df_valid['INJ_BODY_PART'], df_valid['PREDICTED_PART'])\n",
        "print('macro-f1:', mf1)\n",
        "print('accuracy:', acc)"
      ],
      "execution_count": 19,
      "outputs": [
        {
          "output_type": "stream",
          "text": [
            "macro-f1: 0.6602087283637166\n",
            "accuracy: 0.8237378210806023\n"
          ],
          "name": "stdout"
        },
        {
          "output_type": "stream",
          "text": [
            "/usr/local/lib/python3.6/dist-packages/sklearn/metrics/classification.py:1135: UndefinedMetricWarning: F-score is ill-defined and being set to 0.0 in labels with no predicted samples.\n",
            "  'precision', 'predicted', average, warn_for)\n"
          ],
          "name": "stderr"
        }
      ]
    },
    {
      "metadata": {
        "id": "htL4vk4BM0Jx",
        "colab_type": "code",
        "colab": {}
      },
      "cell_type": "code",
      "source": [
        ""
      ],
      "execution_count": 0,
      "outputs": []
    }
  ]
}