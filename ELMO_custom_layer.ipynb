{
  "nbformat": 4,
  "nbformat_minor": 0,
  "metadata": {
    "colab": {
      "name": "Overview of Colaboratory Features",
      "version": "0.3.2",
      "provenance": [],
      "collapsed_sections": [],
      "toc_visible": true,
      "include_colab_link": true
    },
    "kernelspec": {
      "display_name": "Python 3",
      "name": "python3"
    },
    "accelerator": "GPU"
  },
  "cells": [
    {
      "cell_type": "markdown",
      "metadata": {
        "id": "view-in-github",
        "colab_type": "text"
      },
      "source": [
        "[View in Colaboratory](https://colab.research.google.com/github/ameasure/try_git/blob/master/ELMO_custom_layer.ipynb)"
      ]
    },
    {
      "metadata": {
        "id": "GgkSG9nKKpBN",
        "colab_type": "text"
      },
      "cell_type": "markdown",
      "source": [
        "# Setup\n"
      ]
    },
    {
      "metadata": {
        "id": "YIxCSR6DH_Og",
        "colab_type": "code",
        "colab": {
          "base_uri": "https://localhost:8080/",
          "height": 69
        },
        "outputId": "0d9da7ff-1701-4e48-b31d-504a435abce6"
      },
      "cell_type": "code",
      "source": [
        "!wget 'https://github.com/ameasure/autocoding-class/raw/master/msha.xlsx'\n",
        "!pip install xlrd\n"
      ],
      "execution_count": 1,
      "outputs": [
        {
          "output_type": "stream",
          "text": [
            "\n",
            "Redirecting output to ‘wget-log.1’.\n",
            "Requirement already satisfied: xlrd in /usr/local/lib/python3.6/dist-packages (1.1.0)\n"
          ],
          "name": "stdout"
        }
      ]
    },
    {
      "metadata": {
        "id": "pxaNtghjKs9B",
        "colab_type": "text"
      },
      "cell_type": "markdown",
      "source": [
        "# Download Training and Validation Data"
      ]
    },
    {
      "metadata": {
        "id": "lpE9aQu0IWrN",
        "colab_type": "code",
        "colab": {
          "base_uri": "https://localhost:8080/",
          "height": 52
        },
        "outputId": "580bb292-e80f-40a1-8831-631eb3c4ee4c"
      },
      "cell_type": "code",
      "source": [
        "import pandas as pd\n",
        "\n",
        "df = pd.read_excel('msha.xlsx')\n",
        "df['ACCIDENT_YEAR'] = df['ACCIDENT_DT'].apply(lambda x: x.year)\n",
        "df['ACCIDENT_YEAR'].value_counts()\n",
        "df_train = df[df['ACCIDENT_YEAR'].isin([2010, 2011])].copy()\n",
        "df_valid = df[df['ACCIDENT_YEAR'] == 2012].copy()\n",
        "print('training rows:', len(df_train))\n",
        "print('validation rows:', len(df_valid))"
      ],
      "execution_count": 2,
      "outputs": [
        {
          "output_type": "stream",
          "text": [
            "training rows: 18681\n",
            "validation rows: 9032\n"
          ],
          "name": "stdout"
        }
      ]
    },
    {
      "metadata": {
        "id": "Hl8JRrWrIswH",
        "colab_type": "code",
        "colab": {}
      },
      "cell_type": "code",
      "source": [
        "from sklearn.preprocessing import LabelBinarizer\n",
        "\n",
        "label_encoder = LabelBinarizer().fit(df_train['INJ_BODY_PART'])\n",
        "y_train = label_encoder.transform(df_train['INJ_BODY_PART'])\n",
        "y_valid = label_encoder.transform(df_valid['INJ_BODY_PART'])\n",
        "n_classes = len(label_encoder.classes_)"
      ],
      "execution_count": 0,
      "outputs": []
    },
    {
      "metadata": {
        "id": "WBGaCvvGHDYZ",
        "colab_type": "text"
      },
      "cell_type": "markdown",
      "source": [
        "# ELMO embeddings\n",
        "\n",
        "ELMO is a pretrained RNN language model. A copy of  it is documented and available on [tensorflow_hub](https://tfhub.dev/google/elmo/2). We can use the tensorflow_hub module to load a copy of the model as follows:"
      ]
    },
    {
      "metadata": {
        "id": "mUfNPnF3Izt5",
        "colab_type": "code",
        "colab": {
          "base_uri": "https://localhost:8080/",
          "height": 52
        },
        "outputId": "c5fb5646-3c6a-4159-fff8-5bebe0c56a57"
      },
      "cell_type": "code",
      "source": [
        "import tensorflow as tf\n",
        "import tensorflow_hub as hub\n",
        "from keras import backend as K\n",
        "from keras.models import Model\n",
        "from keras.layers import Dense, Input, Lambda, GlobalMaxPooling1D\n",
        "from keras.optimizers import Adam\n",
        "\n",
        "\n",
        "# Read in the pre-trained elmo model\n",
        "elmo_model = hub.Module(\"https://tfhub.dev/google/elmo/2\", trainable=True)\n",
        "\n",
        "# Create a function that accepts a raw string input x, passes it into the elmo \n",
        "# model, and returns the sequence of vectors ELMO uses to represent the input.\n",
        "# Putting this in a function allows us to connect the elmo_model to a Keras \n",
        "# model using a Lambda layer.\n",
        "def get_elmo_embedding(x):\n",
        "    return elmo_model(tf.squeeze(tf.cast(x, tf.string)), \n",
        "                      signature='default',\n",
        "                      as_dict=True)['elmo']"
      ],
      "execution_count": 4,
      "outputs": [
        {
          "output_type": "stream",
          "text": [
            "INFO:tensorflow:Using /tmp/tfhub_modules to cache modules.\n"
          ],
          "name": "stdout"
        },
        {
          "output_type": "stream",
          "text": [
            "Using TensorFlow backend.\n"
          ],
          "name": "stderr"
        }
      ]
    },
    {
      "metadata": {
        "id": "Jkt_VMtxwg9f",
        "colab_type": "code",
        "colab": {}
      },
      "cell_type": "code",
      "source": [
        "import tensorflow_hub as hub\n",
        "from keras import backend as K\n",
        "from keras.engine import Layer\n",
        "\n",
        "class ElmoEmbeddingLayer(Layer):\n",
        "    def __init__(self, **kwargs):\n",
        "        self.dimensions = 1024\n",
        "        super(ElmoEmbeddingLayer, self).__init__(trainable=True, **kwargs)\n",
        "\n",
        "    def build(self, input_shape):\n",
        "        self.elmo = hub.Module('https://tfhub.dev/google/elmo/2', \n",
        "                               trainable=True,\n",
        "                               name=\"{}_module\".format(self.name))\n",
        "\n",
        "        self.trainable_weights += K.tf.trainable_variables(scope=\"^{}_module/.*\".format(self.name))\n",
        "        super(ElmoEmbeddingLayer, self).build(input_shape)\n",
        "\n",
        "    def call(self, x, mask=None):\n",
        "        result = self.elmo(inputs=tf.squeeze(tf.cast(x, tf.string)),\n",
        "                           as_dict=True,\n",
        "                           signature='default',\n",
        "                           )['elmo']\n",
        "        return result\n",
        "\n",
        "    def compute_output_shape(self, input_shape):\n",
        "        return input_shape + (self.dimensions,)"
      ],
      "execution_count": 0,
      "outputs": []
    },
    {
      "metadata": {
        "id": "WyuZ0TsuJoKo",
        "colab_type": "text"
      },
      "cell_type": "markdown",
      "source": [
        "# Define and Link the models\n",
        "\n",
        "We can now load and link this pretrained model with a new model of our design as follows:"
      ]
    },
    {
      "metadata": {
        "id": "gBCbwwpVJUDy",
        "colab_type": "code",
        "colab": {
          "base_uri": "https://localhost:8080/",
          "height": 34
        },
        "outputId": "02a55de6-1ea6-4c25-d723-ef41d64071f6"
      },
      "cell_type": "code",
      "source": [
        "# specify the input - ELMO accepts a 1 dimensional vector where each entry is \n",
        "# a string representing an injury narrative\n",
        "text_input = Input(shape=(1,), dtype='string')\n",
        "# A Lambda layer performs the computation defined by the function it receives.\n",
        "# In this case that function is the get_elmo_embedding() function defined above. the function feeds data into the ELMO model and returns the output\n",
        "# output_shape - tells Keras the output of this layer is a variable length (None)\n",
        "# sequence of 1024 dimensional vectors.\n",
        "elmo_embedding = ElmoEmbeddingLayer()(text_input)\n",
        "max_pooling = GlobalMaxPooling1D()(elmo_embedding)\n",
        "# feed the output of the ELMO model into the output layer\n",
        "# the output layer will predict part_of_body probabilities\n",
        "output = Dense(units=n_classes, activation='softmax', name='output')(max_pooling)\n",
        "\n",
        "# tell Keras which layers are the inputs and outputs of our model\n",
        "model = Model(inputs=text_input, outputs=[output])\n",
        "# optimizer - the algorithm for calculating the optimal weights (ADAM is a\n",
        "#   variant of gradient descent)\n",
        "# loss - the loss function we will attempt to minimize through gradient descent (cross_entropy)\n",
        "# metrics - the validation metrics we will calculate after each epoch (accuracy)\n",
        "adam = Adam(lr=.001)\n",
        "model.compile(optimizer=adam, \n",
        "              loss='categorical_crossentropy', \n",
        "              metrics=['accuracy'])"
      ],
      "execution_count": 18,
      "outputs": [
        {
          "output_type": "stream",
          "text": [
            "INFO:tensorflow:Saver not created because there are no variables in the graph to restore\n"
          ],
          "name": "stdout"
        }
      ]
    },
    {
      "metadata": {
        "id": "nPwH4AkDOrv4",
        "colab_type": "text"
      },
      "cell_type": "markdown",
      "source": [
        "# Train the model"
      ]
    },
    {
      "metadata": {
        "id": "AHWCsvIOHCKq",
        "colab_type": "code",
        "colab": {
          "base_uri": "https://localhost:8080/",
          "height": 69
        },
        "outputId": "9b9b49d0-9eaa-437a-9f93-c0426b362ba7"
      },
      "cell_type": "code",
      "source": [
        "model.fit(x=df_train['NARRATIVE'].as_matrix(), y=y_train,\n",
        "          validation_data=(df_valid['NARRATIVE'].as_matrix(), y_valid),\n",
        "          batch_size=64, epochs=20)"
      ],
      "execution_count": 0,
      "outputs": [
        {
          "output_type": "stream",
          "text": [
            "Train on 18681 samples, validate on 9032 samples\n",
            "Epoch 1/20\n",
            "18624/18681 [============================>.] - ETA: 1s - loss: 2.9269 - acc: 0.2606"
          ],
          "name": "stdout"
        }
      ]
    },
    {
      "metadata": {
        "id": "bnrSQB-RjmiT",
        "colab_type": "code",
        "colab": {}
      },
      "cell_type": "code",
      "source": [
        ""
      ],
      "execution_count": 0,
      "outputs": []
    }
  ]
}