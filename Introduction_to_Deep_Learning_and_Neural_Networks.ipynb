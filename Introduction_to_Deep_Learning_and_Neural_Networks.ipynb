{
  "nbformat": 4,
  "nbformat_minor": 0,
  "metadata": {
    "colab": {
      "name": "Introduction to Deep Learning and Neural Networks.ipynb",
      "version": "0.3.2",
      "provenance": [],
      "collapsed_sections": [],
      "toc_visible": true,
      "include_colab_link": true
    },
    "kernelspec": {
      "name": "python3",
      "display_name": "Python 3"
    },
    "accelerator": "GPU"
  },
  "cells": [
    {
      "cell_type": "markdown",
      "metadata": {
        "id": "view-in-github",
        "colab_type": "text"
      },
      "source": [
        "<a href=\"https://colab.research.google.com/github/ameasure/colab_tutorials/blob/master/Introduction_to_Deep_Learning_and_Neural_Networks.ipynb\" target=\"_parent\"><img src=\"https://colab.research.google.com/assets/colab-badge.svg\" alt=\"Open In Colab\"/></a>"
      ]
    },
    {
      "cell_type": "code",
      "metadata": {
        "id": "NkodPOiLLdog",
        "colab_type": "code",
        "colab": {}
      },
      "source": [
        "%matplotlib inline"
      ],
      "execution_count": 0,
      "outputs": []
    },
    {
      "cell_type": "markdown",
      "metadata": {
        "id": "MUfTgilkLdoj",
        "colab_type": "text"
      },
      "source": [
        "# Deep Learning and Neural Networks\n",
        "\n",
        "Deep learning is a subfield of machine learning that seeks to solve problems by learning intermediate data representations. The primary algorithm for deep learning is the deep neural network, and if you've been following developments in Artificial Intelligence over the last decade you have probably heard a lot about them. Among its many recent accomplishments, deep learning techniques are now directly responsible the recent and very dramatic advances in image recognition, speech recognition, and language understanding.\n",
        "\n",
        "Unfortunately, as you will soon see, deep neural networks also much more difficult to build than the models we have seen so far in class. Among the many challenges:\n",
        "1) Deep neural networks often require extraordinary amounts of computation\n",
        "2) Effective training of deep neural networks often relies on a wide variety of poorly understood heuristics\n",
        "3) Deep neural networks tends to have a much larger number of hyperparameters requiring expert tuning\n",
        "\n",
        "We can only partially address the first problem in this class. Specifically, BLS now has a small number of high-end GPU's (Graphical Processing Units). A GPU is basically a very cheap super-computer, optimized for linear algebra operations. Each contains several thousand simple computers with ultra-fast memory interfaces between them so they can rapidly exchange and aggregate information. Even if you had the budget for it, you could not replicate this performance with thousands of traditional computer processing units. \n",
        "\n",
        "We will be using these GPU's for our experiments. If you wish to train deep neural networks outside of BLS, Google makes free GPU's available through [Google Colab](https://colab.research.google.com/). GPU's are also relatively affordable, a good buying guide for deep learning applications is available [here](https://blog.slavv.com/picking-a-gpu-for-deep-learning-3d4795c273b9). You are also free to try training neural networks without GPU acceleration, but be warned, unless you are building something very simple, you will be waiting a long time.\n",
        "\n",
        "One consequence of the deep neural networks' exotic hardware needs is that we will also need new software capable of using that hardware. We will use the `tensorflow` library, which is the most popular tool for training deep neural networks. We will also be using the `keras` library, which is a simplified interface on top of tensorflow. A reasonable alternative is the `PyTorch` library, but we will not cover that in this class.\n",
        "\n",
        "# What is a deep neural network?\n",
        "\n",
        "A deep neural network is just an extension of logistic regression, which itself is just an extension of linear regression. Recall the basic equation for a simple linear regression. If the inputs are represented by the variables $x_1, x_2, ..., x_i$, and the weights controlling the influence of these inputs is represented by $w_1, w_2, ..., w_i$ then the equation for linear regression is:\n",
        "\n",
        "$y=w_1x_1 + w_2x_2 + ... + w_ix_i$\n",
        "\n",
        "As we saw in logistic regression, we can modify this one step further, by passing the entire output through the logistic function $f(z)=\\frac{1}{1+e^{-z}}$. This has the effect of contraining the output to be between 0 and 1. Our equation now becomes:\n",
        "\n",
        "$y=f(w_1x_1 + w_2x_2 + ... + w_ix_i)$\n",
        "\n",
        "If we draw this in graphical form, with three inputs, it resembles the following:\n",
        "![logistic regression](https://github.com/ameasure/colab_tutorials/blob/master/Images/artificial%20neuron.png?raw=1)\n",
        "\n",
        "From this perspective, logistic regression shares some similarities with the biological neuron. Like a biological neuron, logistic regression receives inputs from a variety of sources. Like a biological neuron, the influence of these inputs seems to be controlled by the strengths of the connections (represented by weights, in logistic regression). And like a biological neuron, the logistic regression uses this information to produce an output. Hence, an alternate interpretation of logistic regression, the artificial neuron. In neural network speak, this neuron has 4 key components:\n",
        "* three inputs ($x_1, x_2, x_3$)\n",
        "* three weights ($w_1, w_2, w_3$)\n",
        "* an acitivation function ($f(w,x)$, in this case the `logistic` function)\n",
        "* an output (a.k.a. activation) ($y$)\n",
        "\n",
        "Logistic regression does not, of course, acquire any magical new powers by simply changing its name. But interesting things start to happen as we extend our metaphor. What happens when we start connecting these artificial neurons to other artificial neurons, i.e. using the outputs of some neurons and inputs to others? \n",
        "\n",
        "Although we can connect our neural networks in all sorts of patterns, for computational convenience it is common to organize our artificial neurons into layers, and design our neural network by describing how our various layers connect to each other.\n",
        "\n",
        "This might sound exotic, but in fact we have already worked with a layer of artificial neurons, we just didn't know it. A single layer of artificial neurons in which each neuron is connected to all inputs and each uses the multinomial logistic function is exactly equivalent to the multinomial logistic regression we have used so extensively in this class. We will soon see however, that by connecting these layers to other layers, we can address a wide variety of issues we struggled with before. One thing that does not change however, is the fundamental process by which we calculate the weights of our artificial neural network. We still use gradient descent, specifically the following algorithm:\n",
        "1. Randomly initialize the weights of our neurons to small values.\n",
        "2. Choose a loss function (some measure of how poorly our model is predicting the training data)\n",
        "3. Calculate the model's loss on the training data\n",
        "4. Update the weights in the direction that reduces loss (using calculus)\n",
        "5. Repeat steps 3 and 4 until we're happy with the network's performance\n",
        "\n",
        "\n",
        "# Feed Forward Neural Network\n",
        "Enough talk, lets start by building one of the simplest possible neural networks, a feed forward neural network with 1 hidden layer and 1 output layer. Visually, this resembles the following (but with more neurons in each layer).\n",
        "\n",
        "![neural_network](https://github.com/ameasure/colab_tutorials/blob/master/Images/feed_forward_network_wikipedia_300px.png?raw=1)\n",
        "\n",
        "# Note for Colab Users: \n",
        "If you're running this in Google Colab make sure you open up the **Runtime** tab, select **Change runtime type** and select **GPU** as the hardware accelerator. This will make the following computations run much faster. You will also need to execute the following command to copy the msha data to your Colab instance."
      ]
    },
    {
      "cell_type": "code",
      "metadata": {
        "id": "X3t7QWSKOrgN",
        "colab_type": "code",
        "outputId": "bce374e8-b71e-4c62-ec04-3a4bd76efab5",
        "colab": {
          "base_uri": "https://localhost:8080/",
          "height": 286
        }
      },
      "source": [
        "!wget --no-clobber 'https://github.com/ameasure/autocoding-class/raw/master/msha.xlsx'"
      ],
      "execution_count": 2,
      "outputs": [
        {
          "output_type": "stream",
          "text": [
            "--2019-06-21 19:55:00--  https://github.com/ameasure/autocoding-class/raw/master/msha.xlsx\n",
            "Resolving github.com (github.com)... 192.30.253.112\n",
            "Connecting to github.com (github.com)|192.30.253.112|:443... connected.\n",
            "HTTP request sent, awaiting response... 302 Found\n",
            "Location: https://raw.githubusercontent.com/ameasure/autocoding-class/master/msha.xlsx [following]\n",
            "--2019-06-21 19:55:01--  https://raw.githubusercontent.com/ameasure/autocoding-class/master/msha.xlsx\n",
            "Resolving raw.githubusercontent.com (raw.githubusercontent.com)... 151.101.0.133, 151.101.64.133, 151.101.128.133, ...\n",
            "Connecting to raw.githubusercontent.com (raw.githubusercontent.com)|151.101.0.133|:443... connected.\n",
            "HTTP request sent, awaiting response... 200 OK\n",
            "Length: 4183086 (4.0M) [application/octet-stream]\n",
            "Saving to: ‘msha.xlsx’\n",
            "\n",
            "msha.xlsx           100%[===================>]   3.99M  --.-KB/s    in 0.09s   \n",
            "\n",
            "2019-06-21 19:55:01 (46.7 MB/s) - ‘msha.xlsx’ saved [4183086/4183086]\n",
            "\n"
          ],
          "name": "stdout"
        }
      ]
    },
    {
      "cell_type": "markdown",
      "metadata": {
        "id": "92YeiO4sLdok",
        "colab_type": "text"
      },
      "source": [
        "### Preparing the data\n",
        "We'll use our msha data to train our first neural network. The process of preparing the training data is mostly similar to the process we used for scikit-learn, with one key difference. Unlike scikit-learn, Keras requires the outputs (the y-values) to be in matrix format where each row corresponds to a training example, each column corresponds to a part-of-body-code, and the column containing the correct code has a value of 1 and the others have a value of 0. Scikit-learn constructed this matrix for us behind the scenes automatically. We can easily perform the same operation for Keras using scikit-learn's LabelBinarizer."
      ]
    },
    {
      "cell_type": "code",
      "metadata": {
        "id": "M8sRKziKLdol",
        "colab_type": "code",
        "outputId": "daffe51c-2d50-4c87-a73a-998a3acbe829",
        "colab": {
          "base_uri": "https://localhost:8080/",
          "height": 50
        }
      },
      "source": [
        "from sklearn.feature_extraction.text import CountVectorizer\n",
        "from sklearn.preprocessing import LabelBinarizer\n",
        "\n",
        "import pandas as pd\n",
        "\n",
        "# read in the data and split it into training and validation\n",
        "df = pd.read_excel('msha.xlsx')\n",
        "df['ACCIDENT_YEAR'] = df['ACCIDENT_DT'].apply(lambda x: x.year)\n",
        "df['ACCIDENT_YEAR'].value_counts()\n",
        "df_train = df[df['ACCIDENT_YEAR'].isin([2010, 2011])].copy()\n",
        "df_valid = df[df['ACCIDENT_YEAR'] == 2012].copy()\n",
        "print('training rows:', len(df_train))\n",
        "print('validation rows:', len(df_valid))\n",
        "\n",
        "# create bag of words features\n",
        "vectorizer = CountVectorizer()\n",
        "vectorizer.fit(df_train['NARRATIVE'])\n",
        "X_train = vectorizer.transform(df_train['NARRATIVE'])\n",
        "X_valid = vectorizer.transform(df_valid['NARRATIVE'])\n",
        "\n",
        "# keras only accepts a one-hot encoding of the training labels\n",
        "# we do that here\n",
        "label_encoder = LabelBinarizer().fit(df_train['INJ_BODY_PART'])\n",
        "y_train = label_encoder.transform(df_train['INJ_BODY_PART'])\n",
        "y_valid = label_encoder.transform(df_valid['INJ_BODY_PART'])\n",
        "n_codes = len(label_encoder.classes_)"
      ],
      "execution_count": 25,
      "outputs": [
        {
          "output_type": "stream",
          "text": [
            "training rows: 18681\n",
            "validation rows: 9032\n"
          ],
          "name": "stdout"
        }
      ]
    },
    {
      "cell_type": "code",
      "metadata": {
        "id": "fXwjI5IqLdon",
        "colab_type": "code",
        "outputId": "3c4e95e1-6813-4250-a11c-a5eb107165c7",
        "colab": {
          "base_uri": "https://localhost:8080/",
          "height": 84
        }
      },
      "source": [
        "print(X_train.shape)\n",
        "print(y_train.shape)\n",
        "print(y_train[0])"
      ],
      "execution_count": 26,
      "outputs": [
        {
          "output_type": "stream",
          "text": [
            "(18681, 11915)\n",
            "(18681, 46)\n",
            "[0 0 0 0 0 0 0 0 0 0 0 0 0 0 0 0 0 0 0 0 0 0 0 0 0 0 0 0 0 0 0 0 0 0 0 1 0\n",
            " 0 0 0 0 0 0 0 0 0]\n"
          ],
          "name": "stdout"
        }
      ]
    },
    {
      "cell_type": "markdown",
      "metadata": {
        "id": "uCmFyJspLdor",
        "colab_type": "text"
      },
      "source": [
        "Define the organization of our neural network"
      ]
    },
    {
      "cell_type": "code",
      "metadata": {
        "id": "OaR9dIw-Ldos",
        "colab_type": "code",
        "colab": {}
      },
      "source": [
        "from keras.models import Model\n",
        "from keras.layers import Dense, Input, Dropout\n",
        "from keras.optimizers import Adam\n",
        "\n",
        "# First, we create an input layer. This tells keras\n",
        "# what the input data will look like. Specifically, that\n",
        "# the input will contain the same number of columns\n",
        "# as the X_train matrix (i.e. the number of features)\n",
        "text_input = Input(shape=(X_train.shape[1],))\n",
        "# Next, we create the first hidden layer. \n",
        "# Dense means every neuron in this layer is connected to every input\n",
        "# units specifies the number of artificial neurons in this layer\n",
        "# activation indicates the activation function that will be used on each neuron\n",
        "# (text_input) indicates that the layer uses output of the text_input layer as its input\n",
        "layer1 = Dense(units=100, activation='relu')(text_input)\n",
        "# Now we specify the ouput layer\n",
        "# it contains one neuron for each part of body code (we want predctions for these)\n",
        "# each neuron uses the softmax activation so that the outputs mimic probabilities\n",
        "# Note: this is identical to a multinomial logistic regression model\n",
        "output = Dense(units=n_codes, activation='softmax')(layer1)\n",
        "\n",
        "# Finally, we tell Keras which layers are the inputs and outputs of our model\n",
        "model = Model(inputs=[text_input], outputs=[output])\n",
        "\n",
        "# We then tell Keras how we plan to fit the model\n",
        "# optimizer - specifies the algorithm we will use to update the model weights\n",
        "#   specifically, we use a variant of gradient descent called Adam\n",
        "#   with a learning rate of .001\n",
        "# loss - specifices the loss function we will use when updating weights\n",
        "# metrics - specifies the validation metrics we will calculate after each epoch\n",
        "optimizer = Adam(lr=.001)\n",
        "model.compile(optimizer=optimizer, \n",
        "              loss='categorical_crossentropy', \n",
        "              metrics=['accuracy'])"
      ],
      "execution_count": 0,
      "outputs": []
    },
    {
      "cell_type": "markdown",
      "metadata": {
        "id": "PwkmZeysLdov",
        "colab_type": "text"
      },
      "source": [
        "Examine the model."
      ]
    },
    {
      "cell_type": "code",
      "metadata": {
        "id": "4DCFMS74Ldow",
        "colab_type": "code",
        "outputId": "ecf79445-06f3-4079-993d-2e7d9f40ae10",
        "colab": {
          "base_uri": "https://localhost:8080/",
          "height": 235
        }
      },
      "source": [
        "model.summary()"
      ],
      "execution_count": 28,
      "outputs": [
        {
          "output_type": "stream",
          "text": [
            "_________________________________________________________________\n",
            "Layer (type)                 Output Shape              Param #   \n",
            "=================================================================\n",
            "input_10 (InputLayer)        (None, 11915)             0         \n",
            "_________________________________________________________________\n",
            "dense_19 (Dense)             (None, 100)               1191600   \n",
            "_________________________________________________________________\n",
            "dense_20 (Dense)             (None, 46)                4646      \n",
            "=================================================================\n",
            "Total params: 1,196,246\n",
            "Trainable params: 1,196,246\n",
            "Non-trainable params: 0\n",
            "_________________________________________________________________\n"
          ],
          "name": "stdout"
        }
      ]
    },
    {
      "cell_type": "markdown",
      "metadata": {
        "id": "6uUiA8o4Ldo2",
        "colab_type": "text"
      },
      "source": [
        "Now that we have specified our model, we can fit it to our data."
      ]
    },
    {
      "cell_type": "code",
      "metadata": {
        "id": "7EtKB0j8Ldo3",
        "colab_type": "code",
        "outputId": "8aad4804-03c5-419b-cb6f-0f73488ece2f",
        "colab": {
          "base_uri": "https://localhost:8080/",
          "height": 218
        }
      },
      "source": [
        "# x - the training input to our model\n",
        "# y - the training ouput for our model\n",
        "# batch_size - the number of training examples we use for each gradient update\n",
        "# epochs - the number of full cycles through the training data\n",
        "# validation_data - the data we evaluate the model on at the end of each epoch\n",
        "model.fit(x=X_train, y=y_train,\n",
        "          validation_data=(X_valid, y_valid),\n",
        "          batch_size=32, epochs=5)"
      ],
      "execution_count": 29,
      "outputs": [
        {
          "output_type": "stream",
          "text": [
            "Train on 18681 samples, validate on 9032 samples\n",
            "Epoch 1/5\n",
            "18681/18681 [==============================] - 4s 236us/step - loss: 1.6982 - acc: 0.6177 - val_loss: 1.0206 - val_acc: 0.7525\n",
            "Epoch 2/5\n",
            "18681/18681 [==============================] - 4s 206us/step - loss: 0.7213 - acc: 0.8214 - val_loss: 0.8953 - val_acc: 0.7618\n",
            "Epoch 3/5\n",
            "18681/18681 [==============================] - 4s 201us/step - loss: 0.4435 - acc: 0.8887 - val_loss: 0.9015 - val_acc: 0.7601\n",
            "Epoch 4/5\n",
            "18681/18681 [==============================] - 4s 203us/step - loss: 0.2946 - acc: 0.9297 - val_loss: 0.9494 - val_acc: 0.7575\n",
            "Epoch 5/5\n",
            "18681/18681 [==============================] - 4s 206us/step - loss: 0.2048 - acc: 0.9531 - val_loss: 1.0083 - val_acc: 0.7482\n"
          ],
          "name": "stdout"
        },
        {
          "output_type": "execute_result",
          "data": {
            "text/plain": [
              "<keras.callbacks.History at 0x7fd2fe55f7f0>"
            ]
          },
          "metadata": {
            "tags": []
          },
          "execution_count": 29
        }
      ]
    },
    {
      "cell_type": "markdown",
      "metadata": {
        "id": "KjRDv4XJLdo9",
        "colab_type": "text"
      },
      "source": [
        "What's going on? It's just gradient descent, the same algorithm we used to calculate the parameters of our models before. The main difference is that Keras is now showing us lots of intermediate outputs. In particular, you can see how the loss of the model changes as we grab a new batch of training examples, calculate the loss, and then update the weights. When we get to the end of each epoch you see Keras calculate the accuracy of the model on the validation data set. We do this so we know when to stop training our model, i.e. when the validation performance starts going down it's time to stop because our model is overfitting to the training data. We can plot the pattern below."
      ]
    },
    {
      "cell_type": "code",
      "metadata": {
        "id": "99rjV928Ldo-",
        "colab_type": "code",
        "outputId": "eb3b6e08-f444-4031-bb58-a526ca452818",
        "colab": {
          "base_uri": "https://localhost:8080/",
          "height": 300
        }
      },
      "source": [
        "from matplotlib import pyplot as plt\n",
        "\n",
        "plt.xlabel('epoch')\n",
        "plt.ylabel('validation accuracy')\n",
        "plt.plot(model.history.history['val_acc'])"
      ],
      "execution_count": 30,
      "outputs": [
        {
          "output_type": "execute_result",
          "data": {
            "text/plain": [
              "[<matplotlib.lines.Line2D at 0x7fd37dfe4a58>]"
            ]
          },
          "metadata": {
            "tags": []
          },
          "execution_count": 30
        },
        {
          "output_type": "display_data",
          "data": {
            "image/png": "[encoded data removed]",
            "text/plain": [
              "<Figure size 432x288 with 1 Axes>"
            ]
          },
          "metadata": {
            "tags": []
          }
        }
      ]
    },
    {
      "cell_type": "markdown",
      "metadata": {
        "id": "-AzPxtC4LdpC",
        "colab_type": "text"
      },
      "source": [
        "This is a popular technique for determining how long to train neural networks because neural networks tend to be heavily over-parameterized, if you train them for long enough they can pften overfit the training data very easily.\n",
        "\n",
        "# Using the Model\n",
        "As with scikit-learn models, we can generate the predictions and save them to a dataframe."
      ]
    },
    {
      "cell_type": "code",
      "metadata": {
        "id": "uKiqQAz8LdpD",
        "colab_type": "code",
        "outputId": "3d6ced53-6c75-48f6-ef44-71a8a047fc9a",
        "colab": {
          "base_uri": "https://localhost:8080/",
          "height": 585
        }
      },
      "source": [
        "# get the [n_cases, n_classes] predicted probability matrix\n",
        "prediction_prob_matrix = model.predict(X_valid)\n",
        "# get the classes with the highest predicted probability, save them to our dataframe\n",
        "df_valid['PREDICTED_PART'] = label_encoder.inverse_transform(prediction_prob_matrix)\n",
        "# add the predicted probabilities\n",
        "df_valid['PREDICTED_PROB'] = prediction_prob_matrix.max(axis=1)\n",
        "# take a look at what we've got\n",
        "df_valid.head()"
      ],
      "execution_count": 31,
      "outputs": [
        {
          "output_type": "execute_result",
          "data": {
            "text/html": [
              "<div>\n",
              "<style scoped>\n",
              "    .dataframe tbody tr th:only-of-type {\n",
              "        vertical-align: middle;\n",
              "    }\n",
              "\n",
              "    .dataframe tbody tr th {\n",
              "        vertical-align: top;\n",
              "    }\n",
              "\n",
              "    .dataframe thead th {\n",
              "        text-align: right;\n",
              "    }\n",
              "</style>\n",
              "<table border=\"1\" class=\"dataframe\">\n",
              "  <thead>\n",
              "    <tr style=\"text-align: right;\">\n",
              "      <th></th>\n",
              "      <th>ACCIDENT_DT</th>\n",
              "      <th>FIPS_STATE_CD</th>\n",
              "      <th>INJ_BODY_PART</th>\n",
              "      <th>INJ_BODY_PART_CD</th>\n",
              "      <th>MINE_ID</th>\n",
              "      <th>NARRATIVE</th>\n",
              "      <th>ACCIDENT_YEAR</th>\n",
              "      <th>PREDICTED_PART</th>\n",
              "      <th>PREDICTED_PROB</th>\n",
              "    </tr>\n",
              "  </thead>\n",
              "  <tbody>\n",
              "    <tr>\n",
              "      <th>2</th>\n",
              "      <td>2012-08-20</td>\n",
              "      <td>24</td>\n",
              "      <td>HIPS (PELVIS/ORGANS/KIDNEYS/BUTTOCKS)</td>\n",
              "      <td>440</td>\n",
              "      <td>1800761</td>\n",
              "      <td>Employee, parked s/c on grade at 16-Block #3 E...</td>\n",
              "      <td>2012</td>\n",
              "      <td>BACK (MUSCLES/SPINE/S-CORD/TAILBONE)</td>\n",
              "      <td>0.472066</td>\n",
              "    </tr>\n",
              "    <tr>\n",
              "      <th>5</th>\n",
              "      <td>2012-02-21</td>\n",
              "      <td>42</td>\n",
              "      <td>BODY SYSTEMS</td>\n",
              "      <td>600</td>\n",
              "      <td>3600017</td>\n",
              "      <td>Possible heart attack.</td>\n",
              "      <td>2012</td>\n",
              "      <td>BODY SYSTEMS</td>\n",
              "      <td>0.479466</td>\n",
              "    </tr>\n",
              "    <tr>\n",
              "      <th>8</th>\n",
              "      <td>2012-10-03</td>\n",
              "      <td>41</td>\n",
              "      <td>SHOULDERS (COLLARBONE/CLAVICLE/SCAPULA)</td>\n",
              "      <td>450</td>\n",
              "      <td>3503757</td>\n",
              "      <td>Employee was cleaning up plant spillage into a...</td>\n",
              "      <td>2012</td>\n",
              "      <td>BACK (MUSCLES/SPINE/S-CORD/TAILBONE)</td>\n",
              "      <td>0.537666</td>\n",
              "    </tr>\n",
              "    <tr>\n",
              "      <th>12</th>\n",
              "      <td>2012-01-23</td>\n",
              "      <td>17</td>\n",
              "      <td>FINGER(S)/THUMB</td>\n",
              "      <td>340</td>\n",
              "      <td>1103189</td>\n",
              "      <td>Employee was putting a drag on a shuttle car, ...</td>\n",
              "      <td>2012</td>\n",
              "      <td>FINGER(S)/THUMB</td>\n",
              "      <td>0.999997</td>\n",
              "    </tr>\n",
              "    <tr>\n",
              "      <th>27</th>\n",
              "      <td>2012-05-10</td>\n",
              "      <td>42</td>\n",
              "      <td>HAND (NOT WRIST OR FINGERS)</td>\n",
              "      <td>330</td>\n",
              "      <td>4600016</td>\n",
              "      <td>While using a cutting torch to remove a bearin...</td>\n",
              "      <td>2012</td>\n",
              "      <td>HAND (NOT WRIST OR FINGERS)</td>\n",
              "      <td>0.913539</td>\n",
              "    </tr>\n",
              "  </tbody>\n",
              "</table>\n",
              "</div>"
            ],
            "text/plain": [
              "   ACCIDENT_DT  ...  PREDICTED_PROB\n",
              "2   2012-08-20  ...        0.472066\n",
              "5   2012-02-21  ...        0.479466\n",
              "8   2012-10-03  ...        0.537666\n",
              "12  2012-01-23  ...        0.999997\n",
              "27  2012-05-10  ...        0.913539\n",
              "\n",
              "[5 rows x 9 columns]"
            ]
          },
          "metadata": {
            "tags": []
          },
          "execution_count": 31
        }
      ]
    },
    {
      "cell_type": "markdown",
      "metadata": {
        "id": "tcI2qU3ILdpG",
        "colab_type": "text"
      },
      "source": [
        "# Regularization\n",
        "\n",
        "Even more so than linear models, neural networks suffer from overfitting. Because they have such a large number of parameters they can easily memorize the data they are trained on. We can use L2-regularization, as we did with our logistic regression models, but for neural networks another popular technique is called `dropout`. In dropout we randomly set the outputs of a fraction of neurons, at each training step, to 0. A popular choice is 50%. This has a strong regularization effect that often improves overall performance. Let's try it out."
      ]
    },
    {
      "cell_type": "code",
      "metadata": {
        "id": "Y1LMKxLcLdpH",
        "colab_type": "code",
        "outputId": "b6b06224-3a17-4c0e-87d4-5ff2804b7955",
        "colab": {
          "base_uri": "https://localhost:8080/",
          "height": 218
        }
      },
      "source": [
        "text_input = Input(shape=(X_train.shape[1],))\n",
        "layer1 = Dense(units=100, activation='relu')(text_input)\n",
        "dropout = Dropout(0.5)(layer1)\n",
        "output = Dense(units=len(label_encoder.classes_), activation='softmax')(dropout)\n",
        "# specify the inputs and outputs of our model\n",
        "# input is the raw text features\n",
        "# output is the predicted probabilities\n",
        "do_model = Model(inputs=[text_input], outputs=[output])\n",
        "# specify the algorithm for calculating weights 'adam'\n",
        "# specify the loss function 'categorical_crossentropy'\n",
        "# specify the validation metrics we will calculate after each epoch\n",
        "optimizer = Adam(lr=.001)\n",
        "do_model.compile(optimizer=optimizer, \n",
        "                loss='categorical_crossentropy', \n",
        "                metrics=['accuracy'])\n",
        "\n",
        "do_model.fit(x=X_train, y=y_train,\n",
        "            validation_data=(X_valid, y_valid),\n",
        "            batch_size=32, epochs=5)"
      ],
      "execution_count": 33,
      "outputs": [
        {
          "output_type": "stream",
          "text": [
            "Train on 18681 samples, validate on 9032 samples\n",
            "Epoch 1/5\n",
            "18681/18681 [==============================] - 5s 251us/step - loss: 2.0095 - acc: 0.5374 - val_loss: 1.1839 - val_acc: 0.7273\n",
            "Epoch 2/5\n",
            "18681/18681 [==============================] - 4s 214us/step - loss: 1.0570 - acc: 0.7455 - val_loss: 0.9258 - val_acc: 0.7683\n",
            "Epoch 3/5\n",
            "18681/18681 [==============================] - 4s 214us/step - loss: 0.7745 - acc: 0.8032 - val_loss: 0.8588 - val_acc: 0.7723\n",
            "Epoch 4/5\n",
            "18681/18681 [==============================] - 4s 213us/step - loss: 0.6129 - acc: 0.8421 - val_loss: 0.8515 - val_acc: 0.7706\n",
            "Epoch 5/5\n",
            "18681/18681 [==============================] - 4s 213us/step - loss: 0.5014 - acc: 0.8700 - val_loss: 0.8540 - val_acc: 0.7721\n"
          ],
          "name": "stdout"
        },
        {
          "output_type": "execute_result",
          "data": {
            "text/plain": [
              "<keras.callbacks.History at 0x7fd37eb7c5c0>"
            ]
          },
          "metadata": {
            "tags": []
          },
          "execution_count": 33
        }
      ]
    },
    {
      "cell_type": "code",
      "metadata": {
        "id": "QEdr0St1LdpK",
        "colab_type": "code",
        "outputId": "0f8b9153-5726-4352-b34b-3a29bec798fc",
        "colab": {
          "base_uri": "https://localhost:8080/",
          "height": 300
        }
      },
      "source": [
        "plt.ylabel('validation accuracy')\n",
        "plt.xlabel('epoch')\n",
        "plt.plot(do_model.history.history['val_acc'], label='with dropout')\n",
        "plt.plot(model.history.history['val_acc'], label='without dropout')\n",
        "plt.legend()"
      ],
      "execution_count": 34,
      "outputs": [
        {
          "output_type": "execute_result",
          "data": {
            "text/plain": [
              "<matplotlib.legend.Legend at 0x7fd37e84def0>"
            ]
          },
          "metadata": {
            "tags": []
          },
          "execution_count": 34
        },
        {
          "output_type": "display_data",
          "data": {
            "image/png": "[encoded data removed]",
            "text/plain": [
              "<Figure size 432x288 with 1 Axes>"
            ]
          },
          "metadata": {
            "tags": []
          }
        }
      ]
    },
    {
      "cell_type": "markdown",
      "metadata": {
        "id": "eDu8JeZrLdpQ",
        "colab_type": "text"
      },
      "source": [
        "As you can see, adding dropout improved the overall performance of our model and decreased overfitting."
      ]
    },
    {
      "cell_type": "markdown",
      "metadata": {
        "id": "y4mQC6oynGaT",
        "colab_type": "text"
      },
      "source": [
        "# Uncertainty Estimates and \"Bayesian Neural Networks\"\n",
        "Our model already us estimates of uncertainty about classifications in the form of probability values, but can it also give us estimates of uncertainty in its probability predictions? [Yarin Gal and collaborators](https://arxiv.org/pdf/1506.02142.pdf) show that it can because training a neural network with dropout is equivalent to approximate Bayesian inference in a deep Gaussian process. To estimate the uncertainty of these predictions all we need to do is sample from the distribution by leaving dropout on while generating predictions. We illustrate this below:"
      ]
    },
    {
      "cell_type": "code",
      "metadata": {
        "id": "MN1HZSEbndDI",
        "colab_type": "code",
        "colab": {}
      },
      "source": [
        "import numpy as np\n",
        "\n",
        "# turn training mode on in our dropout layer\n",
        "dropout.training = True\n",
        "# reassemble the model\n",
        "do_model = Model(inputs=[text_input], outputs=[output])\n",
        "\n",
        "\n",
        "# sample predictions from our model\n",
        "y_probas = np.stack([do_model.predict(X_valid) for sample in range(100)])\n",
        "# recover the \"best predictions\" by averaging over the predicted probabilities\n",
        "y_prob = y_probas.mean(axis=0)\n",
        "# we can also recover the standard deviations\n",
        "y_std = y_probas.std(axis=0)"
      ],
      "execution_count": 0,
      "outputs": []
    },
    {
      "cell_type": "code",
      "metadata": {
        "id": "YQfZrXKU0-Jz",
        "colab_type": "code",
        "colab": {
          "base_uri": "https://localhost:8080/",
          "height": 343
        },
        "outputId": "55b28bf1-84a7-482b-d31b-ce73b9c379cf"
      },
      "source": [
        "df_valid['BAYES_PRED'] = label_encoder.inverse_transform(y_prob)\n",
        "df_valid['BAYES_PROB'] = y_prob.max(axis=1)\n",
        "df_valid[['PREDICTED_PART', 'PREDICTED_PROB', 'BAYES_PRED', 'BAYES_PROB']].sample(10)"
      ],
      "execution_count": 50,
      "outputs": [
        {
          "output_type": "execute_result",
          "data": {
            "text/html": [
              "<div>\n",
              "<style scoped>\n",
              "    .dataframe tbody tr th:only-of-type {\n",
              "        vertical-align: middle;\n",
              "    }\n",
              "\n",
              "    .dataframe tbody tr th {\n",
              "        vertical-align: top;\n",
              "    }\n",
              "\n",
              "    .dataframe thead th {\n",
              "        text-align: right;\n",
              "    }\n",
              "</style>\n",
              "<table border=\"1\" class=\"dataframe\">\n",
              "  <thead>\n",
              "    <tr style=\"text-align: right;\">\n",
              "      <th></th>\n",
              "      <th>PREDICTED_PART</th>\n",
              "      <th>PREDICTED_PROB</th>\n",
              "      <th>BAYES_PRED</th>\n",
              "      <th>BAYES_PROB</th>\n",
              "    </tr>\n",
              "  </thead>\n",
              "  <tbody>\n",
              "    <tr>\n",
              "      <th>4490</th>\n",
              "      <td>HAND (NOT WRIST OR FINGERS)</td>\n",
              "      <td>0.813552</td>\n",
              "      <td>HAND (NOT WRIST OR FINGERS)</td>\n",
              "      <td>0.787618</td>\n",
              "    </tr>\n",
              "    <tr>\n",
              "      <th>38504</th>\n",
              "      <td>SHOULDERS (COLLARBONE/CLAVICLE/SCAPULA)</td>\n",
              "      <td>0.988725</td>\n",
              "      <td>SHOULDERS (COLLARBONE/CLAVICLE/SCAPULA)</td>\n",
              "      <td>0.991683</td>\n",
              "    </tr>\n",
              "    <tr>\n",
              "      <th>30755</th>\n",
              "      <td>BACK (MUSCLES/SPINE/S-CORD/TAILBONE)</td>\n",
              "      <td>0.923062</td>\n",
              "      <td>BACK (MUSCLES/SPINE/S-CORD/TAILBONE)</td>\n",
              "      <td>0.714240</td>\n",
              "    </tr>\n",
              "    <tr>\n",
              "      <th>32691</th>\n",
              "      <td>FOOT(NOT ANKLE/TOE)/TARSUS/METATARSUS</td>\n",
              "      <td>0.295573</td>\n",
              "      <td>BODY SYSTEMS</td>\n",
              "      <td>0.168635</td>\n",
              "    </tr>\n",
              "    <tr>\n",
              "      <th>9935</th>\n",
              "      <td>KNEE/PATELLA</td>\n",
              "      <td>0.971161</td>\n",
              "      <td>KNEE/PATELLA</td>\n",
              "      <td>0.939054</td>\n",
              "    </tr>\n",
              "    <tr>\n",
              "      <th>27804</th>\n",
              "      <td>HAND (NOT WRIST OR FINGERS)</td>\n",
              "      <td>0.720019</td>\n",
              "      <td>HAND (NOT WRIST OR FINGERS)</td>\n",
              "      <td>0.413574</td>\n",
              "    </tr>\n",
              "    <tr>\n",
              "      <th>18404</th>\n",
              "      <td>FINGER(S)/THUMB</td>\n",
              "      <td>0.999758</td>\n",
              "      <td>FINGER(S)/THUMB</td>\n",
              "      <td>0.998149</td>\n",
              "    </tr>\n",
              "    <tr>\n",
              "      <th>13665</th>\n",
              "      <td>MOUTH/LIP/TEETH/TONGUE/THROAT/TASTE</td>\n",
              "      <td>0.674352</td>\n",
              "      <td>MOUTH/LIP/TEETH/TONGUE/THROAT/TASTE</td>\n",
              "      <td>0.738358</td>\n",
              "    </tr>\n",
              "    <tr>\n",
              "      <th>14023</th>\n",
              "      <td>THIGH/FEMUR</td>\n",
              "      <td>0.981668</td>\n",
              "      <td>THIGH/FEMUR</td>\n",
              "      <td>0.702443</td>\n",
              "    </tr>\n",
              "    <tr>\n",
              "      <th>18097</th>\n",
              "      <td>MULTIPLE PARTS (MORE THAN ONE MAJOR)</td>\n",
              "      <td>0.607771</td>\n",
              "      <td>MULTIPLE PARTS (MORE THAN ONE MAJOR)</td>\n",
              "      <td>0.459034</td>\n",
              "    </tr>\n",
              "  </tbody>\n",
              "</table>\n",
              "</div>"
            ],
            "text/plain": [
              "                                PREDICTED_PART  ...  BAYES_PROB\n",
              "4490               HAND (NOT WRIST OR FINGERS)  ...    0.787618\n",
              "38504  SHOULDERS (COLLARBONE/CLAVICLE/SCAPULA)  ...    0.991683\n",
              "30755     BACK (MUSCLES/SPINE/S-CORD/TAILBONE)  ...    0.714240\n",
              "32691    FOOT(NOT ANKLE/TOE)/TARSUS/METATARSUS  ...    0.168635\n",
              "9935                              KNEE/PATELLA  ...    0.939054\n",
              "27804              HAND (NOT WRIST OR FINGERS)  ...    0.413574\n",
              "18404                          FINGER(S)/THUMB  ...    0.998149\n",
              "13665      MOUTH/LIP/TEETH/TONGUE/THROAT/TASTE  ...    0.738358\n",
              "14023                              THIGH/FEMUR  ...    0.702443\n",
              "18097     MULTIPLE PARTS (MORE THAN ONE MAJOR)  ...    0.459034\n",
              "\n",
              "[10 rows x 4 columns]"
            ]
          },
          "metadata": {
            "tags": []
          },
          "execution_count": 50
        }
      ]
    },
    {
      "cell_type": "code",
      "metadata": {
        "id": "QrzFaYzv2Och",
        "colab_type": "code",
        "colab": {
          "base_uri": "https://localhost:8080/",
          "height": 138
        },
        "outputId": "f210da3d-dbb8-44b2-b0ff-3c3f8d11d7c8"
      },
      "source": [
        "from sklearn.metrics import accuracy_score, f1_score\n",
        "\n",
        "bayes_acc = accuracy_score(df_valid['INJ_BODY_PART'], df_valid['BAYES_PRED'])\n",
        "normal_acc = accuracy_score(df_valid['INJ_BODY_PART'], df_valid['PREDICTED_PART'])\n",
        "bayes_mf1 = f1_score(df_valid['INJ_BODY_PART'], df_valid['BAYES_PRED'], average='macro')\n",
        "normal_mf1 = f1_score(df_valid['INJ_BODY_PART'], df_valid['PREDICTED_PART'], average='macro')\n",
        "print(f'orig acc: {normal_acc:.3f}')\n",
        "print(f'bayes acc: {bayes_acc:.3f}')\n",
        "print(f'orig macro f1: {normal_mf1:.3f}')\n",
        "print(f'bayes macro f1: {bayes_mf1:.3f}')"
      ],
      "execution_count": 54,
      "outputs": [
        {
          "output_type": "stream",
          "text": [
            "orig acc: 0.748\n",
            "bayes acc: 0.772\n",
            "orig macro f1: 0.541\n",
            "bayes macro f1: 0.547\n"
          ],
          "name": "stdout"
        },
        {
          "output_type": "stream",
          "text": [
            "/usr/local/lib/python3.6/dist-packages/sklearn/metrics/classification.py:1437: UndefinedMetricWarning: F-score is ill-defined and being set to 0.0 in labels with no predicted samples.\n",
            "  'precision', 'predicted', average, warn_for)\n"
          ],
          "name": "stderr"
        }
      ]
    },
    {
      "cell_type": "markdown",
      "metadata": {
        "id": "_8TSffbgv_py",
        "colab_type": "text"
      },
      "source": [
        ""
      ]
    },
    {
      "cell_type": "markdown",
      "metadata": {
        "collapsed": true,
        "id": "PGpqI_-_LdpQ",
        "colab_type": "text"
      },
      "source": [
        "# When and why do deep neural networks work?\n",
        "It's still a mystery, but hints are starting to emerge. For example, [[1]](https://arxiv.org/pdf/1608.08225.pdf) points out that hierarchical and compositional relationships are very common in nature and deep neural networks can represent these relationships with exponentially fewer parameters than shallow networks (linear models). It can also be shown that neural networks are universal function approximators, in other words they can approximate any relationship between inputs and outputs to any degree of precision. \n",
        "\n",
        "In general, deep neural networks seem to work best on tasks where the input contains large amounts of extraneous noise, such as image and speech understanding (not math or logic). "
      ]
    },
    {
      "cell_type": "markdown",
      "metadata": {
        "id": "3FerKuE__12Q",
        "colab_type": "text"
      },
      "source": [
        "# Next Lesson\n",
        "\n",
        "[Convolutional Neural Networks](https://colab.research.google.com/drive/1Bck3x0znv61uDSkZIT5pAdO_oyWaUPup)"
      ]
    },
    {
      "cell_type": "code",
      "metadata": {
        "id": "uD_IolOG_uem",
        "colab_type": "code",
        "colab": {}
      },
      "source": [
        ""
      ],
      "execution_count": 0,
      "outputs": []
    }
  ]
}