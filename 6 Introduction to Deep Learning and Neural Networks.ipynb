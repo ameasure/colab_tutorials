{
 "cells": [
  {
   "cell_type": "code",
   "execution_count": 1,
   "metadata": {},
   "outputs": [],
   "source": [
    "%matplotlib inline"
   ]
  },
  {
   "cell_type": "markdown",
   "metadata": {},
   "source": [
    "# Deep Learning and Neural Networks\n",
    "\n",
    "Deep learning is a subfield of machine learning that seeks to solve problems by learning intermediate data representations. The primary algorithm for deep learning is the deep neural network, and if you've been following developments in Artificial Intelligence over the last decade you have probably heard a lot about them. Among its many recent accomplishments, deep learning techniques are now directly responsible the recent and very dramatic advances in image recognition, speech recognition, and language understanding.\n",
    "\n",
    "Unfortunately, as you will soon see, deep neural networks also much more difficult to build than the models we have seen so far in class. Among the many challenges:\n",
    "1) Deep neural networks often require extraordinary amounts of computation\n",
    "2) Effective training of deep neural networks often relies on a wide variety of poorly understood heuristics\n",
    "3) Deep neural networks tends to have a much larger number of hyperparameters requiring expert tuning\n",
    "\n",
    "We can only partially address the first problem in this class. Specifically, BLS now has a small number of Titan X GPU's (Graphical Processing Units). A GPU is basically a very cheap super-computer, optimized for linear algebra operations, and the Titan X's are among the best available. Each contains several thousand simple computers with ultra-fast memory interfaces between them so they can rapidly exchange and aggregate information. Even if you had the budget for it, you could not replicate this performance with thousands of traditional computer processing units. \n",
    "\n",
    "We will be using these GPU's for our experiments. If you wish to train deep neural networks outside of BLS, Google makes free GPU's available through [Google Colab](https://colab.research.google.com/). GPU's are also relatively affordable, a good buying guide for deep learning applications is available [here](https://blog.slavv.com/picking-a-gpu-for-deep-learning-3d4795c273b9). You are also free to try training neural networks without GPU acceleration, but be warned, unless you are building something very simple, you will be waiting a long time.\n",
    "\n",
    "One consequence of the deep neural networks' exotic hardware needs is that we will also need new software capable of using that hardware. We will use Google's `tensorflow` library, which is the most popular tool for training deep neural networks. We will also be using the `keras` library, which is a simplified interface on top of tensorflow. A reasonable alternative is Facebook's `PyTorch` library, but we will not cover that in this class.\n",
    "\n",
    "# What is a deep neural network?\n",
    "\n",
    "A deep neural network is just an extension of logistic regression, which itself is just an extension of linear regression. Recall the basic equation for a simple linear regression. If the inputs are represented by the variables $x_1, x_2, ..., x_i$, and the weights controlling the influence of these inputs is represented by $w_1, w_2, ..., w_i$ then the equation for linear regression is:\n",
    "\n",
    "$y=w_1x_1 + w_2x_2 + ... + w_ix_i$\n",
    "\n",
    "As we saw in logistic regression, we can modify this one step further, by passing the entire output through the logistic function $f(z)=\\frac{1}{1+e^{-z}}$. This has the effect of contraining the output to be between 0 and 1. Our equation now becomes:\n",
    "\n",
    "$y=f(w_1x_1 + w_2x_2 + ... + w_ix_i)$\n",
    "\n",
    "If we draw this in graphical form, with three inputs, it resembles the following:\n",
    "![logistic regression](Images/artificial neuron.png)\n",
    "\n",
    "From this perspective, logistic regression shares some similarities with the biological neuron. Like a biological neuron, logistic regression receives inputs from a variety of sources. Like a biological neuron, the influence of these inputs seems to be controlled by the strengths of the connections (represented by weights, in logistic regression). And like a biological neuron, the logistic regression uses this information to produce an output. Hence, an alternate interpretation of logistic regression, the artificial neuron. In neural network speak, this neuron has 4 key components:\n",
    "* three inputs ($x_1, x_2, x_3$)\n",
    "* three weights ($w_1, w_2, w_3$)\n",
    "* an acitivation function ($f(w,x)$, in this case the `logistic` function)\n",
    "* an output (a.k.a. activation) ($y$)\n",
    "\n",
    "Logistic regression does not, of course, acquire any magical new powers by simply changing its name. But interesting things start to happen as we extend our metaphor. What happens when we start connecting these artificial neurons to other artificial neurons, i.e. using the outputs of some neurons and inputs to others? \n",
    "\n",
    "Although we can connect our neural networks in all sorts of patterns, for computational convenience it is common to organize our artificial neurons into layers, and design our neural network by describing how our various layers connect to each other.\n",
    "\n",
    "This might sound exotic, but in fact we have already worked with a layer of artificial neurons, we just didn't know it. A single layer of artificial neurons in which each neuron is connected to all inputs and each uses the multinomial logistic function is exactly equivalent to the multinomial logistic regression we have used so extensively in this class. We will soon see however, that by connecting these layers to other layers, we can address a wide variety of issues we struggled with before. One thing that does not change however, is the fundamental process by which we calculate the weights of artificla neural network. We still use gradient descent, specifically the following algorithm:\n",
    "1. Randomly initialize the weights of our neurons to small values.\n",
    "2. Choose a loss function (some measure of how poorly our model is predicting the training data)\n",
    "3. Calculate the model's loss on the training data\n",
    "4. Update the weights in the direction that reduces loss (using calculus)\n",
    "5. Repeat steps 3 and 4 until we're happy with the network's performance\n",
    "\n",
    "\n",
    "# Feed Forward Neural Network\n",
    "Enough talk, lets start by building one of the simplest possible neural networks, a feed forward neural network with 1 hidden layer and 1 output layer. Visually, this resembles the following (but with more neurons in each layer).\n",
    "![neural_network](Images/feed_forward_network_wikipedia_300px.png)"
   ]
  },
  {
   "cell_type": "markdown",
   "metadata": {},
   "source": [
    "### Preparing the data\n",
    "We'll use our msha data to train our first neural network. The process of preparing the training data is mostly similar to the process we used for scikit-learn, with one key difference. Unlike scikit-learn, Keras requires the outputs (the y-values) to be in matrix format where each row corresponds to a training example, each column corresponds to a part-of-body-code, and the column containing the correct code has a value of 1 and the others have a value of 0. Scikit-learn constructed this matrix for us behind the scenes automatically. We can easily perform the same operation for Keras using scikit-learn's LabelBinarizer."
   ]
  },
  {
   "cell_type": "code",
   "execution_count": 2,
   "metadata": {},
   "outputs": [],
   "source": [
    "from sklearn.feature_extraction.text import CountVectorizer\n",
    "from sklearn.preprocessing import LabelBinarizer\n",
    "\n",
    "import pandas as pd\n",
    "\n",
    "# read in our training data\n",
    "df_train = pd.read_hdf('Data/msha_2010-2011.h5')\n",
    "# read in our validation data\n",
    "df_valid = pd.read_hdf('Data/msha_2012.h5')\n",
    "\n",
    "# create bag of words features\n",
    "vectorizer = CountVectorizer()\n",
    "vectorizer.fit(df_train['NARRATIVE'])\n",
    "X_train = vectorizer.transform(df_train['NARRATIVE'])\n",
    "X_valid = vectorizer.transform(df_valid['NARRATIVE'])\n",
    "\n",
    "# keras only accepts a one-hot encoding of the training labels\n",
    "# we do that here\n",
    "label_encoder = LabelBinarizer().fit(df_train['INJ_BODY_PART'])\n",
    "y_train = label_encoder.transform(df_train['INJ_BODY_PART'])\n",
    "y_valid = label_encoder.transform(df_valid['INJ_BODY_PART'])\n",
    "n_codes = len(label_encoder.classes_)"
   ]
  },
  {
   "cell_type": "code",
   "execution_count": 3,
   "metadata": {},
   "outputs": [
    {
     "name": "stdout",
     "output_type": "stream",
     "text": [
      "(18681, 11915)\n",
      "(18681, 46)\n",
      "[0 0 0 0 0 0 0 0 0 0 0 0 0 0 0 0 0 0 0 0 0 0 0 0 0 0 0 0 0 0 0 0 0 0 0 1 0\n",
      " 0 0 0 0 0 0 0 0 0]\n"
     ]
    }
   ],
   "source": [
    "print(X_train.shape)\n",
    "print(y_train.shape)\n",
    "print(y_train[0])"
   ]
  },
  {
   "cell_type": "markdown",
   "metadata": {},
   "source": [
    "Define the organization of our neural network"
   ]
  },
  {
   "cell_type": "code",
   "execution_count": 4,
   "metadata": {},
   "outputs": [
    {
     "name": "stderr",
     "output_type": "stream",
     "text": [
      "Using TensorFlow backend.\n"
     ]
    }
   ],
   "source": [
    "from keras.models import Model\n",
    "from keras.layers import Dense, Input, Dropout\n",
    "from keras.optimizers import Adam\n",
    "\n",
    "# First, we create an input layer. This tells keras\n",
    "# what the input data will look like. Specifically, that\n",
    "# the input will contain the same number of columns\n",
    "# as the X_train matrix (i.e. the number of features)\n",
    "text_input = Input(shape=(X_train.shape[1],))\n",
    "# Next, we create the first hidden layer. \n",
    "# Dense means every neuron in this layer is connected to every input\n",
    "# units specifies the number of artificial neurons in this layer\n",
    "# activation indicates the activation function that will be used on each neuron\n",
    "# (text_input) indicates that the layer uses output of the text_input layer as its input\n",
    "layer1 = Dense(units=100, activation='relu')(text_input)\n",
    "# Now we specify the ouput layer\n",
    "# it contains one neuron for each part of body code (we want predctions for these)\n",
    "# each neuron uses the softmax activation so that the outputs mimic probabilities\n",
    "output = Dense(units=n_codes, activation='softmax')(layer1)\n",
    "\n",
    "# Finally, we tell Keras which layers are the inputs and outputs of our model\n",
    "model = Model(inputs=[text_input], outputs=[output])\n",
    "\n",
    "# We then tell Keras how we plan to fit the model\n",
    "# optimizer - specifies the algorithm we will use to update the model weights\n",
    "#   specifically, we use a variant of gradient descent called Adam\n",
    "#   with a learning rate of .001\n",
    "# loss - specifices the loss function we will use when updating weights\n",
    "# metrics - specifies the validation metrics we will calculate after each epoch\n",
    "optimizer = Adam(lr=.001)\n",
    "model.compile(optimizer=optimizer, \n",
    "              loss='categorical_crossentropy', \n",
    "              metrics=['accuracy'])"
   ]
  },
  {
   "cell_type": "markdown",
   "metadata": {},
   "source": [
    "Examine the model."
   ]
  },
  {
   "cell_type": "code",
   "execution_count": 5,
   "metadata": {},
   "outputs": [
    {
     "name": "stdout",
     "output_type": "stream",
     "text": [
      "_________________________________________________________________\n",
      "Layer (type)                 Output Shape              Param #   \n",
      "=================================================================\n",
      "input_1 (InputLayer)         (None, 11915)             0         \n",
      "_________________________________________________________________\n",
      "dense_1 (Dense)              (None, 100)               1191600   \n",
      "_________________________________________________________________\n",
      "dense_2 (Dense)              (None, 46)                4646      \n",
      "=================================================================\n",
      "Total params: 1,196,246\n",
      "Trainable params: 1,196,246\n",
      "Non-trainable params: 0\n",
      "_________________________________________________________________\n"
     ]
    }
   ],
   "source": [
    "model.summary()"
   ]
  },
  {
   "cell_type": "markdown",
   "metadata": {},
   "source": [
    "Now that we have specified our model, we can fit it to our data."
   ]
  },
  {
   "cell_type": "code",
   "execution_count": 6,
   "metadata": {},
   "outputs": [
    {
     "name": "stdout",
     "output_type": "stream",
     "text": [
      "Train on 18681 samples, validate on 9032 samples\n",
      "Epoch 1/5\n",
      "18681/18681 [==============================] - 5s 279us/step - loss: 1.6904 - acc: 0.6231 - val_loss: 1.0246 - val_acc: 0.7527\n",
      "Epoch 2/5\n",
      "18681/18681 [==============================] - 3s 147us/step - loss: 0.7200 - acc: 0.8224 - val_loss: 0.9024 - val_acc: 0.7618\n",
      "Epoch 3/5\n",
      "18681/18681 [==============================] - 3s 146us/step - loss: 0.4405 - acc: 0.8904 - val_loss: 0.8949 - val_acc: 0.7627\n",
      "Epoch 4/5\n",
      "18681/18681 [==============================] - 3s 146us/step - loss: 0.2902 - acc: 0.9308 - val_loss: 0.9333 - val_acc: 0.7587\n",
      "Epoch 5/5\n",
      "18681/18681 [==============================] - 3s 146us/step - loss: 0.2006 - acc: 0.9533 - val_loss: 1.0042 - val_acc: 0.7497\n"
     ]
    },
    {
     "data": {
      "text/plain": [
       "<keras.callbacks.History at 0x7f2b37d97f98>"
      ]
     },
     "execution_count": 6,
     "metadata": {},
     "output_type": "execute_result"
    }
   ],
   "source": [
    "# x - the training input to our model\n",
    "# y - the training ouput for our model\n",
    "# batch_size - the number of training examples we use for each gradient update\n",
    "# epochs - the number of full cycles through the training data\n",
    "# validation_data - the data we evaluate the model on at the end of each epoch\n",
    "model.fit(x=X_train, y=y_train,\n",
    "          validation_data=(X_valid, y_valid),\n",
    "          batch_size=32, epochs=5)"
   ]
  },
  {
   "cell_type": "markdown",
   "metadata": {},
   "source": [
    "What's going on? It's just gradient descent, the same algorithm we used to calculate the parameters of our models before. The main difference is that Keras is now showing us lots of intermediate outputs. In particular, you can see how the loss of the model changes as we grab a new batch of training examples, calculate the loss, and then update the weights. When we get to the end of each epoch you see Keras calculate the accuracy of the model on the validation data set. We do this so we know when to stop training our model, i.e. when the validation performance starts going down it's time to stop because our model is overfitting to the training data. We can plot the pattern below."
   ]
  },
  {
   "cell_type": "code",
   "execution_count": 7,
   "metadata": {},
   "outputs": [
    {
     "data": {
      "text/plain": [
       "[<matplotlib.lines.Line2D at 0x7f2b3426f940>]"
      ]
     },
     "execution_count": 7,
     "metadata": {},
     "output_type": "execute_result"
    },
    {
     "data": {
      "image/png": "[encoded data removed]",
      "text/plain": [
       "<matplotlib.figure.Figure at 0x7f2b342d35c0>"
      ]
     },
     "metadata": {},
     "output_type": "display_data"
    }
   ],
   "source": [
    "from matplotlib import pyplot as plt\n",
    "\n",
    "plt.xlabel('epoch')\n",
    "plt.ylabel('validation accuracy')\n",
    "plt.plot(model.history.history['val_acc'])"
   ]
  },
  {
   "cell_type": "markdown",
   "metadata": {},
   "source": [
    "This is a popular technique for determining how long to train neural networks because neural networks tend to be heavily over-parameterized, if you train them for long enough they can pften overfit the training data very easily.\n",
    "\n",
    "# Using the Model\n",
    "As with scikit-learn models, we can generate the predictions and save them to a dataframe."
   ]
  },
  {
   "cell_type": "code",
   "execution_count": 8,
   "metadata": {},
   "outputs": [
    {
     "data": {
      "text/html": [
       "<div>\n",
       "<style scoped>\n",
       "    .dataframe tbody tr th:only-of-type {\n",
       "        vertical-align: middle;\n",
       "    }\n",
       "\n",
       "    .dataframe tbody tr th {\n",
       "        vertical-align: top;\n",
       "    }\n",
       "\n",
       "    .dataframe thead th {\n",
       "        text-align: right;\n",
       "    }\n",
       "</style>\n",
       "<table border=\"1\" class=\"dataframe\">\n",
       "  <thead>\n",
       "    <tr style=\"text-align: right;\">\n",
       "      <th></th>\n",
       "      <th>ACCIDENT_DT</th>\n",
       "      <th>FIPS_STATE_CD</th>\n",
       "      <th>INJ_BODY_PART</th>\n",
       "      <th>INJ_BODY_PART_CD</th>\n",
       "      <th>MINE_ID</th>\n",
       "      <th>NARRATIVE</th>\n",
       "      <th>YEAR</th>\n",
       "      <th>PREDICTED_PART</th>\n",
       "      <th>PREDICTED_PROB</th>\n",
       "    </tr>\n",
       "  </thead>\n",
       "  <tbody>\n",
       "    <tr>\n",
       "      <th>2</th>\n",
       "      <td>2012-08-20</td>\n",
       "      <td>24</td>\n",
       "      <td>HIPS (PELVIS/ORGANS/KIDNEYS/BUTTOCKS)</td>\n",
       "      <td>440</td>\n",
       "      <td>1800761</td>\n",
       "      <td>Employee, parked s/c on grade at 16-Block #3 E...</td>\n",
       "      <td>2012</td>\n",
       "      <td>TRUNK, MULTIPLE PARTS</td>\n",
       "      <td>0.213011</td>\n",
       "    </tr>\n",
       "    <tr>\n",
       "      <th>5</th>\n",
       "      <td>2012-02-21</td>\n",
       "      <td>42</td>\n",
       "      <td>BODY SYSTEMS</td>\n",
       "      <td>600</td>\n",
       "      <td>3600017</td>\n",
       "      <td>Possible heart attack.</td>\n",
       "      <td>2012</td>\n",
       "      <td>BODY SYSTEMS</td>\n",
       "      <td>0.533630</td>\n",
       "    </tr>\n",
       "    <tr>\n",
       "      <th>8</th>\n",
       "      <td>2012-10-03</td>\n",
       "      <td>41</td>\n",
       "      <td>SHOULDERS (COLLARBONE/CLAVICLE/SCAPULA)</td>\n",
       "      <td>450</td>\n",
       "      <td>3503757</td>\n",
       "      <td>Employee was cleaning up plant spillage into a...</td>\n",
       "      <td>2012</td>\n",
       "      <td>SHOULDERS (COLLARBONE/CLAVICLE/SCAPULA)</td>\n",
       "      <td>0.608768</td>\n",
       "    </tr>\n",
       "    <tr>\n",
       "      <th>12</th>\n",
       "      <td>2012-01-23</td>\n",
       "      <td>17</td>\n",
       "      <td>FINGER(S)/THUMB</td>\n",
       "      <td>340</td>\n",
       "      <td>1103189</td>\n",
       "      <td>Employee was putting a drag on a shuttle car, ...</td>\n",
       "      <td>2012</td>\n",
       "      <td>FINGER(S)/THUMB</td>\n",
       "      <td>0.999962</td>\n",
       "    </tr>\n",
       "    <tr>\n",
       "      <th>27</th>\n",
       "      <td>2012-05-10</td>\n",
       "      <td>42</td>\n",
       "      <td>HAND (NOT WRIST OR FINGERS)</td>\n",
       "      <td>330</td>\n",
       "      <td>4600016</td>\n",
       "      <td>While using a cutting torch to remove a bearin...</td>\n",
       "      <td>2012</td>\n",
       "      <td>HAND (NOT WRIST OR FINGERS)</td>\n",
       "      <td>0.952120</td>\n",
       "    </tr>\n",
       "  </tbody>\n",
       "</table>\n",
       "</div>"
      ],
      "text/plain": [
       "   ACCIDENT_DT  FIPS_STATE_CD                            INJ_BODY_PART  \\\n",
       "2   2012-08-20             24    HIPS (PELVIS/ORGANS/KIDNEYS/BUTTOCKS)   \n",
       "5   2012-02-21             42                             BODY SYSTEMS   \n",
       "8   2012-10-03             41  SHOULDERS (COLLARBONE/CLAVICLE/SCAPULA)   \n",
       "12  2012-01-23             17                          FINGER(S)/THUMB   \n",
       "27  2012-05-10             42              HAND (NOT WRIST OR FINGERS)   \n",
       "\n",
       "    INJ_BODY_PART_CD  MINE_ID  \\\n",
       "2                440  1800761   \n",
       "5                600  3600017   \n",
       "8                450  3503757   \n",
       "12               340  1103189   \n",
       "27               330  4600016   \n",
       "\n",
       "                                            NARRATIVE  YEAR  \\\n",
       "2   Employee, parked s/c on grade at 16-Block #3 E...  2012   \n",
       "5                              Possible heart attack.  2012   \n",
       "8   Employee was cleaning up plant spillage into a...  2012   \n",
       "12  Employee was putting a drag on a shuttle car, ...  2012   \n",
       "27  While using a cutting torch to remove a bearin...  2012   \n",
       "\n",
       "                             PREDICTED_PART  PREDICTED_PROB  \n",
       "2                     TRUNK, MULTIPLE PARTS        0.213011  \n",
       "5                              BODY SYSTEMS        0.533630  \n",
       "8   SHOULDERS (COLLARBONE/CLAVICLE/SCAPULA)        0.608768  \n",
       "12                          FINGER(S)/THUMB        0.999962  \n",
       "27              HAND (NOT WRIST OR FINGERS)        0.952120  "
      ]
     },
     "execution_count": 8,
     "metadata": {},
     "output_type": "execute_result"
    }
   ],
   "source": [
    "# get the [n_cases, n_classes] predicted probability matrix\n",
    "prediction_prob_matrix = model.predict(X_valid)\n",
    "# get the classes with the highest predicted probability, save them to our dataframe\n",
    "df_valid['PREDICTED_PART'] = label_encoder.inverse_transform(prediction_prob_matrix)\n",
    "# add the predicted probabilities\n",
    "df_valid['PREDICTED_PROB'] = prediction_prob_matrix.max(axis=1)\n",
    "# take a look at what we've got\n",
    "df_valid.head()"
   ]
  },
  {
   "cell_type": "markdown",
   "metadata": {},
   "source": [
    "# Regularization\n",
    "\n",
    "Even more so than linear models, neural networks suffer from overfitting. Because they have such a large number of parameters they can easily memorize the data they are trained on. We can use l2-regularization, as we did with our logistic regression models, but for neural networks another popular technique is called `dropout`. In dropout we randomly set the outputs of a fraction of neurons, at each step, to 0, a popular choice is 50%. This has a strong regularization effect that often improves overall performance. Let's try it out."
   ]
  },
  {
   "cell_type": "code",
   "execution_count": 9,
   "metadata": {},
   "outputs": [
    {
     "name": "stdout",
     "output_type": "stream",
     "text": [
      "Train on 18681 samples, validate on 9032 samples\n",
      "Epoch 1/5\n",
      "18681/18681 [==============================] - 3s 171us/step - loss: 1.9860 - acc: 0.5448 - val_loss: 1.1734 - val_acc: 0.7324\n",
      "Epoch 2/5\n",
      "18681/18681 [==============================] - 3s 160us/step - loss: 1.0574 - acc: 0.7479 - val_loss: 0.9302 - val_acc: 0.7661\n",
      "Epoch 3/5\n",
      "18681/18681 [==============================] - 3s 160us/step - loss: 0.7680 - acc: 0.8081 - val_loss: 0.8548 - val_acc: 0.7752\n",
      "Epoch 4/5\n",
      "18681/18681 [==============================] - 3s 160us/step - loss: 0.6082 - acc: 0.8440 - val_loss: 0.8417 - val_acc: 0.7760\n",
      "Epoch 5/5\n",
      "18681/18681 [==============================] - 3s 159us/step - loss: 0.4935 - acc: 0.8706 - val_loss: 0.8553 - val_acc: 0.7737\n"
     ]
    },
    {
     "data": {
      "text/plain": [
       "<keras.callbacks.History at 0x7f2b340a1d30>"
      ]
     },
     "execution_count": 9,
     "metadata": {},
     "output_type": "execute_result"
    }
   ],
   "source": [
    "text_input = Input(shape=(X_train.shape[1],))\n",
    "layer1 = Dense(units=100, activation='relu')(text_input)\n",
    "dropout = Dropout(0.5)(layer1)\n",
    "output = Dense(units=len(label_encoder.classes_), activation='softmax')(dropout)\n",
    "# specify the inputs and outputs of our model\n",
    "# input is the raw text features\n",
    "# output is the predicted probabilities\n",
    "do_model = Model(inputs=[text_input], outputs=[output])\n",
    "# specify the algorithm for calculating weights 'adam'\n",
    "# specify the loss function 'categorical_crossentropy'\n",
    "# specify the validation metrics we will calculate after each epoch\n",
    "optimizer = Adam(lr=.001)\n",
    "do_model.compile(optimizer=optimizer, \n",
    "                loss='categorical_crossentropy', \n",
    "                metrics=['accuracy'])\n",
    "\n",
    "do_model.fit(x=X_train, y=y_train,\n",
    "            validation_data=(X_valid, y_valid),\n",
    "            batch_size=32, epochs=5)"
   ]
  },
  {
   "cell_type": "code",
   "execution_count": 10,
   "metadata": {},
   "outputs": [
    {
     "data": {
      "text/plain": [
       "<matplotlib.legend.Legend at 0x7f2b342d1eb8>"
      ]
     },
     "execution_count": 10,
     "metadata": {},
     "output_type": "execute_result"
    },
    {
     "data": {
      "image/png": "[encoded data removed]",
      "text/plain": [
       "<matplotlib.figure.Figure at 0x7f2b340bd5c0>"
      ]
     },
     "metadata": {},
     "output_type": "display_data"
    }
   ],
   "source": [
    "plt.ylabel('validation accuracy')\n",
    "plt.xlabel('epoch')\n",
    "plt.plot(do_model.history.history['val_acc'], label='with dropout')\n",
    "plt.plot(model.history.history['val_acc'], label='without dropout')\n",
    "plt.legend()"
   ]
  },
  {
   "cell_type": "markdown",
   "metadata": {},
   "source": [
    "As you can see, adding dropout improved the overall performance of our model and decreased overfitting."
   ]
  },
  {
   "cell_type": "markdown",
   "metadata": {
    "collapsed": true
   },
   "source": [
    "# When and why do deep neural networks work?\n",
    "It's still a mystery, but hints are starting to emerge. For example, [[1]](https://arxiv.org/pdf/1608.08225.pdf) points out that hierarchical and compositional relationships are very common in nature and deep neural networks can represent these relationships with exponentially fewer parameters than shallow networks (linear models). It can also be shown that neural networks are universal function approximators, in other words they can approximate any relationship between inputs and outputs to any degree of precision. \n",
    "\n",
    "In general, deep neural networks seem to work best on tasks where the input contains large amounts of extraneous noise, such as image and speech understanding (not math or logic). "
   ]
  },
  {
   "cell_type": "code",
   "execution_count": null,
   "metadata": {},
   "outputs": [],
   "source": []
  }
 ],
 "metadata": {
  "kernelspec": {
   "display_name": "Python 3",
   "language": "python",
   "name": "python3"
  },
  "language_info": {
   "codemirror_mode": {
    "name": "ipython",
    "version": 3
   },
   "file_extension": ".py",
   "mimetype": "text/x-python",
   "name": "python",
   "nbconvert_exporter": "python",
   "pygments_lexer": "ipython3",
   "version": "3.6.5"
  }
 },
 "nbformat": 4,
 "nbformat_minor": 2
}
