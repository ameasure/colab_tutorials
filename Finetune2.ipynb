{
  "nbformat": 4,
  "nbformat_minor": 0,
  "metadata": {
    "colab": {
      "name": "Overview of Colaboratory Features",
      "version": "0.3.2",
      "provenance": [],
      "collapsed_sections": [],
      "include_colab_link": true
    },
    "kernelspec": {
      "name": "python3",
      "display_name": "Python 3"
    },
    "accelerator": "GPU"
  },
  "cells": [
    {
      "cell_type": "markdown",
      "metadata": {
        "id": "view-in-github",
        "colab_type": "text"
      },
      "source": [
        "<a href=\"https://colab.research.google.com/github/ameasure/colab_tutorials/blob/master/Finetune2.ipynb\" target=\"_parent\"><img src=\"https://colab.research.google.com/assets/colab-badge.svg\" alt=\"Open In Colab\"/></a>"
      ]
    },
    {
      "cell_type": "markdown",
      "metadata": {
        "id": "Ic5-oTjJodK_",
        "colab_type": "text"
      },
      "source": [
        "Transfer Learning with Finetune \n",
        "\n",
        "https://https://github.com/IndicoDataSolutions/finetune"
      ]
    },
    {
      "cell_type": "code",
      "metadata": {
        "id": "aMc7WPBRob2v",
        "colab_type": "code",
        "outputId": "2da1d896-6fdd-4d54-a9db-bb691d1def86",
        "colab": {
          "base_uri": "https://localhost:8080/",
          "height": 884
        }
      },
      "source": [
        "\n",
        "!pip install -U finetune\n",
        "#!python -m spacy download en_core_web_sm\n",
        "#!python -m spacy link en_core_web_sm en\n",
        "#!pip install tables\n",
        "#!pip install xlrd\n",
        "!wget 'https://github.com/ameasure/autocoding-class/raw/master/msha.xlsx'"
      ],
      "execution_count": 1,
      "outputs": [
        {
          "output_type": "stream",
          "text": [
            "Requirement already up-to-date: finetune in /usr/local/lib/python3.6/dist-packages (0.6.7)\n",
            "Requirement already satisfied, skipping upgrade: regex>=2019.03.12 in /usr/local/lib/python3.6/dist-packages (from finetune) (2019.6.8)\n",
            "Requirement already satisfied, skipping upgrade: joblib>=0.12.0 in /usr/local/lib/python3.6/dist-packages (from finetune) (0.13.2)\n",
            "Requirement already satisfied, skipping upgrade: lxml>=4.3.3 in /usr/local/lib/python3.6/dist-packages (from finetune) (4.3.4)\n",
            "Requirement already satisfied, skipping upgrade: scikit-learn>=0.18.0 in /usr/local/lib/python3.6/dist-packages (from finetune) (0.21.2)\n",
            "Requirement already satisfied, skipping upgrade: spacy>=2.0.0 in /usr/local/lib/python3.6/dist-packages (from finetune) (2.1.4)\n",
            "Requirement already satisfied, skipping upgrade: pandas>=0.23.1 in /usr/local/lib/python3.6/dist-packages (from finetune) (0.24.2)\n",
            "Requirement already satisfied, skipping upgrade: bs4>=0.0.1 in /usr/local/lib/python3.6/dist-packages (from finetune) (0.0.1)\n",
            "Requirement already satisfied, skipping upgrade: scipy>=1.1.0 in /usr/local/lib/python3.6/dist-packages (from finetune) (1.3.0)\n",
            "Requirement already satisfied, skipping upgrade: numpy>=1.13.0 in /usr/local/lib/python3.6/dist-packages (from finetune) (1.16.4)\n",
            "Requirement already satisfied, skipping upgrade: nltk>=3.2.4 in /usr/local/lib/python3.6/dist-packages (from finetune) (3.2.5)\n",
            "Requirement already satisfied, skipping upgrade: tqdm>=4.0.0 in /usr/local/lib/python3.6/dist-packages (from finetune) (4.28.1)\n",
            "Requirement already satisfied, skipping upgrade: h5py>=2.8.0 in /usr/local/lib/python3.6/dist-packages (from finetune) (2.8.0)\n",
            "Requirement already satisfied, skipping upgrade: ftfy>=4.4.0 in /usr/local/lib/python3.6/dist-packages (from finetune) (5.5.1)\n",
            "Requirement already satisfied, skipping upgrade: imblearn>=0.0 in /usr/local/lib/python3.6/dist-packages (from finetune) (0.0)\n",
            "Requirement already satisfied, skipping upgrade: thinc<7.1.0,>=7.0.2 in /usr/local/lib/python3.6/dist-packages (from spacy>=2.0.0->finetune) (7.0.4)\n",
            "Requirement already satisfied, skipping upgrade: cymem<2.1.0,>=2.0.2 in /usr/local/lib/python3.6/dist-packages (from spacy>=2.0.0->finetune) (2.0.2)\n",
            "Requirement already satisfied, skipping upgrade: srsly<1.1.0,>=0.0.5 in /usr/local/lib/python3.6/dist-packages (from spacy>=2.0.0->finetune) (0.0.6)\n",
            "Requirement already satisfied, skipping upgrade: murmurhash<1.1.0,>=0.28.0 in /usr/local/lib/python3.6/dist-packages (from spacy>=2.0.0->finetune) (1.0.2)\n",
            "Requirement already satisfied, skipping upgrade: plac<1.0.0,>=0.9.6 in /usr/local/lib/python3.6/dist-packages (from spacy>=2.0.0->finetune) (0.9.6)\n",
            "Requirement already satisfied, skipping upgrade: wasabi<1.1.0,>=0.2.0 in /usr/local/lib/python3.6/dist-packages (from spacy>=2.0.0->finetune) (0.2.2)\n",
            "Requirement already satisfied, skipping upgrade: requests<3.0.0,>=2.13.0 in /usr/local/lib/python3.6/dist-packages (from spacy>=2.0.0->finetune) (2.21.0)\n",
            "Requirement already satisfied, skipping upgrade: preshed<2.1.0,>=2.0.1 in /usr/local/lib/python3.6/dist-packages (from spacy>=2.0.0->finetune) (2.0.1)\n",
            "Requirement already satisfied, skipping upgrade: blis<0.3.0,>=0.2.2 in /usr/local/lib/python3.6/dist-packages (from spacy>=2.0.0->finetune) (0.2.4)\n",
            "Requirement already satisfied, skipping upgrade: jsonschema<3.1.0,>=2.6.0 in /usr/local/lib/python3.6/dist-packages (from spacy>=2.0.0->finetune) (2.6.0)\n",
            "Requirement already satisfied, skipping upgrade: python-dateutil>=2.5.0 in /usr/local/lib/python3.6/dist-packages (from pandas>=0.23.1->finetune) (2.5.3)\n",
            "Requirement already satisfied, skipping upgrade: pytz>=2011k in /usr/local/lib/python3.6/dist-packages (from pandas>=0.23.1->finetune) (2018.9)\n",
            "Requirement already satisfied, skipping upgrade: beautifulsoup4 in /usr/local/lib/python3.6/dist-packages (from bs4>=0.0.1->finetune) (4.6.3)\n",
            "Requirement already satisfied, skipping upgrade: six in /usr/local/lib/python3.6/dist-packages (from nltk>=3.2.4->finetune) (1.12.0)\n",
            "Requirement already satisfied, skipping upgrade: wcwidth in /usr/local/lib/python3.6/dist-packages (from ftfy>=4.4.0->finetune) (0.1.7)\n",
            "Requirement already satisfied, skipping upgrade: imbalanced-learn in /usr/local/lib/python3.6/dist-packages (from imblearn>=0.0->finetune) (0.4.3)\n",
            "Requirement already satisfied, skipping upgrade: idna<2.9,>=2.5 in /usr/local/lib/python3.6/dist-packages (from requests<3.0.0,>=2.13.0->spacy>=2.0.0->finetune) (2.8)\n",
            "Requirement already satisfied, skipping upgrade: chardet<3.1.0,>=3.0.2 in /usr/local/lib/python3.6/dist-packages (from requests<3.0.0,>=2.13.0->spacy>=2.0.0->finetune) (3.0.4)\n",
            "Requirement already satisfied, skipping upgrade: urllib3<1.25,>=1.21.1 in /usr/local/lib/python3.6/dist-packages (from requests<3.0.0,>=2.13.0->spacy>=2.0.0->finetune) (1.24.3)\n",
            "Requirement already satisfied, skipping upgrade: certifi>=2017.4.17 in /usr/local/lib/python3.6/dist-packages (from requests<3.0.0,>=2.13.0->spacy>=2.0.0->finetune) (2019.3.9)\n",
            "--2019-06-16 15:59:33--  https://github.com/ameasure/autocoding-class/raw/master/msha.xlsx\n",
            "Resolving github.com (github.com)... 13.250.177.223\n",
            "Connecting to github.com (github.com)|13.250.177.223|:443... connected.\n",
            "HTTP request sent, awaiting response... 302 Found\n",
            "Location: https://raw.githubusercontent.com/ameasure/autocoding-class/master/msha.xlsx [following]\n",
            "--2019-06-16 15:59:33--  https://raw.githubusercontent.com/ameasure/autocoding-class/master/msha.xlsx\n",
            "Resolving raw.githubusercontent.com (raw.githubusercontent.com)... 151.101.0.133, 151.101.64.133, 151.101.128.133, ...\n",
            "Connecting to raw.githubusercontent.com (raw.githubusercontent.com)|151.101.0.133|:443... connected.\n",
            "HTTP request sent, awaiting response... 200 OK\n",
            "Length: 4183086 (4.0M) [application/octet-stream]\n",
            "Saving to: ‘msha.xlsx.2’\n",
            "\n",
            "msha.xlsx.2         100%[===================>]   3.99M  --.-KB/s    in 0.03s   \n",
            "\n",
            "2019-06-16 15:59:34 (124 MB/s) - ‘msha.xlsx.2’ saved [4183086/4183086]\n",
            "\n"
          ],
          "name": "stdout"
        }
      ]
    },
    {
      "cell_type": "code",
      "metadata": {
        "id": "KdpWCKhdxUNB",
        "colab_type": "code",
        "outputId": "1eea372a-2f21-4df9-d512-c5c4453df1c3",
        "colab": {
          "base_uri": "https://localhost:8080/",
          "height": 51
        }
      },
      "source": [
        "import pandas as pd\n",
        "\n",
        "df = pd.read_excel('msha.xlsx')\n",
        "df['ACCIDENT_YEAR'] = df['ACCIDENT_DT'].apply(lambda x: x.year)\n",
        "df['ACCIDENT_YEAR'].value_counts()\n",
        "df_train = df[df['ACCIDENT_YEAR'].isin([2010, 2011])][:3200].copy()\n",
        "df_valid = df[df['ACCIDENT_YEAR'] == 2012][:1000].copy()\n",
        "print('training rows:', len(df_train))\n",
        "print('validation rows:', len(df_valid))"
      ],
      "execution_count": 2,
      "outputs": [
        {
          "output_type": "stream",
          "text": [
            "training rows: 3200\n",
            "validation rows: 1000\n"
          ],
          "name": "stdout"
        }
      ]
    },
    {
      "cell_type": "code",
      "metadata": {
        "id": "mJ2sQOGF8sTW",
        "colab_type": "code",
        "colab": {
          "base_uri": "https://localhost:8080/",
          "height": 34
        },
        "outputId": "608989bc-d35e-4694-8570-635aebb55413"
      },
      "source": [
        "import math\n",
        "\n",
        "batch_size = 32\n",
        "val_size = 320\n",
        "train_size = len(df_train) - val_size\n",
        "# validate once every epoch\n",
        "val_interval = math.floor(train_size / batch_size)\n",
        "print(f'val_interval={val_interval}')"
      ],
      "execution_count": 3,
      "outputs": [
        {
          "output_type": "stream",
          "text": [
            "val_interval=90\n"
          ],
          "name": "stdout"
        }
      ]
    },
    {
      "cell_type": "code",
      "metadata": {
        "id": "zxOweCiZA0KU",
        "colab_type": "code",
        "outputId": "9f4305b9-5750-464c-80a2-096c60044df9",
        "colab": {
          "base_uri": "https://localhost:8080/",
          "height": 666
        }
      },
      "source": [
        "from finetune import Classifier\n",
        "\n",
        "# max_length is the maximum number of words we will use from each narrative\n",
        "# behind the scenes finetune is setting aside 5% of the training data for validation\n",
        "model = Classifier(batch_size=batch_size, \n",
        "                   max_length=90, \n",
        "                   n_epochs=3, \n",
        "                   val_size=val_size,\n",
        "                   val_interval=val_interval,\n",
        "                   eval_acc=True)\n",
        "model.fit(df_train['NARRATIVE'], df_train['INJ_BODY_PART'])"
      ],
      "execution_count": 4,
      "outputs": [
        {
          "output_type": "stream",
          "text": [
            "/usr/local/lib/python3.6/dist-packages/sklearn/externals/six.py:31: DeprecationWarning: The module is deprecated in version 0.21 and will be removed in version 0.23 since we've dropped support for Python 2.7. Please rely on the official version of six (https://pypi.org/project/six/).\n",
            "  \"(https://pypi.org/project/six/).\", DeprecationWarning)\n",
            "WARNING: Logging before flag parsing goes to stderr.\n",
            "W0616 15:59:40.769783 140626639210368 deprecation_wrapper.py:119] From /usr/local/lib/python3.6/dist-packages/finetune/saver.py:66: The name tf.train.SessionRunHook is deprecated. Please use tf.estimator.SessionRunHook instead.\n",
            "\n",
            "W0616 15:59:40.780952 140626639210368 deprecation_wrapper.py:119] From /usr/local/lib/python3.6/dist-packages/finetune/__init__.py:23: The name tf.logging.set_verbosity is deprecated. Please use tf.compat.v1.logging.set_verbosity instead.\n",
            "\n",
            "W0616 15:59:40.782217 140626639210368 deprecation_wrapper.py:119] From /usr/local/lib/python3.6/dist-packages/finetune/__init__.py:23: The name tf.logging.ERROR is deprecated. Please use tf.compat.v1.logging.ERROR instead.\n",
            "\n",
            "I0616 15:59:40.785031 140626639210368 base.py:104] Saving tensorboard output to /tmp/Finetunezxs5vo5p\n",
            "I0616 15:59:40.841952 140626639210368 config.py:78]  Visible GPUs: {0: Tesla T4}\n",
            "I0616 15:59:58.400068 140626639210368 model.py:221] Adding evaluation metrics, Accuracy\n",
            "Epoch 2/3:   3%|▎         | 96/2880 [00:01<00:53, 52.11it/s]\n",
            "Validation:   0%|          | 0/320 [00:00<?, ?it/s]\u001b[A\n",
            "Validation:  14%|█▍        | 45/320 [00:00<00:00, 448.87it/s]\u001b[A\n",
            "Validation:  28%|██▊       | 89/320 [00:00<00:00, 443.48it/s]\u001b[A\n",
            "Validation:  30%|███       | 96/320 [00:00<00:01, 162.52it/s]\u001b[A\n",
            "Validation:  40%|████      | 128/320 [00:00<00:01, 160.92it/s]\u001b[A\n",
            "Validation:  50%|█████     | 160/320 [00:00<00:00, 160.85it/s]\u001b[A\n",
            "Validation:  60%|██████    | 192/320 [00:00<00:00, 160.61it/s]\u001b[A\n",
            "Validation:  70%|███████   | 224/320 [00:01<00:00, 154.49it/s]\u001b[A\n",
            "Validation:  80%|████████  | 256/320 [00:01<00:00, 150.80it/s]\u001b[A\n",
            "Validation:  90%|█████████ | 288/320 [00:01<00:00, 152.29it/s]\u001b[A\n",
            "Validation: 100%|██████████| 320/320 [00:01<00:00, 153.99it/s]\u001b[A\n",
            "Epoch 3/3:   3%|▎         | 96/2880 [00:01<00:55, 50.37it/s]\n",
            "Validation:   0%|          | 0/320 [00:00<?, ?it/s]\u001b[A\n",
            "Validation:  16%|█▌        | 50/320 [00:00<00:00, 491.56it/s]\u001b[A\n",
            "Validation:  29%|██▉       | 94/320 [00:00<00:00, 474.11it/s]\u001b[A\n",
            "Validation:  30%|███       | 96/320 [00:00<00:04, 54.42it/s] \u001b[A\n",
            "Validation:  40%|████      | 128/320 [00:00<00:02, 67.28it/s]\u001b[A\n",
            "Validation:  50%|█████     | 160/320 [00:00<00:01, 81.27it/s]\u001b[A\n",
            "Validation:  60%|██████    | 192/320 [00:00<00:01, 94.96it/s]\u001b[A\n",
            "Validation:  70%|███████   | 224/320 [00:01<00:00, 106.42it/s]\u001b[A\n",
            "Validation:  80%|████████  | 256/320 [00:01<00:00, 113.87it/s]\u001b[A\n",
            "Validation:  90%|█████████ | 288/320 [00:01<00:00, 123.55it/s]\u001b[A\n",
            "Validation: 100%|██████████| 320/320 [00:01<00:00, 132.05it/s]\u001b[A\n",
            "Epoch 3/3: 100%|██████████| 2880/2880 [01:01<00:00, 32.84it/s]\n"
          ],
          "name": "stderr"
        }
      ]
    },
    {
      "cell_type": "code",
      "metadata": {
        "id": "Q7qq0rL7Dn3O",
        "colab_type": "code",
        "colab": {
          "base_uri": "https://localhost:8080/",
          "height": 51
        },
        "outputId": "bb9640f6-4b13-44bc-a65a-ece225a453b8"
      },
      "source": [
        "from finetune import Classifier\n",
        "from sklearn.metrics import accuracy_score, f1_score\n",
        "\n",
        "# max_length is the maximum number of words we will use from each narrative\n",
        "model = Classifier(batch_size=batch_size, \n",
        "                   max_length=90, \n",
        "                   val_size=0,\n",
        "                   n_epochs=1,\n",
        "                   eval_acc=True)\n",
        "\n",
        "N_EPOCHS = 5\n",
        "for epoch in range(N_EPOCHS):\n",
        "  model.fit(df_train['NARRATIVE'], df_train['INJ_BODY_PART'])\n",
        "  with model.cached_predict():\n",
        "    # generate some predictions on the validation data and see where we are\n",
        "    preds = model.predict(df_valid['NARRATIVE'].values)\n",
        "    acc = accuracy_score(y_true=df_valid['INJ_BODY_PART'], y_pred=preds)\n",
        "    print(f'Epoch {epoch}: val_accuracy={acc}')\n"
      ],
      "execution_count": 0,
      "outputs": [
        {
          "output_type": "stream",
          "text": [
            "I0616 16:16:30.611967 140626639210368 base.py:104] Saving tensorboard output to /tmp/Finetuneug2dwhvd\n",
            "Epoch 3/3:  88%|████████▊ | 2816/3200 [00:56<00:17, 21.50it/s]"
          ],
          "name": "stderr"
        }
      ]
    },
    {
      "cell_type": "code",
      "metadata": {
        "id": "LWbjdsG29Pqb",
        "colab_type": "code",
        "colab": {
          "base_uri": "https://localhost:8080/",
          "height": 309
        },
        "outputId": "80363bee-3ab1-4655-b070-2891eb1a1c8a"
      },
      "source": [
        "# generate preditions\n",
        "df_valid['PREDICTED_PART'] = model.predict(df_valid['NARRATIVE'].values)\n",
        "# look at a sample\n",
        "df_valid[['NARRATIVE', 'INJ_BODY_PART', 'PREDICTED_PART']].sample(5)"
      ],
      "execution_count": 5,
      "outputs": [
        {
          "output_type": "stream",
          "text": [
            "\rInference:   0%|          | 0/1000 [00:00<?, ?it/s]/usr/local/lib/python3.6/dist-packages/finetune/encoding/input_encoder.py:182: UserWarning: Some examples are longer than the max_length. Please trim documents or increase `max_length`. Fallback behaviour is to use the first 88 byte-pair encoded tokens\n",
            "  \"Fallback behaviour is to use the first {} byte-pair encoded tokens\".format(max_length - 2)\n",
            "/usr/local/lib/python3.6/dist-packages/finetune/encoding/input_encoder.py:135: UserWarning: Document is longer than max length allowed, trimming document to 90 tokens.\n",
            "  max_length\n",
            "Inference: 100%|██████████| 1000/1000 [00:17<00:00, 58.60it/s]\n"
          ],
          "name": "stderr"
        },
        {
          "output_type": "execute_result",
          "data": {
            "text/html": [
              "<div>\n",
              "<style scoped>\n",
              "    .dataframe tbody tr th:only-of-type {\n",
              "        vertical-align: middle;\n",
              "    }\n",
              "\n",
              "    .dataframe tbody tr th {\n",
              "        vertical-align: top;\n",
              "    }\n",
              "\n",
              "    .dataframe thead th {\n",
              "        text-align: right;\n",
              "    }\n",
              "</style>\n",
              "<table border=\"1\" class=\"dataframe\">\n",
              "  <thead>\n",
              "    <tr style=\"text-align: right;\">\n",
              "      <th></th>\n",
              "      <th>NARRATIVE</th>\n",
              "      <th>INJ_BODY_PART</th>\n",
              "      <th>PREDICTED_PART</th>\n",
              "    </tr>\n",
              "  </thead>\n",
              "  <tbody>\n",
              "    <tr>\n",
              "      <th>2486</th>\n",
              "      <td>Coal rolled out from rib striking employee on ...</td>\n",
              "      <td>LOWER LEG/TIBIA/FIBULA</td>\n",
              "      <td>LOWER LEG/TIBIA/FIBULA</td>\n",
              "    </tr>\n",
              "    <tr>\n",
              "      <th>3452</th>\n",
              "      <td>Employee was using a knife to cut a rope and s...</td>\n",
              "      <td>FINGER(S)/THUMB</td>\n",
              "      <td>FINGER(S)/THUMB</td>\n",
              "    </tr>\n",
              "    <tr>\n",
              "      <th>3457</th>\n",
              "      <td>Walking on belt line said too much weight on r...</td>\n",
              "      <td>BACK (MUSCLES/SPINE/S-CORD/TAILBONE)</td>\n",
              "      <td>MULTIPLE PARTS (MORE THAN ONE MAJOR)</td>\n",
              "    </tr>\n",
              "    <tr>\n",
              "      <th>3106</th>\n",
              "      <td>Employee was welding and a foreign body enter ...</td>\n",
              "      <td>EYE(S) OPTIC NERVE/VISON</td>\n",
              "      <td>EYE(S) OPTIC NERVE/VISON</td>\n",
              "    </tr>\n",
              "    <tr>\n",
              "      <th>1984</th>\n",
              "      <td>This accident is still under investigation and...</td>\n",
              "      <td>BACK (MUSCLES/SPINE/S-CORD/TAILBONE)</td>\n",
              "      <td>BACK (MUSCLES/SPINE/S-CORD/TAILBONE)</td>\n",
              "    </tr>\n",
              "  </tbody>\n",
              "</table>\n",
              "</div>"
            ],
            "text/plain": [
              "                                              NARRATIVE  ...                        PREDICTED_PART\n",
              "2486  Coal rolled out from rib striking employee on ...  ...                LOWER LEG/TIBIA/FIBULA\n",
              "3452  Employee was using a knife to cut a rope and s...  ...                       FINGER(S)/THUMB\n",
              "3457  Walking on belt line said too much weight on r...  ...  MULTIPLE PARTS (MORE THAN ONE MAJOR)\n",
              "3106  Employee was welding and a foreign body enter ...  ...              EYE(S) OPTIC NERVE/VISON\n",
              "1984  This accident is still under investigation and...  ...  BACK (MUSCLES/SPINE/S-CORD/TAILBONE)\n",
              "\n",
              "[5 rows x 3 columns]"
            ]
          },
          "metadata": {
            "tags": []
          },
          "execution_count": 5
        }
      ]
    },
    {
      "cell_type": "code",
      "metadata": {
        "id": "Lmb9BX0RA9bN",
        "colab_type": "code",
        "colab": {
          "base_uri": "https://localhost:8080/",
          "height": 649
        },
        "outputId": "da115d85-e5a0-495e-fabe-811d1d9a9484"
      },
      "source": [
        "pd.options.display.max_colwidth=500\n",
        "\n",
        "df_valid['PROB_DICT'] = model.predict_proba(df_valid['NARRATIVE'].values)\n",
        "df_valid[['NARRATIVE', 'PREDICTED_PART', 'PROB_DICT']].head(2)"
      ],
      "execution_count": 6,
      "outputs": [
        {
          "output_type": "stream",
          "text": [
            "\rInference:   0%|          | 0/1000 [00:00<?, ?it/s]/usr/local/lib/python3.6/dist-packages/finetune/encoding/input_encoder.py:182: UserWarning: Some examples are longer than the max_length. Please trim documents or increase `max_length`. Fallback behaviour is to use the first 88 byte-pair encoded tokens\n",
            "  \"Fallback behaviour is to use the first {} byte-pair encoded tokens\".format(max_length - 2)\n",
            "/usr/local/lib/python3.6/dist-packages/finetune/encoding/input_encoder.py:135: UserWarning: Document is longer than max length allowed, trimming document to 90 tokens.\n",
            "  max_length\n",
            "Inference: 100%|██████████| 1000/1000 [00:17<00:00, 55.82it/s]\n"
          ],
          "name": "stderr"
        },
        {
          "output_type": "execute_result",
          "data": {
            "text/html": [
              "<div>\n",
              "<style scoped>\n",
              "    .dataframe tbody tr th:only-of-type {\n",
              "        vertical-align: middle;\n",
              "    }\n",
              "\n",
              "    .dataframe tbody tr th {\n",
              "        vertical-align: top;\n",
              "    }\n",
              "\n",
              "    .dataframe thead th {\n",
              "        text-align: right;\n",
              "    }\n",
              "</style>\n",
              "<table border=\"1\" class=\"dataframe\">\n",
              "  <thead>\n",
              "    <tr style=\"text-align: right;\">\n",
              "      <th></th>\n",
              "      <th>NARRATIVE</th>\n",
              "      <th>PREDICTED_PART</th>\n",
              "      <th>PROB_DICT</th>\n",
              "    </tr>\n",
              "  </thead>\n",
              "  <tbody>\n",
              "    <tr>\n",
              "      <th>2</th>\n",
              "      <td>Employee, parked s/c on grade at 16-Block #3 Entry Spad #3868. S/c slid approx. 3' pinning oper. between s/c &amp; rib, employee had set park brake and got off machine to move roof bolter cable.</td>\n",
              "      <td>CHEST (RIBS/BREAST BONE/CHEST ORGNS)</td>\n",
              "      <td>{'ABDOMEN/INTERNAL ORGANS': 0.008977418, 'ANKLE': 0.004162629, 'ARM, MULTIPLE PARTS': 0.0032280472, 'ARM,NEC': 0.017140277, 'BACK (MUSCLES/SPINE/S-CORD/TAILBONE)': 0.105413824, 'BODY SYSTEMS': 0.0073694945, 'BRAIN': 0.013623325, 'CHEST (RIBS/BREAST BONE/CHEST ORGNS)': 0.26844206, 'EAR(S) EXTERNAL': 0.002892342, 'EAR(S) INTERNAL &amp; HEARING': 0.0050324653, 'ELBOW': 0.002983887, 'EYE(S) OPTIC NERVE/VISON': 0.050639648, 'FACE, MULTIPLE PARTS': 0.0028115963, 'FACE,NEC': 0.004201914, 'FINGER(S)/THU...</td>\n",
              "    </tr>\n",
              "    <tr>\n",
              "      <th>5</th>\n",
              "      <td>Possible heart attack.</td>\n",
              "      <td>BODY SYSTEMS</td>\n",
              "      <td>{'ABDOMEN/INTERNAL ORGANS': 0.015624995, 'ANKLE': 0.0008264859, 'ARM, MULTIPLE PARTS': 0.0007294926, 'ARM,NEC': 0.0008198121, 'BACK (MUSCLES/SPINE/S-CORD/TAILBONE)': 0.0019328524, 'BODY SYSTEMS': 0.82196, 'BRAIN': 0.0011903689, 'CHEST (RIBS/BREAST BONE/CHEST ORGNS)': 0.09010305, 'EAR(S) EXTERNAL': 0.0007199971, 'EAR(S) INTERNAL &amp; HEARING': 0.0033850586, 'ELBOW': 0.00097084785, 'EYE(S) OPTIC NERVE/VISON': 0.00043858247, 'FACE, MULTIPLE PARTS': 0.0006685693, 'FACE,NEC': 0.0005429107, 'FINGER(S...</td>\n",
              "    </tr>\n",
              "    <tr>\n",
              "      <th>8</th>\n",
              "      <td>Employee was cleaning up plant spillage into a fork lift mounted self-dumping hopper. Latch on hopper was not operating properly and employee repeatedly lifted on hopper to unlatch it. Employee reported that his right shoulder hurt from the lifting at end of shift. Placed on light duty with no heavy lifting.</td>\n",
              "      <td>SHOULDERS (COLLARBONE/CLAVICLE/SCAPULA)</td>\n",
              "      <td>{'ABDOMEN/INTERNAL ORGANS': 7.5786505e-05, 'ANKLE': 7.940103e-06, 'ARM, MULTIPLE PARTS': 7.815971e-05, 'ARM,NEC': 8.496351e-05, 'BACK (MUSCLES/SPINE/S-CORD/TAILBONE)': 0.0012391361, 'BODY SYSTEMS': 7.592077e-05, 'BRAIN': 0.00010860118, 'CHEST (RIBS/BREAST BONE/CHEST ORGNS)': 0.00021058852, 'EAR(S) EXTERNAL': 6.309702e-05, 'EAR(S) INTERNAL &amp; HEARING': 8.138579e-05, 'ELBOW': 0.00016119704, 'EYE(S) OPTIC NERVE/VISON': 7.0898466e-05, 'FACE, MULTIPLE PARTS': 1.2719968e-05, 'FACE,NEC': 8.006192e-0...</td>\n",
              "    </tr>\n",
              "    <tr>\n",
              "      <th>12</th>\n",
              "      <td>Employee was putting a drag on a shuttle car, when he lifted one end and another employee lifted the other end, the drag smashed the end of his middle finger on his left hand. He was taken to the hospital and received 12 stitches in his finger and returned to work.</td>\n",
              "      <td>FINGER(S)/THUMB</td>\n",
              "      <td>{'ABDOMEN/INTERNAL ORGANS': 2.6681197e-05, 'ANKLE': 3.0205281e-05, 'ARM, MULTIPLE PARTS': 1.5207753e-05, 'ARM,NEC': 2.7002348e-05, 'BACK (MUSCLES/SPINE/S-CORD/TAILBONE)': 1.5651445e-05, 'BODY SYSTEMS': 2.9805162e-05, 'BRAIN': 1.5299178e-05, 'CHEST (RIBS/BREAST BONE/CHEST ORGNS)': 2.4254985e-05, 'EAR(S) EXTERNAL': 6.670856e-05, 'EAR(S) INTERNAL &amp; HEARING': 4.7708432e-05, 'ELBOW': 3.380854e-05, 'EYE(S) OPTIC NERVE/VISON': 2.8072725e-05, 'FACE, MULTIPLE PARTS': 5.0589446e-05, 'FACE,NEC': 4.4717...</td>\n",
              "    </tr>\n",
              "    <tr>\n",
              "      <th>27</th>\n",
              "      <td>While using a cutting torch to remove a bearing the employee was burned by the torch tip after another employee tripped over the torch hose causing the torch flame to contact his left hand.</td>\n",
              "      <td>HAND (NOT WRIST OR FINGERS)</td>\n",
              "      <td>{'ABDOMEN/INTERNAL ORGANS': 8.5834836e-05, 'ANKLE': 2.7501443e-05, 'ARM, MULTIPLE PARTS': 0.00014462482, 'ARM,NEC': 0.00035717717, 'BACK (MUSCLES/SPINE/S-CORD/TAILBONE)': 4.9885002e-05, 'BODY SYSTEMS': 0.00013822167, 'BRAIN': 5.270675e-05, 'CHEST (RIBS/BREAST BONE/CHEST ORGNS)': 6.319137e-05, 'EAR(S) EXTERNAL': 8.288939e-05, 'EAR(S) INTERNAL &amp; HEARING': 0.00020017583, 'ELBOW': 6.754224e-05, 'EYE(S) OPTIC NERVE/VISON': 0.00028945727, 'FACE, MULTIPLE PARTS': 0.00010168808, 'FACE,NEC': 0.000111...</td>\n",
              "    </tr>\n",
              "  </tbody>\n",
              "</table>\n",
              "</div>"
            ],
            "text/plain": [
              "                                                                                                                                                                                                                                                                                                                NARRATIVE  ...                                                                                                                                                                                                                                                                                                                                                                                                                                                                                                            PROB_DICT\n",
              "2                                                                                                                          Employee, parked s/c on grade at 16-Block #3 Entry Spad #3868. S/c slid approx. 3' pinning oper. between s/c & rib, employee had set park brake and got off machine to move roof bolter cable.  ...  {'ABDOMEN/INTERNAL ORGANS': 0.008977418, 'ANKLE': 0.004162629, 'ARM, MULTIPLE PARTS': 0.0032280472, 'ARM,NEC': 0.017140277, 'BACK (MUSCLES/SPINE/S-CORD/TAILBONE)': 0.105413824, 'BODY SYSTEMS': 0.0073694945, 'BRAIN': 0.013623325, 'CHEST (RIBS/BREAST BONE/CHEST ORGNS)': 0.26844206, 'EAR(S) EXTERNAL': 0.002892342, 'EAR(S) INTERNAL & HEARING': 0.0050324653, 'ELBOW': 0.002983887, 'EYE(S) OPTIC NERVE/VISON': 0.050639648, 'FACE, MULTIPLE PARTS': 0.0028115963, 'FACE,NEC': 0.004201914, 'FINGER(S)/THU...\n",
              "5                                                                                                                                                                                                                                                                                                  Possible heart attack.  ...  {'ABDOMEN/INTERNAL ORGANS': 0.015624995, 'ANKLE': 0.0008264859, 'ARM, MULTIPLE PARTS': 0.0007294926, 'ARM,NEC': 0.0008198121, 'BACK (MUSCLES/SPINE/S-CORD/TAILBONE)': 0.0019328524, 'BODY SYSTEMS': 0.82196, 'BRAIN': 0.0011903689, 'CHEST (RIBS/BREAST BONE/CHEST ORGNS)': 0.09010305, 'EAR(S) EXTERNAL': 0.0007199971, 'EAR(S) INTERNAL & HEARING': 0.0033850586, 'ELBOW': 0.00097084785, 'EYE(S) OPTIC NERVE/VISON': 0.00043858247, 'FACE, MULTIPLE PARTS': 0.0006685693, 'FACE,NEC': 0.0005429107, 'FINGER(S...\n",
              "8   Employee was cleaning up plant spillage into a fork lift mounted self-dumping hopper. Latch on hopper was not operating properly and employee repeatedly lifted on hopper to unlatch it. Employee reported that his right shoulder hurt from the lifting at end of shift. Placed on light duty with no heavy lifting.  ...  {'ABDOMEN/INTERNAL ORGANS': 7.5786505e-05, 'ANKLE': 7.940103e-06, 'ARM, MULTIPLE PARTS': 7.815971e-05, 'ARM,NEC': 8.496351e-05, 'BACK (MUSCLES/SPINE/S-CORD/TAILBONE)': 0.0012391361, 'BODY SYSTEMS': 7.592077e-05, 'BRAIN': 0.00010860118, 'CHEST (RIBS/BREAST BONE/CHEST ORGNS)': 0.00021058852, 'EAR(S) EXTERNAL': 6.309702e-05, 'EAR(S) INTERNAL & HEARING': 8.138579e-05, 'ELBOW': 0.00016119704, 'EYE(S) OPTIC NERVE/VISON': 7.0898466e-05, 'FACE, MULTIPLE PARTS': 1.2719968e-05, 'FACE,NEC': 8.006192e-0...\n",
              "12                                              Employee was putting a drag on a shuttle car, when he lifted one end and another employee lifted the other end, the drag smashed the end of his middle finger on his left hand. He was taken to the hospital and received 12 stitches in his finger and returned to work.  ...  {'ABDOMEN/INTERNAL ORGANS': 2.6681197e-05, 'ANKLE': 3.0205281e-05, 'ARM, MULTIPLE PARTS': 1.5207753e-05, 'ARM,NEC': 2.7002348e-05, 'BACK (MUSCLES/SPINE/S-CORD/TAILBONE)': 1.5651445e-05, 'BODY SYSTEMS': 2.9805162e-05, 'BRAIN': 1.5299178e-05, 'CHEST (RIBS/BREAST BONE/CHEST ORGNS)': 2.4254985e-05, 'EAR(S) EXTERNAL': 6.670856e-05, 'EAR(S) INTERNAL & HEARING': 4.7708432e-05, 'ELBOW': 3.380854e-05, 'EYE(S) OPTIC NERVE/VISON': 2.8072725e-05, 'FACE, MULTIPLE PARTS': 5.0589446e-05, 'FACE,NEC': 4.4717...\n",
              "27                                                                                                                          While using a cutting torch to remove a bearing the employee was burned by the torch tip after another employee tripped over the torch hose causing the torch flame to contact his left hand.  ...  {'ABDOMEN/INTERNAL ORGANS': 8.5834836e-05, 'ANKLE': 2.7501443e-05, 'ARM, MULTIPLE PARTS': 0.00014462482, 'ARM,NEC': 0.00035717717, 'BACK (MUSCLES/SPINE/S-CORD/TAILBONE)': 4.9885002e-05, 'BODY SYSTEMS': 0.00013822167, 'BRAIN': 5.270675e-05, 'CHEST (RIBS/BREAST BONE/CHEST ORGNS)': 6.319137e-05, 'EAR(S) EXTERNAL': 8.288939e-05, 'EAR(S) INTERNAL & HEARING': 0.00020017583, 'ELBOW': 6.754224e-05, 'EYE(S) OPTIC NERVE/VISON': 0.00028945727, 'FACE, MULTIPLE PARTS': 0.00010168808, 'FACE,NEC': 0.000111...\n",
              "\n",
              "[5 rows x 3 columns]"
            ]
          },
          "metadata": {
            "tags": []
          },
          "execution_count": 6
        }
      ]
    },
    {
      "cell_type": "code",
      "metadata": {
        "id": "HvZ3fBw3BBWf",
        "colab_type": "code",
        "colab": {
          "base_uri": "https://localhost:8080/",
          "height": 255
        },
        "outputId": "86570462-93b0-4a96-9fc9-f55b1ed9a9d0"
      },
      "source": [
        "# function that takes a row of our dataframe and returns the predicted probability\n",
        "def get_probability(row):\n",
        "    predicted_part = row['PREDICTED_PART']\n",
        "    probability_dict = row['PROB_DICT']\n",
        "    return probability_dict[predicted_part]\n",
        "\n",
        "# apply get_probability to each row in our dataframe and store the result\n",
        "df_valid['PREDICTED_PROB'] = df_valid.apply(func=get_probability, axis=1)\n",
        "# take a peak at what we get\n",
        "df_valid[['NARRATIVE', 'INJ_BODY_PART', 'PREDICTED_PART', 'PREDICTED_PROB']].sample(5).head()"
      ],
      "execution_count": 7,
      "outputs": [
        {
          "output_type": "execute_result",
          "data": {
            "text/html": [
              "<div>\n",
              "<style scoped>\n",
              "    .dataframe tbody tr th:only-of-type {\n",
              "        vertical-align: middle;\n",
              "    }\n",
              "\n",
              "    .dataframe tbody tr th {\n",
              "        vertical-align: top;\n",
              "    }\n",
              "\n",
              "    .dataframe thead th {\n",
              "        text-align: right;\n",
              "    }\n",
              "</style>\n",
              "<table border=\"1\" class=\"dataframe\">\n",
              "  <thead>\n",
              "    <tr style=\"text-align: right;\">\n",
              "      <th></th>\n",
              "      <th>NARRATIVE</th>\n",
              "      <th>INJ_BODY_PART</th>\n",
              "      <th>PREDICTED_PART</th>\n",
              "      <th>PREDICTED_PROB</th>\n",
              "    </tr>\n",
              "  </thead>\n",
              "  <tbody>\n",
              "    <tr>\n",
              "      <th>421</th>\n",
              "      <td>Hearing Loss</td>\n",
              "      <td>EAR(S) INTERNAL &amp; HEARING</td>\n",
              "      <td>EAR(S) INTERNAL &amp; HEARING</td>\n",
              "      <td>0.973974</td>\n",
              "    </tr>\n",
              "    <tr>\n",
              "      <th>3249</th>\n",
              "      <td>Employee was performing routine maintenance on the propel motor on shovel 4 when he experienced electric shock.</td>\n",
              "      <td>BODY SYSTEMS</td>\n",
              "      <td>BODY SYSTEMS</td>\n",
              "      <td>0.284030</td>\n",
              "    </tr>\n",
              "    <tr>\n",
              "      <th>463</th>\n",
              "      <td>A PIECE OF WATER LINE FELL TWO FEET AND STRUCK EMPLOYEE ON THE SHOULDER CAUSING BRUISING.</td>\n",
              "      <td>SHOULDERS (COLLARBONE/CLAVICLE/SCAPULA)</td>\n",
              "      <td>SHOULDERS (COLLARBONE/CLAVICLE/SCAPULA)</td>\n",
              "      <td>0.963299</td>\n",
              "    </tr>\n",
              "    <tr>\n",
              "      <th>2703</th>\n",
              "      <td>Operator was changing drill steel bit when the chain wrench broke and a piece of the bar hit the back/side of the operators left knee. No initial treatment was sought. Area around the impact began to swell after a couple of days and that's when the operator sought medical attention</td>\n",
              "      <td>KNEE/PATELLA</td>\n",
              "      <td>KNEE/PATELLA</td>\n",
              "      <td>0.878149</td>\n",
              "    </tr>\n",
              "    <tr>\n",
              "      <th>3402</th>\n",
              "      <td>Employee slipped and fell into a sump hole injuring shoulder and back. Company was notified this was a medical injury on 12/19/2012.</td>\n",
              "      <td>BACK (MUSCLES/SPINE/S-CORD/TAILBONE)</td>\n",
              "      <td>MULTIPLE PARTS (MORE THAN ONE MAJOR)</td>\n",
              "      <td>0.803995</td>\n",
              "    </tr>\n",
              "  </tbody>\n",
              "</table>\n",
              "</div>"
            ],
            "text/plain": [
              "                                                                                                                                                                                                                                                                                       NARRATIVE  ... PREDICTED_PROB\n",
              "421                                                                                                                                                                                                                                                                                 Hearing Loss  ...       0.973974\n",
              "3249                                                                                                                                                                             Employee was performing routine maintenance on the propel motor on shovel 4 when he experienced electric shock.  ...       0.284030\n",
              "463                                                                                                                                                                                                    A PIECE OF WATER LINE FELL TWO FEET AND STRUCK EMPLOYEE ON THE SHOULDER CAUSING BRUISING.  ...       0.963299\n",
              "2703  Operator was changing drill steel bit when the chain wrench broke and a piece of the bar hit the back/side of the operators left knee. No initial treatment was sought. Area around the impact began to swell after a couple of days and that's when the operator sought medical attention  ...       0.878149\n",
              "3402                                                                                                                                                        Employee slipped and fell into a sump hole injuring shoulder and back. Company was notified this was a medical injury on 12/19/2012.  ...       0.803995\n",
              "\n",
              "[5 rows x 4 columns]"
            ]
          },
          "metadata": {
            "tags": []
          },
          "execution_count": 7
        }
      ]
    },
    {
      "cell_type": "code",
      "metadata": {
        "id": "p6Tzjh2JBD4M",
        "colab_type": "code",
        "colab": {
          "base_uri": "https://localhost:8080/",
          "height": 85
        },
        "outputId": "57c60d79-34e7-413a-b893-93f7f77f75fb"
      },
      "source": [
        "from sklearn.metrics import accuracy_score, f1_score\n",
        "\n",
        "mf1 = f1_score(df_valid['INJ_BODY_PART'], df_valid['PREDICTED_PART'], average='macro')\n",
        "acc = accuracy_score(df_valid['INJ_BODY_PART'], df_valid['PREDICTED_PART'])\n",
        "print('macro-f1:', mf1)\n",
        "print('accuracy:', acc)"
      ],
      "execution_count": 8,
      "outputs": [
        {
          "output_type": "stream",
          "text": [
            "macro-f1: 0.5587960487477243\n",
            "accuracy: 0.808\n"
          ],
          "name": "stdout"
        },
        {
          "output_type": "stream",
          "text": [
            "/usr/local/lib/python3.6/dist-packages/sklearn/metrics/classification.py:1437: UndefinedMetricWarning: F-score is ill-defined and being set to 0.0 in labels with no predicted samples.\n",
            "  'precision', 'predicted', average, warn_for)\n"
          ],
          "name": "stderr"
        }
      ]
    },
    {
      "cell_type": "code",
      "metadata": {
        "id": "htL4vk4BM0Jx",
        "colab_type": "code",
        "colab": {
          "base_uri": "https://localhost:8080/",
          "height": 54
        },
        "outputId": "ca57104c-0811-4ebf-e71f-98902a04ed98"
      },
      "source": [
        "model.generate_text(seed_text='He was cleaning the')"
      ],
      "execution_count": 14,
      "outputs": [
        {
          "output_type": "execute_result",
          "data": {
            "text/plain": [
              "'_start_he was cleaning the mess spills spills spills spills spills spills spill pour pours pour pour pour pour pour pour pour pour pour pour pour pour pour pour pour pour pour pour pour pour pour pour pour pour pour pour pour pour pour pour pour pour pour pour pour pour pour pour pour pour pour pour pour pour pour pour pour pour pour pour pour pour pour pour pour pour pour pour pour pour pour pour pour pour pour pour pour pour pour pour pour pour pour pour '"
            ]
          },
          "metadata": {
            "tags": []
          },
          "execution_count": 14
        }
      ]
    },
    {
      "cell_type": "code",
      "metadata": {
        "id": "a5TM2eZO-zoc",
        "colab_type": "code",
        "colab": {
          "base_uri": "https://localhost:8080/",
          "height": 163
        },
        "outputId": "2af699c1-8b4b-444c-f4e1-36c00003fbc5"
      },
      "source": [
        "model.config()"
      ],
      "execution_count": 15,
      "outputs": [
        {
          "output_type": "error",
          "ename": "TypeError",
          "evalue": "ignored",
          "traceback": [
            "\u001b[0;31m---------------------------------------------------------------------------\u001b[0m",
            "\u001b[0;31mTypeError\u001b[0m                                 Traceback (most recent call last)",
            "\u001b[0;32m<ipython-input-15-bf5a57509985>\u001b[0m in \u001b[0;36m<module>\u001b[0;34m()\u001b[0m\n\u001b[0;32m----> 1\u001b[0;31m \u001b[0mmodel\u001b[0m\u001b[0;34m.\u001b[0m\u001b[0mconfig\u001b[0m\u001b[0;34m(\u001b[0m\u001b[0;34m)\u001b[0m\u001b[0;34m\u001b[0m\u001b[0;34m\u001b[0m\u001b[0m\n\u001b[0m",
            "\u001b[0;31mTypeError\u001b[0m: 'Settings' object is not callable"
          ]
        }
      ]
    },
    {
      "cell_type": "code",
      "metadata": {
        "id": "2p2lW-1QEAQI",
        "colab_type": "code",
        "colab": {}
      },
      "source": [
        "model.pred"
      ],
      "execution_count": 0,
      "outputs": []
    }
  ]
}