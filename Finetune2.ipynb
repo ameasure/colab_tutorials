{
  "nbformat": 4,
  "nbformat_minor": 0,
  "metadata": {
    "colab": {
      "name": "Overview of Colaboratory Features",
      "version": "0.3.2",
      "provenance": [],
      "collapsed_sections": [],
      "toc_visible": true,
      "include_colab_link": true
    },
    "kernelspec": {
      "name": "python3",
      "display_name": "Python 3"
    },
    "accelerator": "GPU"
  },
  "cells": [
    {
      "cell_type": "markdown",
      "metadata": {
        "id": "view-in-github",
        "colab_type": "text"
      },
      "source": [
        "<a href=\"https://colab.research.google.com/github/ameasure/colab_tutorials/blob/master/Finetune2.ipynb\" target=\"_parent\"><img src=\"https://colab.research.google.com/assets/colab-badge.svg\" alt=\"Open In Colab\"/></a>"
      ]
    },
    {
      "cell_type": "markdown",
      "metadata": {
        "id": "Ic5-oTjJodK_",
        "colab_type": "text"
      },
      "source": [
        "# Transfer Learning with Finetune \n",
        "Finetune is a library that creates a scikit-learn style `fit(), predict()` interface to a variety of state-of-the-art pretrained language models, making them much easier to use.\n",
        "\n",
        "# Resources:\n",
        "* [Finetune Quick Start Guide](https://finetune.indico.io/)\n",
        "* [Finetune Source Code](https://github.com/IndicoDataSolutions/finetune)\n",
        "* [GPT1 Paper](https://s3-us-west-2.amazonaws.com/openai-assets/research-covers/language-unsupervised/language_understanding_paper.pdf) (Default model in Finetune)\n",
        "* [GPT2 Paper](https://d4mucfpksywv.cloudfront.net/better-language-models/language_models_are_unsupervised_multitask_learners.pdf)"
      ]
    },
    {
      "cell_type": "code",
      "metadata": {
        "id": "aMc7WPBRob2v",
        "colab_type": "code",
        "outputId": "2da1d896-6fdd-4d54-a9db-bb691d1def86",
        "colab": {
          "base_uri": "https://localhost:8080/",
          "height": 884
        }
      },
      "source": [
        "!pip install -U finetune\n",
        "!wget 'https://github.com/ameasure/autocoding-class/raw/master/msha.xlsx'"
      ],
      "execution_count": 1,
      "outputs": [
        {
          "output_type": "stream",
          "text": [
            "Requirement already up-to-date: finetune in /usr/local/lib/python3.6/dist-packages (0.6.7)\n",
            "Requirement already satisfied, skipping upgrade: regex>=2019.03.12 in /usr/local/lib/python3.6/dist-packages (from finetune) (2019.6.8)\n",
            "Requirement already satisfied, skipping upgrade: joblib>=0.12.0 in /usr/local/lib/python3.6/dist-packages (from finetune) (0.13.2)\n",
            "Requirement already satisfied, skipping upgrade: lxml>=4.3.3 in /usr/local/lib/python3.6/dist-packages (from finetune) (4.3.4)\n",
            "Requirement already satisfied, skipping upgrade: scikit-learn>=0.18.0 in /usr/local/lib/python3.6/dist-packages (from finetune) (0.21.2)\n",
            "Requirement already satisfied, skipping upgrade: spacy>=2.0.0 in /usr/local/lib/python3.6/dist-packages (from finetune) (2.1.4)\n",
            "Requirement already satisfied, skipping upgrade: pandas>=0.23.1 in /usr/local/lib/python3.6/dist-packages (from finetune) (0.24.2)\n",
            "Requirement already satisfied, skipping upgrade: bs4>=0.0.1 in /usr/local/lib/python3.6/dist-packages (from finetune) (0.0.1)\n",
            "Requirement already satisfied, skipping upgrade: scipy>=1.1.0 in /usr/local/lib/python3.6/dist-packages (from finetune) (1.3.0)\n",
            "Requirement already satisfied, skipping upgrade: numpy>=1.13.0 in /usr/local/lib/python3.6/dist-packages (from finetune) (1.16.4)\n",
            "Requirement already satisfied, skipping upgrade: nltk>=3.2.4 in /usr/local/lib/python3.6/dist-packages (from finetune) (3.2.5)\n",
            "Requirement already satisfied, skipping upgrade: tqdm>=4.0.0 in /usr/local/lib/python3.6/dist-packages (from finetune) (4.28.1)\n",
            "Requirement already satisfied, skipping upgrade: h5py>=2.8.0 in /usr/local/lib/python3.6/dist-packages (from finetune) (2.8.0)\n",
            "Requirement already satisfied, skipping upgrade: ftfy>=4.4.0 in /usr/local/lib/python3.6/dist-packages (from finetune) (5.5.1)\n",
            "Requirement already satisfied, skipping upgrade: imblearn>=0.0 in /usr/local/lib/python3.6/dist-packages (from finetune) (0.0)\n",
            "Requirement already satisfied, skipping upgrade: thinc<7.1.0,>=7.0.2 in /usr/local/lib/python3.6/dist-packages (from spacy>=2.0.0->finetune) (7.0.4)\n",
            "Requirement already satisfied, skipping upgrade: cymem<2.1.0,>=2.0.2 in /usr/local/lib/python3.6/dist-packages (from spacy>=2.0.0->finetune) (2.0.2)\n",
            "Requirement already satisfied, skipping upgrade: srsly<1.1.0,>=0.0.5 in /usr/local/lib/python3.6/dist-packages (from spacy>=2.0.0->finetune) (0.0.6)\n",
            "Requirement already satisfied, skipping upgrade: murmurhash<1.1.0,>=0.28.0 in /usr/local/lib/python3.6/dist-packages (from spacy>=2.0.0->finetune) (1.0.2)\n",
            "Requirement already satisfied, skipping upgrade: plac<1.0.0,>=0.9.6 in /usr/local/lib/python3.6/dist-packages (from spacy>=2.0.0->finetune) (0.9.6)\n",
            "Requirement already satisfied, skipping upgrade: wasabi<1.1.0,>=0.2.0 in /usr/local/lib/python3.6/dist-packages (from spacy>=2.0.0->finetune) (0.2.2)\n",
            "Requirement already satisfied, skipping upgrade: requests<3.0.0,>=2.13.0 in /usr/local/lib/python3.6/dist-packages (from spacy>=2.0.0->finetune) (2.21.0)\n",
            "Requirement already satisfied, skipping upgrade: preshed<2.1.0,>=2.0.1 in /usr/local/lib/python3.6/dist-packages (from spacy>=2.0.0->finetune) (2.0.1)\n",
            "Requirement already satisfied, skipping upgrade: blis<0.3.0,>=0.2.2 in /usr/local/lib/python3.6/dist-packages (from spacy>=2.0.0->finetune) (0.2.4)\n",
            "Requirement already satisfied, skipping upgrade: jsonschema<3.1.0,>=2.6.0 in /usr/local/lib/python3.6/dist-packages (from spacy>=2.0.0->finetune) (2.6.0)\n",
            "Requirement already satisfied, skipping upgrade: python-dateutil>=2.5.0 in /usr/local/lib/python3.6/dist-packages (from pandas>=0.23.1->finetune) (2.5.3)\n",
            "Requirement already satisfied, skipping upgrade: pytz>=2011k in /usr/local/lib/python3.6/dist-packages (from pandas>=0.23.1->finetune) (2018.9)\n",
            "Requirement already satisfied, skipping upgrade: beautifulsoup4 in /usr/local/lib/python3.6/dist-packages (from bs4>=0.0.1->finetune) (4.6.3)\n",
            "Requirement already satisfied, skipping upgrade: six in /usr/local/lib/python3.6/dist-packages (from nltk>=3.2.4->finetune) (1.12.0)\n",
            "Requirement already satisfied, skipping upgrade: wcwidth in /usr/local/lib/python3.6/dist-packages (from ftfy>=4.4.0->finetune) (0.1.7)\n",
            "Requirement already satisfied, skipping upgrade: imbalanced-learn in /usr/local/lib/python3.6/dist-packages (from imblearn>=0.0->finetune) (0.4.3)\n",
            "Requirement already satisfied, skipping upgrade: idna<2.9,>=2.5 in /usr/local/lib/python3.6/dist-packages (from requests<3.0.0,>=2.13.0->spacy>=2.0.0->finetune) (2.8)\n",
            "Requirement already satisfied, skipping upgrade: chardet<3.1.0,>=3.0.2 in /usr/local/lib/python3.6/dist-packages (from requests<3.0.0,>=2.13.0->spacy>=2.0.0->finetune) (3.0.4)\n",
            "Requirement already satisfied, skipping upgrade: urllib3<1.25,>=1.21.1 in /usr/local/lib/python3.6/dist-packages (from requests<3.0.0,>=2.13.0->spacy>=2.0.0->finetune) (1.24.3)\n",
            "Requirement already satisfied, skipping upgrade: certifi>=2017.4.17 in /usr/local/lib/python3.6/dist-packages (from requests<3.0.0,>=2.13.0->spacy>=2.0.0->finetune) (2019.3.9)\n",
            "--2019-06-16 15:59:33--  https://github.com/ameasure/autocoding-class/raw/master/msha.xlsx\n",
            "Resolving github.com (github.com)... 13.250.177.223\n",
            "Connecting to github.com (github.com)|13.250.177.223|:443... connected.\n",
            "HTTP request sent, awaiting response... 302 Found\n",
            "Location: https://raw.githubusercontent.com/ameasure/autocoding-class/master/msha.xlsx [following]\n",
            "--2019-06-16 15:59:33--  https://raw.githubusercontent.com/ameasure/autocoding-class/master/msha.xlsx\n",
            "Resolving raw.githubusercontent.com (raw.githubusercontent.com)... 151.101.0.133, 151.101.64.133, 151.101.128.133, ...\n",
            "Connecting to raw.githubusercontent.com (raw.githubusercontent.com)|151.101.0.133|:443... connected.\n",
            "HTTP request sent, awaiting response... 200 OK\n",
            "Length: 4183086 (4.0M) [application/octet-stream]\n",
            "Saving to: ‘msha.xlsx.2’\n",
            "\n",
            "msha.xlsx.2         100%[===================>]   3.99M  --.-KB/s    in 0.03s   \n",
            "\n",
            "2019-06-16 15:59:34 (124 MB/s) - ‘msha.xlsx.2’ saved [4183086/4183086]\n",
            "\n"
          ],
          "name": "stdout"
        }
      ]
    },
    {
      "cell_type": "code",
      "metadata": {
        "id": "KdpWCKhdxUNB",
        "colab_type": "code",
        "outputId": "1eea372a-2f21-4df9-d512-c5c4453df1c3",
        "colab": {
          "base_uri": "https://localhost:8080/",
          "height": 51
        }
      },
      "source": [
        "import pandas as pd\n",
        "\n",
        "df = pd.read_excel('msha.xlsx')\n",
        "df['ACCIDENT_YEAR'] = df['ACCIDENT_DT'].apply(lambda x: x.year)\n",
        "df['ACCIDENT_YEAR'].value_counts()\n",
        "df_train = df[df['ACCIDENT_YEAR'].isin([2010, 2011])][:3200].copy()\n",
        "df_valid = df[df['ACCIDENT_YEAR'] == 2012][:1000].copy()\n",
        "print('training rows:', len(df_train))\n",
        "print('validation rows:', len(df_valid))"
      ],
      "execution_count": 2,
      "outputs": [
        {
          "output_type": "stream",
          "text": [
            "training rows: 3200\n",
            "validation rows: 1000\n"
          ],
          "name": "stdout"
        }
      ]
    },
    {
      "cell_type": "code",
      "metadata": {
        "id": "mJ2sQOGF8sTW",
        "colab_type": "code",
        "colab": {
          "base_uri": "https://localhost:8080/",
          "height": 34
        },
        "outputId": "ec83aaac-2597-4d5e-d651-9a86b28f9bf5"
      },
      "source": [
        "import math\n",
        "\n",
        "batch_size = 32\n",
        "val_size = 320\n",
        "train_size = len(df_train) - val_size\n",
        "# validate once every epoch\n",
        "val_interval = math.floor(train_size / batch_size)\n",
        "print(f'val_interval={val_interval}')"
      ],
      "execution_count": 20,
      "outputs": [
        {
          "output_type": "stream",
          "text": [
            "val_interval=90\n"
          ],
          "name": "stdout"
        }
      ]
    },
    {
      "cell_type": "code",
      "metadata": {
        "id": "zxOweCiZA0KU",
        "colab_type": "code",
        "outputId": "af2360d3-960d-479d-dfd6-217a0c7bb3e4",
        "colab": {
          "base_uri": "https://localhost:8080/",
          "height": 680
        }
      },
      "source": [
        "from finetune import Classifier\n",
        "\n",
        "# max_length is the maximum number of words we will use from each narrative\n",
        "model = Classifier(batch_size=batch_size, \n",
        "                   max_length=90, \n",
        "                   n_epochs=4, \n",
        "                   val_size=val_size,\n",
        "                   val_interval=val_interval,\n",
        "                   eval_acc=True)\n",
        "model.fit(df_train['NARRATIVE'], df_train['INJ_BODY_PART'])"
      ],
      "execution_count": 21,
      "outputs": [
        {
          "output_type": "stream",
          "text": [
            "I0616 16:32:51.127326 140626639210368 base.py:104] Saving tensorboard output to /tmp/Finetunem8dmeg_p\n",
            "I0616 16:33:10.129099 140626639210368 model.py:221] Adding evaluation metrics, Accuracy\n",
            "Epoch 2/4:   3%|▎         | 96/2880 [00:01<00:53, 51.60it/s]\n",
            "Validation:   0%|          | 0/320 [00:00<?, ?it/s]\u001b[A\n",
            "Validation:  15%|█▌        | 49/320 [00:00<00:00, 484.47it/s]\u001b[A\n",
            "Validation:  29%|██▉       | 93/320 [00:00<00:00, 469.41it/s]\u001b[A\n",
            "Validation:  30%|███       | 96/320 [00:00<00:02, 78.58it/s] \u001b[A\n",
            "Validation:  40%|████      | 128/320 [00:00<00:02, 92.57it/s]\u001b[A\n",
            "Validation:  50%|█████     | 160/320 [00:00<00:01, 105.61it/s]\u001b[A\n",
            "Validation:  60%|██████    | 192/320 [00:00<00:01, 117.55it/s]\u001b[A\n",
            "Validation:  70%|███████   | 224/320 [00:01<00:00, 124.67it/s]\u001b[A\n",
            "Validation:  80%|████████  | 256/320 [00:01<00:00, 129.54it/s]\u001b[A\n",
            "Validation:  90%|█████████ | 288/320 [00:01<00:00, 137.39it/s]\u001b[A\n",
            "Validation: 100%|██████████| 320/320 [00:01<00:00, 142.00it/s]\u001b[A\n",
            "Epoch 3/4:   3%|▎         | 96/2880 [00:01<00:55, 49.99it/s]\n",
            "Validation:   0%|          | 0/320 [00:00<?, ?it/s]\u001b[A\n",
            "Validation:  15%|█▌        | 48/320 [00:00<00:00, 471.88it/s]\u001b[A\n",
            "Validation:  29%|██▉       | 93/320 [00:00<00:00, 461.10it/s]\u001b[A\n",
            "Validation:  30%|███       | 96/320 [00:00<00:02, 83.05it/s] \u001b[A\n",
            "Validation:  40%|████      | 128/320 [00:00<00:01, 96.24it/s]\u001b[A\n",
            "Validation:  50%|█████     | 160/320 [00:00<00:01, 108.68it/s]\u001b[A\n",
            "Validation:  60%|██████    | 192/320 [00:00<00:01, 119.80it/s]\u001b[A\n",
            "Validation:  70%|███████   | 224/320 [00:01<00:00, 127.20it/s]\u001b[A\n",
            "Validation:  80%|████████  | 256/320 [00:01<00:00, 129.58it/s]\u001b[A\n",
            "Validation:  90%|█████████ | 288/320 [00:01<00:00, 135.72it/s]\u001b[A\n",
            "Validation: 100%|██████████| 320/320 [00:01<00:00, 140.16it/s]\u001b[A\n",
            "Epoch 4/4:   3%|▎         | 96/2880 [00:01<00:54, 50.68it/s]\n",
            "Validation:   0%|          | 0/320 [00:00<?, ?it/s]\u001b[A\n",
            "Validation:  16%|█▌        | 50/320 [00:00<00:00, 490.60it/s]\u001b[A\n",
            "Validation:  29%|██▉       | 94/320 [00:00<00:00, 473.81it/s]\u001b[A\n",
            "Validation:  30%|███       | 96/320 [00:00<00:04, 54.80it/s] \u001b[A\n",
            "Validation:  40%|████      | 128/320 [00:00<00:02, 68.06it/s]\u001b[A\n",
            "Validation:  50%|█████     | 160/320 [00:00<00:01, 82.08it/s]\u001b[A\n",
            "Validation:  60%|██████    | 192/320 [00:00<00:01, 95.51it/s]\u001b[A\n",
            "Validation:  70%|███████   | 224/320 [00:01<00:00, 107.56it/s]\u001b[A\n",
            "Validation:  80%|████████  | 256/320 [00:01<00:00, 115.41it/s]\u001b[A\n",
            "Validation:  90%|█████████ | 288/320 [00:01<00:00, 124.17it/s]\u001b[A\n",
            "Validation: 100%|██████████| 320/320 [00:01<00:00, 132.50it/s]\u001b[A\n",
            "Epoch 4/4: 100%|██████████| 2880/2880 [01:01<00:00, 49.94it/s]\n"
          ],
          "name": "stderr"
        }
      ]
    },
    {
      "cell_type": "code",
      "metadata": {
        "id": "LWbjdsG29Pqb",
        "colab_type": "code",
        "colab": {
          "base_uri": "https://localhost:8080/",
          "height": 411
        },
        "outputId": "01769fdb-c444-49e1-8c78-603ec2740feb"
      },
      "source": [
        "# re-use the existing tensorflow graph\n",
        "with model.cached_predict():\n",
        "  # generate predictions\n",
        "  df_valid['PREDICTED_PART'] = model.predict(df_valid['NARRATIVE'].values)\n",
        "# look at a sample\n",
        "df_valid[['NARRATIVE', 'INJ_BODY_PART', 'PREDICTED_PART']].sample(5)"
      ],
      "execution_count": 22,
      "outputs": [
        {
          "output_type": "stream",
          "text": [
            "\rInference:   0%|          | 0/1000 [00:00<?, ?it/s]/usr/local/lib/python3.6/dist-packages/finetune/encoding/input_encoder.py:182: UserWarning: Some examples are longer than the max_length. Please trim documents or increase `max_length`. Fallback behaviour is to use the first 88 byte-pair encoded tokens\n",
            "  \"Fallback behaviour is to use the first {} byte-pair encoded tokens\".format(max_length - 2)\n",
            "/usr/local/lib/python3.6/dist-packages/finetune/encoding/input_encoder.py:135: UserWarning: Document is longer than max length allowed, trimming document to 90 tokens.\n",
            "  max_length\n",
            "Inference: 100%|██████████| 1000/1000 [00:18<00:00, 54.27it/s]\n"
          ],
          "name": "stderr"
        },
        {
          "output_type": "execute_result",
          "data": {
            "text/html": [
              "<div>\n",
              "<style scoped>\n",
              "    .dataframe tbody tr th:only-of-type {\n",
              "        vertical-align: middle;\n",
              "    }\n",
              "\n",
              "    .dataframe tbody tr th {\n",
              "        vertical-align: top;\n",
              "    }\n",
              "\n",
              "    .dataframe thead th {\n",
              "        text-align: right;\n",
              "    }\n",
              "</style>\n",
              "<table border=\"1\" class=\"dataframe\">\n",
              "  <thead>\n",
              "    <tr style=\"text-align: right;\">\n",
              "      <th></th>\n",
              "      <th>NARRATIVE</th>\n",
              "      <th>INJ_BODY_PART</th>\n",
              "      <th>PREDICTED_PART</th>\n",
              "    </tr>\n",
              "  </thead>\n",
              "  <tbody>\n",
              "    <tr>\n",
              "      <th>2486</th>\n",
              "      <td>Coal rolled out from rib striking employee on left lower leg causing a contusion. ****DID NOT START LOSING TIME UNTIL 3/28/12.****</td>\n",
              "      <td>LOWER LEG/TIBIA/FIBULA</td>\n",
              "      <td>LOWER LEG/TIBIA/FIBULA</td>\n",
              "    </tr>\n",
              "    <tr>\n",
              "      <th>3452</th>\n",
              "      <td>Employee was using a knife to cut a rope and states that the knife slipped and cut his lt. little finger.</td>\n",
              "      <td>FINGER(S)/THUMB</td>\n",
              "      <td>FINGER(S)/THUMB</td>\n",
              "    </tr>\n",
              "    <tr>\n",
              "      <th>3457</th>\n",
              "      <td>Walking on belt line said too much weight on right leg, slipped and fell on back. Had pain in back and right leg was trying to step up on walk board which was wet and muddy.</td>\n",
              "      <td>BACK (MUSCLES/SPINE/S-CORD/TAILBONE)</td>\n",
              "      <td>MULTIPLE PARTS (MORE THAN ONE MAJOR)</td>\n",
              "    </tr>\n",
              "    <tr>\n",
              "      <th>3106</th>\n",
              "      <td>Employee was welding and a foreign body enter his left eye.</td>\n",
              "      <td>EYE(S) OPTIC NERVE/VISON</td>\n",
              "      <td>EYE(S) OPTIC NERVE/VISON</td>\n",
              "    </tr>\n",
              "    <tr>\n",
              "      <th>1984</th>\n",
              "      <td>This accident is still under investigation and my be revised at a later date. Employee had parked rock truck to help crusher crew. When he stepped on the second to last step he slipped and fell to the ground into his back. He did not wish for medical attention at that time. On 1/20/12 he decided to see a doctor.</td>\n",
              "      <td>BACK (MUSCLES/SPINE/S-CORD/TAILBONE)</td>\n",
              "      <td>BACK (MUSCLES/SPINE/S-CORD/TAILBONE)</td>\n",
              "    </tr>\n",
              "  </tbody>\n",
              "</table>\n",
              "</div>"
            ],
            "text/plain": [
              "                                                                                                                                                                                                                                                                                                                      NARRATIVE  ...                        PREDICTED_PART\n",
              "2486                                                                                                                                                                                         Coal rolled out from rib striking employee on left lower leg causing a contusion. ****DID NOT START LOSING TIME UNTIL 3/28/12.****  ...                LOWER LEG/TIBIA/FIBULA\n",
              "3452                                                                                                                                                                                                                  Employee was using a knife to cut a rope and states that the knife slipped and cut his lt. little finger.  ...                       FINGER(S)/THUMB\n",
              "3457                                                                                                                                              Walking on belt line said too much weight on right leg, slipped and fell on back. Had pain in back and right leg was trying to step up on walk board which was wet and muddy.  ...  MULTIPLE PARTS (MORE THAN ONE MAJOR)\n",
              "3106                                                                                                                                                                                                                                                                Employee was welding and a foreign body enter his left eye.  ...              EYE(S) OPTIC NERVE/VISON\n",
              "1984  This accident is still under investigation and my be revised at a later date. Employee had parked rock truck to help crusher crew. When he stepped on the second to last step he slipped and fell to the ground into his back. He did not wish for medical attention at that time. On 1/20/12 he decided to see a doctor.  ...  BACK (MUSCLES/SPINE/S-CORD/TAILBONE)\n",
              "\n",
              "[5 rows x 3 columns]"
            ]
          },
          "metadata": {
            "tags": []
          },
          "execution_count": 22
        }
      ]
    },
    {
      "cell_type": "code",
      "metadata": {
        "id": "Lmb9BX0RA9bN",
        "colab_type": "code",
        "colab": {
          "base_uri": "https://localhost:8080/",
          "height": 318
        },
        "outputId": "91fd9863-af35-4047-b45c-9bf2fbd39f71"
      },
      "source": [
        "pd.options.display.max_colwidth=500\n",
        "with model.cached_predict():\n",
        "  df_valid['PROB_DICT'] = model.predict_proba(df_valid['NARRATIVE'].values)\n",
        "df_valid[['NARRATIVE', 'PREDICTED_PART', 'PROB_DICT']].head(2)"
      ],
      "execution_count": 23,
      "outputs": [
        {
          "output_type": "stream",
          "text": [
            "/usr/local/lib/python3.6/dist-packages/finetune/encoding/input_encoder.py:182: UserWarning: Some examples are longer than the max_length. Please trim documents or increase `max_length`. Fallback behaviour is to use the first 88 byte-pair encoded tokens\n",
            "  \"Fallback behaviour is to use the first {} byte-pair encoded tokens\".format(max_length - 2)\n",
            "/usr/local/lib/python3.6/dist-packages/finetune/encoding/input_encoder.py:135: UserWarning: Document is longer than max length allowed, trimming document to 90 tokens.\n",
            "  max_length\n",
            "Inference: 100%|██████████| 1000/1000 [00:07<00:00, 129.05it/s]\n"
          ],
          "name": "stderr"
        },
        {
          "output_type": "execute_result",
          "data": {
            "text/html": [
              "<div>\n",
              "<style scoped>\n",
              "    .dataframe tbody tr th:only-of-type {\n",
              "        vertical-align: middle;\n",
              "    }\n",
              "\n",
              "    .dataframe tbody tr th {\n",
              "        vertical-align: top;\n",
              "    }\n",
              "\n",
              "    .dataframe thead th {\n",
              "        text-align: right;\n",
              "    }\n",
              "</style>\n",
              "<table border=\"1\" class=\"dataframe\">\n",
              "  <thead>\n",
              "    <tr style=\"text-align: right;\">\n",
              "      <th></th>\n",
              "      <th>NARRATIVE</th>\n",
              "      <th>PREDICTED_PART</th>\n",
              "      <th>PROB_DICT</th>\n",
              "    </tr>\n",
              "  </thead>\n",
              "  <tbody>\n",
              "    <tr>\n",
              "      <th>2</th>\n",
              "      <td>Employee, parked s/c on grade at 16-Block #3 Entry Spad #3868. S/c slid approx. 3' pinning oper. between s/c &amp; rib, employee had set park brake and got off machine to move roof bolter cable.</td>\n",
              "      <td>CHEST (RIBS/BREAST BONE/CHEST ORGNS)</td>\n",
              "      <td>{'ABDOMEN/INTERNAL ORGANS': 1.6925336e-05, 'ANKLE': 1.4378819e-05, 'ARM, MULTIPLE PARTS': 1.3527091e-05, 'ARM,NEC': 3.2564294e-05, 'BACK (MUSCLES/SPINE/S-CORD/TAILBONE)': 8.9107025e-06, 'BODY SYSTEMS': 2.5714748e-05, 'BRAIN': 1.5362051e-05, 'CHEST (RIBS/BREAST BONE/CHEST ORGNS)': 2.2794888e-05, 'EAR(S) EXTERNAL': 4.5170873e-05, 'EAR(S) INTERNAL &amp; HEARING': 4.3377437e-05, 'ELBOW': 2.8746328e-05, 'EYE(S) OPTIC NERVE/VISON': 3.5216468e-05, 'FACE, MULTIPLE PARTS': 5.3805532e-05, 'FACE,NEC': 3.61...</td>\n",
              "    </tr>\n",
              "    <tr>\n",
              "      <th>5</th>\n",
              "      <td>Possible heart attack.</td>\n",
              "      <td>BODY SYSTEMS</td>\n",
              "      <td>{'ABDOMEN/INTERNAL ORGANS': 0.00059487275, 'ANKLE': 0.00014386217, 'ARM, MULTIPLE PARTS': 0.0005284241, 'ARM,NEC': 0.0002205993, 'BACK (MUSCLES/SPINE/S-CORD/TAILBONE)': 0.0003225865, 'BODY SYSTEMS': 0.002054714, 'BRAIN': 0.102767654, 'CHEST (RIBS/BREAST BONE/CHEST ORGNS)': 0.00039653, 'EAR(S) EXTERNAL': 0.00032873746, 'EAR(S) INTERNAL &amp; HEARING': 0.0005502523, 'ELBOW': 0.00045330886, 'EYE(S) OPTIC NERVE/VISON': 0.0011364677, 'FACE, MULTIPLE PARTS': 0.004714678, 'FACE,NEC': 0.0026187112, 'FIN...</td>\n",
              "    </tr>\n",
              "  </tbody>\n",
              "</table>\n",
              "</div>"
            ],
            "text/plain": [
              "                                                                                                                                                                                        NARRATIVE  ...                                                                                                                                                                                                                                                                                                                                                                                                                                                                                                            PROB_DICT\n",
              "2  Employee, parked s/c on grade at 16-Block #3 Entry Spad #3868. S/c slid approx. 3' pinning oper. between s/c & rib, employee had set park brake and got off machine to move roof bolter cable.  ...  {'ABDOMEN/INTERNAL ORGANS': 1.6925336e-05, 'ANKLE': 1.4378819e-05, 'ARM, MULTIPLE PARTS': 1.3527091e-05, 'ARM,NEC': 3.2564294e-05, 'BACK (MUSCLES/SPINE/S-CORD/TAILBONE)': 8.9107025e-06, 'BODY SYSTEMS': 2.5714748e-05, 'BRAIN': 1.5362051e-05, 'CHEST (RIBS/BREAST BONE/CHEST ORGNS)': 2.2794888e-05, 'EAR(S) EXTERNAL': 4.5170873e-05, 'EAR(S) INTERNAL & HEARING': 4.3377437e-05, 'ELBOW': 2.8746328e-05, 'EYE(S) OPTIC NERVE/VISON': 3.5216468e-05, 'FACE, MULTIPLE PARTS': 5.3805532e-05, 'FACE,NEC': 3.61...\n",
              "5                                                                                                                                                                          Possible heart attack.  ...  {'ABDOMEN/INTERNAL ORGANS': 0.00059487275, 'ANKLE': 0.00014386217, 'ARM, MULTIPLE PARTS': 0.0005284241, 'ARM,NEC': 0.0002205993, 'BACK (MUSCLES/SPINE/S-CORD/TAILBONE)': 0.0003225865, 'BODY SYSTEMS': 0.002054714, 'BRAIN': 0.102767654, 'CHEST (RIBS/BREAST BONE/CHEST ORGNS)': 0.00039653, 'EAR(S) EXTERNAL': 0.00032873746, 'EAR(S) INTERNAL & HEARING': 0.0005502523, 'ELBOW': 0.00045330886, 'EYE(S) OPTIC NERVE/VISON': 0.0011364677, 'FACE, MULTIPLE PARTS': 0.004714678, 'FACE,NEC': 0.0026187112, 'FIN...\n",
              "\n",
              "[2 rows x 3 columns]"
            ]
          },
          "metadata": {
            "tags": []
          },
          "execution_count": 23
        }
      ]
    },
    {
      "cell_type": "code",
      "metadata": {
        "id": "HvZ3fBw3BBWf",
        "colab_type": "code",
        "colab": {
          "base_uri": "https://localhost:8080/",
          "height": 272
        },
        "outputId": "b7fd0727-3c21-4ddf-e4aa-69b4f95421bb"
      },
      "source": [
        "# function that takes a row of our dataframe and returns the predicted probability\n",
        "def get_probability(row):\n",
        "    predicted_part = row['PREDICTED_PART']\n",
        "    probability_dict = row['PROB_DICT']\n",
        "    return probability_dict[predicted_part]\n",
        "\n",
        "# apply get_probability to each row in our dataframe and store the result\n",
        "df_valid['PREDICTED_PROB'] = df_valid.apply(func=get_probability, axis=1)\n",
        "# take a peak at what we get\n",
        "df_valid[['NARRATIVE', 'INJ_BODY_PART', 'PREDICTED_PART', 'PREDICTED_PROB']].sample(5).head()"
      ],
      "execution_count": 24,
      "outputs": [
        {
          "output_type": "execute_result",
          "data": {
            "text/html": [
              "<div>\n",
              "<style scoped>\n",
              "    .dataframe tbody tr th:only-of-type {\n",
              "        vertical-align: middle;\n",
              "    }\n",
              "\n",
              "    .dataframe tbody tr th {\n",
              "        vertical-align: top;\n",
              "    }\n",
              "\n",
              "    .dataframe thead th {\n",
              "        text-align: right;\n",
              "    }\n",
              "</style>\n",
              "<table border=\"1\" class=\"dataframe\">\n",
              "  <thead>\n",
              "    <tr style=\"text-align: right;\">\n",
              "      <th></th>\n",
              "      <th>NARRATIVE</th>\n",
              "      <th>INJ_BODY_PART</th>\n",
              "      <th>PREDICTED_PART</th>\n",
              "      <th>PREDICTED_PROB</th>\n",
              "    </tr>\n",
              "  </thead>\n",
              "  <tbody>\n",
              "    <tr>\n",
              "      <th>421</th>\n",
              "      <td>Hearing Loss</td>\n",
              "      <td>EAR(S) INTERNAL &amp; HEARING</td>\n",
              "      <td>EAR(S) INTERNAL &amp; HEARING</td>\n",
              "      <td>0.000008</td>\n",
              "    </tr>\n",
              "    <tr>\n",
              "      <th>3249</th>\n",
              "      <td>Employee was performing routine maintenance on the propel motor on shovel 4 when he experienced electric shock.</td>\n",
              "      <td>BODY SYSTEMS</td>\n",
              "      <td>BODY SYSTEMS</td>\n",
              "      <td>0.000145</td>\n",
              "    </tr>\n",
              "    <tr>\n",
              "      <th>463</th>\n",
              "      <td>A PIECE OF WATER LINE FELL TWO FEET AND STRUCK EMPLOYEE ON THE SHOULDER CAUSING BRUISING.</td>\n",
              "      <td>SHOULDERS (COLLARBONE/CLAVICLE/SCAPULA)</td>\n",
              "      <td>SHOULDERS (COLLARBONE/CLAVICLE/SCAPULA)</td>\n",
              "      <td>0.001458</td>\n",
              "    </tr>\n",
              "    <tr>\n",
              "      <th>2703</th>\n",
              "      <td>Operator was changing drill steel bit when the chain wrench broke and a piece of the bar hit the back/side of the operators left knee. No initial treatment was sought. Area around the impact began to swell after a couple of days and that's when the operator sought medical attention</td>\n",
              "      <td>KNEE/PATELLA</td>\n",
              "      <td>MULTIPLE PARTS (MORE THAN ONE MAJOR)</td>\n",
              "      <td>0.000106</td>\n",
              "    </tr>\n",
              "    <tr>\n",
              "      <th>3402</th>\n",
              "      <td>Employee slipped and fell into a sump hole injuring shoulder and back. Company was notified this was a medical injury on 12/19/2012.</td>\n",
              "      <td>BACK (MUSCLES/SPINE/S-CORD/TAILBONE)</td>\n",
              "      <td>MULTIPLE PARTS (MORE THAN ONE MAJOR)</td>\n",
              "      <td>0.106359</td>\n",
              "    </tr>\n",
              "  </tbody>\n",
              "</table>\n",
              "</div>"
            ],
            "text/plain": [
              "                                                                                                                                                                                                                                                                                       NARRATIVE  ... PREDICTED_PROB\n",
              "421                                                                                                                                                                                                                                                                                 Hearing Loss  ...       0.000008\n",
              "3249                                                                                                                                                                             Employee was performing routine maintenance on the propel motor on shovel 4 when he experienced electric shock.  ...       0.000145\n",
              "463                                                                                                                                                                                                    A PIECE OF WATER LINE FELL TWO FEET AND STRUCK EMPLOYEE ON THE SHOULDER CAUSING BRUISING.  ...       0.001458\n",
              "2703  Operator was changing drill steel bit when the chain wrench broke and a piece of the bar hit the back/side of the operators left knee. No initial treatment was sought. Area around the impact began to swell after a couple of days and that's when the operator sought medical attention  ...       0.000106\n",
              "3402                                                                                                                                                        Employee slipped and fell into a sump hole injuring shoulder and back. Company was notified this was a medical injury on 12/19/2012.  ...       0.106359\n",
              "\n",
              "[5 rows x 4 columns]"
            ]
          },
          "metadata": {
            "tags": []
          },
          "execution_count": 24
        }
      ]
    },
    {
      "cell_type": "code",
      "metadata": {
        "id": "p6Tzjh2JBD4M",
        "colab_type": "code",
        "colab": {
          "base_uri": "https://localhost:8080/",
          "height": 85
        },
        "outputId": "a22c120b-1c94-4e78-c3ef-7c4726b76b9e"
      },
      "source": [
        "from sklearn.metrics import accuracy_score, f1_score\n",
        "\n",
        "mf1 = f1_score(df_valid['INJ_BODY_PART'], df_valid['PREDICTED_PART'], average='macro')\n",
        "acc = accuracy_score(df_valid['INJ_BODY_PART'], df_valid['PREDICTED_PART'])\n",
        "print('macro-f1:', mf1)\n",
        "print('accuracy:', acc)"
      ],
      "execution_count": 25,
      "outputs": [
        {
          "output_type": "stream",
          "text": [
            "macro-f1: 0.5759598454236836\n",
            "accuracy: 0.815\n"
          ],
          "name": "stdout"
        },
        {
          "output_type": "stream",
          "text": [
            "/usr/local/lib/python3.6/dist-packages/sklearn/metrics/classification.py:1437: UndefinedMetricWarning: F-score is ill-defined and being set to 0.0 in labels with no predicted samples.\n",
            "  'precision', 'predicted', average, warn_for)\n"
          ],
          "name": "stderr"
        }
      ]
    },
    {
      "cell_type": "code",
      "metadata": {
        "id": "htL4vk4BM0Jx",
        "colab_type": "code",
        "colab": {
          "base_uri": "https://localhost:8080/",
          "height": 54
        },
        "outputId": "6e48c9d1-aeb8-4558-e520-14cdb99b30dc"
      },
      "source": [
        "model.generate_text(seed_text='He was cleaning the')"
      ],
      "execution_count": 26,
      "outputs": [
        {
          "output_type": "execute_result",
          "data": {
            "text/plain": [
              "'_start_he was cleaning the mess spills spills spills spills spills spill spill spill spill spill spill spill spill spill spill spill pour pour pour pour pour pour pour pour pour pour pour pour pour pour pour pour pour pour pour pour pour pour pour pour pour pour pour pour pour pour pour pour pour pour pour pour pour pour pour pour pour pour pour pour pour pour pour pour pour pour pour pour pour pour pour pour pour pour pour pour pour pour pour pour pour pour pour '"
            ]
          },
          "metadata": {
            "tags": []
          },
          "execution_count": 26
        }
      ]
    }
  ]
}