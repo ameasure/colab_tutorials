{
  "nbformat": 4,
  "nbformat_minor": 0,
  "metadata": {
    "colab": {
      "name": "Overview of Colaboratory Features",
      "version": "0.3.2",
      "provenance": [],
      "collapsed_sections": [],
      "toc_visible": true,
      "include_colab_link": true
    },
    "kernelspec": {
      "display_name": "Python 3",
      "name": "python3"
    },
    "accelerator": "GPU"
  },
  "cells": [
    {
      "cell_type": "markdown",
      "metadata": {
        "id": "view-in-github",
        "colab_type": "text"
      },
      "source": [
        "[View in Colaboratory](https://colab.research.google.com/github/ameasure/try_git/blob/master/NNet%20Demo.ipynb)"
      ]
    },
    {
      "metadata": {
        "id": "qdfXUmXvfYZj",
        "colab_type": "code",
        "colab": {
          "base_uri": "https://localhost:8080/",
          "height": 34
        },
        "outputId": "0fee961e-689a-48a5-ffe3-817677abd63e"
      },
      "cell_type": "code",
      "source": [
        "import tensorflow\n",
        "import keras"
      ],
      "execution_count": 2,
      "outputs": [
        {
          "output_type": "stream",
          "text": [
            "Using TensorFlow backend.\n"
          ],
          "name": "stderr"
        }
      ]
    },
    {
      "metadata": {
        "id": "_5ZJ4atggzED",
        "colab_type": "code",
        "colab": {
          "base_uri": "https://localhost:8080/",
          "height": 213
        },
        "outputId": "46e91b58-cfca-4234-9963-1c892fbb12ad"
      },
      "cell_type": "code",
      "source": [
        "!pip install tables"
      ],
      "execution_count": 3,
      "outputs": [
        {
          "output_type": "stream",
          "text": [
            "Collecting tables\n",
            "\u001b[?25l  Downloading https://files.pythonhosted.org/packages/d7/1b/21f4c7f296b718575c17ef25e61c05742a283c45077b4c8d5a190b3e0b59/tables-3.4.4-cp36-cp36m-manylinux1_x86_64.whl (3.8MB)\n",
            "\u001b[K    100% |████████████████████████████████| 3.8MB 943kB/s \n",
            "\u001b[?25hRequirement already satisfied: six>=1.9.0 in /usr/local/lib/python3.6/dist-packages (from tables) (1.11.0)\n",
            "Collecting numexpr>=2.5.2 (from tables)\n",
            "\u001b[?25l  Downloading https://files.pythonhosted.org/packages/db/ea/efd9e16283637eb5b6c0042b6cc3521f1b9a5b47767ac463c88bbd37670c/numexpr-2.6.8-cp36-cp36m-manylinux1_x86_64.whl (162kB)\n",
            "\u001b[K    100% |████████████████████████████████| 163kB 23.5MB/s \n",
            "\u001b[?25hRequirement already satisfied: numpy>=1.8.0 in /usr/local/lib/python3.6/dist-packages (from tables) (1.14.5)\n",
            "Installing collected packages: numexpr, tables\n",
            "Successfully installed numexpr-2.6.8 tables-3.4.4\n"
          ],
          "name": "stdout"
        }
      ]
    },
    {
      "metadata": {
        "id": "FN12CG6sfZ0o",
        "colab_type": "code",
        "colab": {
          "base_uri": "https://localhost:8080/",
          "height": 34
        },
        "outputId": "ce3d3a4d-c4fd-4fe4-dac0-b23a51246573"
      },
      "cell_type": "code",
      "source": [
        "tensorflow.__version__"
      ],
      "execution_count": 4,
      "outputs": [
        {
          "output_type": "execute_result",
          "data": {
            "text/plain": [
              "'1.11.0-rc1'"
            ]
          },
          "metadata": {
            "tags": []
          },
          "execution_count": 4
        }
      ]
    },
    {
      "metadata": {
        "id": "Oh_ZP-LcfpPp",
        "colab_type": "code",
        "colab": {
          "base_uri": "https://localhost:8080/",
          "height": 34
        },
        "outputId": "89a6b5e8-ebc7-4759-c448-68612972851f"
      },
      "cell_type": "code",
      "source": [
        "keras.__version__"
      ],
      "execution_count": 5,
      "outputs": [
        {
          "output_type": "execute_result",
          "data": {
            "text/plain": [
              "'2.1.6'"
            ]
          },
          "metadata": {
            "tags": []
          },
          "execution_count": 5
        }
      ]
    },
    {
      "metadata": {
        "id": "ZYGTzc1MfqaZ",
        "colab_type": "code",
        "colab": {}
      },
      "cell_type": "code",
      "source": [
        "from sklearn.feature_extraction.text import CountVectorizer\n",
        "from sklearn.preprocessing import LabelBinarizer\n",
        "\n",
        "from keras.models import Model\n",
        "from keras.layers import Dense, Input, Dropout\n",
        "from keras.optimizers import Adam\n",
        "\n",
        "import pandas as pd\n",
        "\n",
        "# read in our training data\n",
        "df_train = pd.read_hdf('msha_2010-2011.h5')\n",
        "# read in our validation data\n",
        "df_valid = pd.read_hdf('msha_2012.h5')\n",
        "\n",
        "# create bag of words features\n",
        "vectorizer = CountVectorizer()\n",
        "vectorizer.fit(df_train['NARRATIVE'])\n",
        "X_train = vectorizer.transform(df_train['NARRATIVE'])\n",
        "X_valid = vectorizer.transform(df_valid['NARRATIVE'])\n",
        "\n",
        "# keras only accepts a one-hot encoding of the training labels\n",
        "# we do that here\n",
        "label_encoder = LabelBinarizer().fit(df_train['INJ_BODY_PART'])\n",
        "y_train = label_encoder.transform(df_train['INJ_BODY_PART'])\n",
        "y_valid = label_encoder.transform(df_valid['INJ_BODY_PART'])\n",
        "\n",
        "# specify the shape of our model, specifically the number of\n",
        "# features will be equal to however many features are created by our\n",
        "# vectorizer (i.e. X_train.shape[1])\n",
        "text_input = Input(shape=(X_train.shape[1],))\n",
        "# the first layer will take as input our raw features\n",
        "# it will consist of 100 artificial neurons, each with a relu activation\n",
        "layer1 = Dense(units=100, activation='relu')(text_input)\n",
        "# the next layer will take as input the outputs from layer 1\n",
        "# it will produce a softmax output for the number of classes\n",
        "output = Dense(units=len(label_encoder.classes_), activation='softmax')(layer1)\n",
        "# specify the inputs and outputs of our model\n",
        "# input is the raw text features\n",
        "# output is the predicted probabilities\n",
        "model = Model(inputs=[text_input], outputs=[output])\n",
        "# specify the algorithm for calculating weights 'adam'\n",
        "# specify the loss function 'categorical_crossentropy'\n",
        "# specify the validation metrics we will calculate after each epoch\n",
        "model.compile(optimizer='adam', \n",
        "              loss='categorical_crossentropy', \n",
        "              metrics=['accuracy'])"
      ],
      "execution_count": 0,
      "outputs": []
    },
    {
      "metadata": {
        "id": "KfURgbrIhKs5",
        "colab_type": "code",
        "colab": {
          "base_uri": "https://localhost:8080/",
          "height": 246
        },
        "outputId": "98754a04-0dc8-4cfe-bf92-c55137e31798"
      },
      "cell_type": "code",
      "source": [
        "model.summary()"
      ],
      "execution_count": 7,
      "outputs": [
        {
          "output_type": "stream",
          "text": [
            "_________________________________________________________________\n",
            "Layer (type)                 Output Shape              Param #   \n",
            "=================================================================\n",
            "input_1 (InputLayer)         (None, 11915)             0         \n",
            "_________________________________________________________________\n",
            "dense_1 (Dense)              (None, 100)               1191600   \n",
            "_________________________________________________________________\n",
            "dense_2 (Dense)              (None, 46)                4646      \n",
            "=================================================================\n",
            "Total params: 1,196,246\n",
            "Trainable params: 1,196,246\n",
            "Non-trainable params: 0\n",
            "_________________________________________________________________\n"
          ],
          "name": "stdout"
        }
      ]
    },
    {
      "metadata": {
        "id": "kEbWfXbhhNiK",
        "colab_type": "code",
        "colab": {
          "base_uri": "https://localhost:8080/",
          "height": 228
        },
        "outputId": "582b132b-a836-4b3f-c9a5-13f06457ac24"
      },
      "cell_type": "code",
      "source": [
        "model.fit(x=X_train, y=y_train,\n",
        "          validation_data=(X_valid, y_valid),\n",
        "          batch_size=32, epochs=5)"
      ],
      "execution_count": 8,
      "outputs": [
        {
          "output_type": "stream",
          "text": [
            "Train on 18681 samples, validate on 9032 samples\n",
            "Epoch 1/5\n",
            "18681/18681 [==============================] - 8s 414us/step - loss: 1.6679 - acc: 0.6208 - val_loss: 1.0060 - val_acc: 0.7580\n",
            "Epoch 2/5\n",
            "18681/18681 [==============================] - 7s 350us/step - loss: 0.7112 - acc: 0.8266 - val_loss: 0.8859 - val_acc: 0.7726\n",
            "Epoch 3/5\n",
            "18681/18681 [==============================] - 7s 351us/step - loss: 0.4338 - acc: 0.8912 - val_loss: 0.8928 - val_acc: 0.7658\n",
            "Epoch 4/5\n",
            "18681/18681 [==============================] - 7s 351us/step - loss: 0.2879 - acc: 0.9314 - val_loss: 0.9296 - val_acc: 0.7620\n",
            "Epoch 5/5\n",
            "18681/18681 [==============================] - 7s 350us/step - loss: 0.1987 - acc: 0.9545 - val_loss: 1.0207 - val_acc: 0.7480\n"
          ],
          "name": "stdout"
        },
        {
          "output_type": "execute_result",
          "data": {
            "text/plain": [
              "<keras.callbacks.History at 0x7f23ebc12128>"
            ]
          },
          "metadata": {
            "tags": []
          },
          "execution_count": 8
        }
      ]
    },
    {
      "metadata": {
        "id": "GvFOoSNfhPcq",
        "colab_type": "code",
        "colab": {
          "base_uri": "https://localhost:8080/",
          "height": 378
        },
        "outputId": "22ee9d7a-8c5e-4ac1-aa3a-737e1ff18fbb"
      },
      "cell_type": "code",
      "source": [
        "from matplotlib import pyplot as plt\n",
        "\n",
        "plt.xlabel('epoch')\n",
        "plt.ylabel('validation accuracy')\n",
        "plt.plot(model.history.history['val_acc'])"
      ],
      "execution_count": 9,
      "outputs": [
        {
          "output_type": "execute_result",
          "data": {
            "text/plain": [
              "[<matplotlib.lines.Line2D at 0x7f23c0f7a400>]"
            ]
          },
          "metadata": {
            "tags": []
          },
          "execution_count": 9
        },
        {
          "output_type": "display_data",
          "data": {
            "image/png": "[encoded data removed]",
            "text/plain": [
              "<matplotlib.figure.Figure at 0x7f23c76a9ba8>"
            ]
          },
          "metadata": {
            "tags": []
          }
        }
      ]
    }
  ]
}