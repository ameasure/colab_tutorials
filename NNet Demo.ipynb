{
  "nbformat": 4,
  "nbformat_minor": 0,
  "metadata": {
    "colab": {
      "name": "Overview of Colaboratory Features",
      "version": "0.3.2",
      "provenance": [],
      "collapsed_sections": [],
      "toc_visible": true,
      "include_colab_link": true
    },
    "kernelspec": {
      "display_name": "Python 3",
      "name": "python3"
    },
    "accelerator": "GPU"
  },
  "cells": [
    {
      "cell_type": "markdown",
      "metadata": {
        "id": "view-in-github",
        "colab_type": "text"
      },
      "source": [
        "[View in Colaboratory](https://colab.research.google.com/github/ameasure/try_git/blob/master/NNet%20Demo.ipynb)"
      ]
    },
    {
      "metadata": {
        "id": "qdfXUmXvfYZj",
        "colab_type": "code",
        "colab": {
          "base_uri": "https://localhost:8080/",
          "height": 34
        },
        "outputId": "cf5216a7-8d58-41b8-ad96-4edfd380dbf5"
      },
      "cell_type": "code",
      "source": [
        "import tensorflow\n",
        "import keras"
      ],
      "execution_count": 1,
      "outputs": [
        {
          "output_type": "stream",
          "text": [
            "Using TensorFlow backend.\n"
          ],
          "name": "stderr"
        }
      ]
    },
    {
      "metadata": {
        "id": "_5ZJ4atggzED",
        "colab_type": "code",
        "colab": {
          "base_uri": "https://localhost:8080/",
          "height": 213
        },
        "outputId": "e744d0fe-6563-4682-f651-dd078b12eabd"
      },
      "cell_type": "code",
      "source": [
        "!pip install tables"
      ],
      "execution_count": 2,
      "outputs": [
        {
          "output_type": "stream",
          "text": [
            "Collecting tables\n",
            "\u001b[?25l  Downloading https://files.pythonhosted.org/packages/d7/1b/21f4c7f296b718575c17ef25e61c05742a283c45077b4c8d5a190b3e0b59/tables-3.4.4-cp36-cp36m-manylinux1_x86_64.whl (3.8MB)\n",
            "\u001b[K    100% |████████████████████████████████| 3.8MB 948kB/s \n",
            "\u001b[?25hRequirement already satisfied: numpy>=1.8.0 in /usr/local/lib/python3.6/dist-packages (from tables) (1.14.5)\n",
            "Requirement already satisfied: six>=1.9.0 in /usr/local/lib/python3.6/dist-packages (from tables) (1.11.0)\n",
            "Collecting numexpr>=2.5.2 (from tables)\n",
            "\u001b[?25l  Downloading https://files.pythonhosted.org/packages/db/ea/efd9e16283637eb5b6c0042b6cc3521f1b9a5b47767ac463c88bbd37670c/numexpr-2.6.8-cp36-cp36m-manylinux1_x86_64.whl (162kB)\n",
            "\u001b[K    100% |████████████████████████████████| 163kB 26.4MB/s \n",
            "\u001b[?25hInstalling collected packages: numexpr, tables\n",
            "Successfully installed numexpr-2.6.8 tables-3.4.4\n"
          ],
          "name": "stdout"
        }
      ]
    },
    {
      "metadata": {
        "id": "FN12CG6sfZ0o",
        "colab_type": "code",
        "colab": {
          "base_uri": "https://localhost:8080/",
          "height": 34
        },
        "outputId": "f4a2907e-90c1-43dc-8ed2-8357ce80dc14"
      },
      "cell_type": "code",
      "source": [
        "tensorflow.__version__"
      ],
      "execution_count": 3,
      "outputs": [
        {
          "output_type": "execute_result",
          "data": {
            "text/plain": [
              "'1.11.0-rc1'"
            ]
          },
          "metadata": {
            "tags": []
          },
          "execution_count": 3
        }
      ]
    },
    {
      "metadata": {
        "id": "Oh_ZP-LcfpPp",
        "colab_type": "code",
        "colab": {
          "base_uri": "https://localhost:8080/",
          "height": 34
        },
        "outputId": "eb9f31cd-bba1-483f-efb3-95db4b52a308"
      },
      "cell_type": "code",
      "source": [
        "keras.__version__"
      ],
      "execution_count": 4,
      "outputs": [
        {
          "output_type": "execute_result",
          "data": {
            "text/plain": [
              "'2.1.6'"
            ]
          },
          "metadata": {
            "tags": []
          },
          "execution_count": 4
        }
      ]
    },
    {
      "metadata": {
        "id": "ZYGTzc1MfqaZ",
        "colab_type": "code",
        "colab": {}
      },
      "cell_type": "code",
      "source": [
        "from sklearn.feature_extraction.text import CountVectorizer\n",
        "from sklearn.preprocessing import LabelBinarizer\n",
        "\n",
        "from keras.models import Model\n",
        "from keras.layers import Dense, Input, Dropout\n",
        "from keras.optimizers import Adam\n",
        "\n",
        "import pandas as pd\n",
        "\n",
        "# read in our training data\n",
        "df_train = pd.read_hdf('msha_2010-2011.h5')\n",
        "# read in our validation data\n",
        "df_valid = pd.read_hdf('msha_2012.h5')\n",
        "\n",
        "# create bag of words features\n",
        "vectorizer = CountVectorizer()\n",
        "vectorizer.fit(df_train['NARRATIVE'])\n",
        "X_train = vectorizer.transform(df_train['NARRATIVE'])\n",
        "X_valid = vectorizer.transform(df_valid['NARRATIVE'])\n",
        "\n",
        "# keras only accepts a one-hot encoding of the training labels\n",
        "# we do that here\n",
        "label_encoder = LabelBinarizer().fit(df_train['INJ_BODY_PART'])\n",
        "y_train = label_encoder.transform(df_train['INJ_BODY_PART'])\n",
        "y_valid = label_encoder.transform(df_valid['INJ_BODY_PART'])\n",
        "\n",
        "# specify the shape of our model, specifically the number of\n",
        "# features will be equal to however many features are created by our\n",
        "# vectorizer (i.e. X_train.shape[1])\n",
        "text_input = Input(shape=(X_train.shape[1],))\n",
        "# the first layer will take as input our raw features\n",
        "# it will consist of 100 artificial neurons, each with a relu activation\n",
        "layer1 = Dense(units=100, activation='relu')(text_input)\n",
        "# the next layer will take as input the outputs from layer 1\n",
        "# it will produce a softmax output for the number of classes\n",
        "output = Dense(units=len(label_encoder.classes_), activation='softmax')(layer1)\n",
        "# specify the inputs and outputs of our model\n",
        "# input is the raw text features\n",
        "# output is the predicted probabilities\n",
        "model = Model(inputs=[text_input], outputs=[output])\n",
        "# specify the algorithm for calculating weights 'adam'\n",
        "# specify the loss function 'categorical_crossentropy'\n",
        "# specify the validation metrics we will calculate after each epoch\n",
        "model.compile(optimizer='adam', \n",
        "              loss='categorical_crossentropy', \n",
        "              metrics=['accuracy'])"
      ],
      "execution_count": 0,
      "outputs": []
    },
    {
      "metadata": {
        "id": "KfURgbrIhKs5",
        "colab_type": "code",
        "colab": {
          "base_uri": "https://localhost:8080/",
          "height": 246
        },
        "outputId": "a0eff999-ed11-4e42-90b0-b94705bce7ae"
      },
      "cell_type": "code",
      "source": [
        "model.summary()"
      ],
      "execution_count": 10,
      "outputs": [
        {
          "output_type": "stream",
          "text": [
            "_________________________________________________________________\n",
            "Layer (type)                 Output Shape              Param #   \n",
            "=================================================================\n",
            "input_1 (InputLayer)         (None, 11915)             0         \n",
            "_________________________________________________________________\n",
            "dense_1 (Dense)              (None, 100)               1191600   \n",
            "_________________________________________________________________\n",
            "dense_2 (Dense)              (None, 46)                4646      \n",
            "=================================================================\n",
            "Total params: 1,196,246\n",
            "Trainable params: 1,196,246\n",
            "Non-trainable params: 0\n",
            "_________________________________________________________________\n"
          ],
          "name": "stdout"
        }
      ]
    },
    {
      "metadata": {
        "id": "kEbWfXbhhNiK",
        "colab_type": "code",
        "colab": {
          "base_uri": "https://localhost:8080/",
          "height": 228
        },
        "outputId": "f2febcf3-cbf3-4bfd-f20a-ef5337f8c6b1"
      },
      "cell_type": "code",
      "source": [
        "model.fit(x=X_train, y=y_train,\n",
        "          validation_data=(X_valid, y_valid),\n",
        "          batch_size=32, epochs=5)"
      ],
      "execution_count": 11,
      "outputs": [
        {
          "output_type": "stream",
          "text": [
            "Train on 18681 samples, validate on 9032 samples\n",
            "Epoch 1/5\n",
            "18681/18681 [==============================] - 8s 426us/step - loss: 1.6640 - acc: 0.6196 - val_loss: 1.0061 - val_acc: 0.7541\n",
            "Epoch 2/5\n",
            "18681/18681 [==============================] - 7s 367us/step - loss: 0.7142 - acc: 0.8228 - val_loss: 0.8858 - val_acc: 0.7682\n",
            "Epoch 3/5\n",
            "18681/18681 [==============================] - 7s 366us/step - loss: 0.4409 - acc: 0.8890 - val_loss: 0.8868 - val_acc: 0.7667\n",
            "Epoch 4/5\n",
            "18681/18681 [==============================] - 7s 365us/step - loss: 0.2929 - acc: 0.9302 - val_loss: 0.9349 - val_acc: 0.7568\n",
            "Epoch 5/5\n",
            "18681/18681 [==============================] - 7s 365us/step - loss: 0.2033 - acc: 0.9537 - val_loss: 1.0044 - val_acc: 0.7478\n"
          ],
          "name": "stdout"
        },
        {
          "output_type": "execute_result",
          "data": {
            "text/plain": [
              "<keras.callbacks.History at 0x7fd2b1eadac8>"
            ]
          },
          "metadata": {
            "tags": []
          },
          "execution_count": 11
        }
      ]
    },
    {
      "metadata": {
        "id": "GvFOoSNfhPcq",
        "colab_type": "code",
        "colab": {
          "base_uri": "https://localhost:8080/",
          "height": 378
        },
        "outputId": "4ffce9ec-5846-408f-de9a-ce0964f342b4"
      },
      "cell_type": "code",
      "source": [
        "from matplotlib import pyplot as plt\n",
        "\n",
        "plt.xlabel('epoch')\n",
        "plt.ylabel('validation accuracy')\n",
        "plt.plot(model.history.history['val_acc'])"
      ],
      "execution_count": 12,
      "outputs": [
        {
          "output_type": "execute_result",
          "data": {
            "text/plain": [
              "[<matplotlib.lines.Line2D at 0x7fd28c0aef98>]"
            ]
          },
          "metadata": {
            "tags": []
          },
          "execution_count": 12
        },
        {
          "output_type": "display_data",
          "data": {
            "image/png": "[encoded data removed]",
            "text/plain": [
              "<matplotlib.figure.Figure at 0x7fd28c098ac8>"
            ]
          },
          "metadata": {
            "tags": []
          }
        }
      ]
    },
    {
      "metadata": {
        "id": "WTCr3e7Zjg0b",
        "colab_type": "code",
        "colab": {
          "base_uri": "https://localhost:8080/",
          "height": 228
        },
        "outputId": "00acd151-4a2f-44a8-d453-3ba8d4c4c064"
      },
      "cell_type": "code",
      "source": [
        "text_input = Input(shape=(X_train.shape[1],))\n",
        "layer1 = Dense(units=100, activation='relu')(text_input)\n",
        "dropout = Dropout(0.5)(layer1)\n",
        "output = Dense(units=len(label_encoder.classes_), activation='softmax')(dropout)\n",
        "# specify the inputs and outputs of our model\n",
        "# input is the raw text features\n",
        "# output is the predicted probabilities\n",
        "do_model = Model(inputs=[text_input], outputs=[output])\n",
        "# specify the algorithm for calculating weights 'adam'\n",
        "# specify the loss function 'categorical_crossentropy'\n",
        "# specify the validation metrics we will calculate after each epoch\n",
        "do_model.compile(optimizer='adam', \n",
        "                loss='categorical_crossentropy', \n",
        "                metrics=['accuracy'])\n",
        "do_model.fit(x=X_train, y=y_train,\n",
        "            validation_data=(X_valid, y_valid),\n",
        "            batch_size=32, epochs=5)"
      ],
      "execution_count": 13,
      "outputs": [
        {
          "output_type": "stream",
          "text": [
            "Train on 18681 samples, validate on 9032 samples\n",
            "Epoch 1/5\n",
            "18681/18681 [==============================] - 7s 398us/step - loss: 1.9874 - acc: 0.5432 - val_loss: 1.1919 - val_acc: 0.7281\n",
            "Epoch 2/5\n",
            "18681/18681 [==============================] - 7s 384us/step - loss: 1.0528 - acc: 0.7477 - val_loss: 0.9296 - val_acc: 0.7638\n",
            "Epoch 3/5\n",
            "18681/18681 [==============================] - 7s 383us/step - loss: 0.7730 - acc: 0.8063 - val_loss: 0.8653 - val_acc: 0.7685\n",
            "Epoch 4/5\n",
            "18681/18681 [==============================] - 7s 387us/step - loss: 0.6111 - acc: 0.8426 - val_loss: 0.8533 - val_acc: 0.7726\n",
            "Epoch 5/5\n",
            "18681/18681 [==============================] - 7s 380us/step - loss: 0.5014 - acc: 0.8686 - val_loss: 0.8627 - val_acc: 0.7717\n"
          ],
          "name": "stdout"
        },
        {
          "output_type": "execute_result",
          "data": {
            "text/plain": [
              "<keras.callbacks.History at 0x7fd28b50db00>"
            ]
          },
          "metadata": {
            "tags": []
          },
          "execution_count": 13
        }
      ]
    },
    {
      "metadata": {
        "id": "gtbhD40WkaGx",
        "colab_type": "code",
        "colab": {
          "base_uri": "https://localhost:8080/",
          "height": 378
        },
        "outputId": "5f31edf7-e244-43c3-83be-b1dd78a40647"
      },
      "cell_type": "code",
      "source": [
        "plt.ylabel('validation accuracy')\n",
        "plt.xlabel('epoch')\n",
        "plt.plot(do_model.history.history['val_acc'], label='with dropout')\n",
        "plt.plot(model.history.history['val_acc'], label='without dropout')\n",
        "plt.legend()"
      ],
      "execution_count": 14,
      "outputs": [
        {
          "output_type": "execute_result",
          "data": {
            "text/plain": [
              "<matplotlib.legend.Legend at 0x7fd2896045f8>"
            ]
          },
          "metadata": {
            "tags": []
          },
          "execution_count": 14
        },
        {
          "output_type": "display_data",
          "data": {
            "image/png": "[encoded data removed]",
            "text/plain": [
              "<matplotlib.figure.Figure at 0x7fd2b1eadb38>"
            ]
          },
          "metadata": {
            "tags": []
          }
        }
      ]
    },
    {
      "metadata": {
        "id": "XbuTQ20Skapp",
        "colab_type": "code",
        "colab": {
          "base_uri": "https://localhost:8080/",
          "height": 54
        },
        "outputId": "32800019-7b9f-4cc5-e73f-0b732be127ce"
      },
      "cell_type": "code",
      "source": [
        "from keras.preprocessing.text import Tokenizer\n",
        "\n",
        "tokenizer = Tokenizer()\n",
        "tokenizer.fit_on_texts(df_train['NARRATIVE'])\n",
        "X_train_seq = tokenizer.texts_to_sequences(df_train['NARRATIVE'])\n",
        "X_valid_seq = tokenizer.texts_to_sequences(df_valid['NARRATIVE'])\n",
        "print(X_train_seq[0])"
      ],
      "execution_count": 15,
      "outputs": [
        {
          "output_type": "stream",
          "text": [
            "[244, 29, 7152, 1570, 764, 213, 970, 4, 3198, 139, 5, 1924, 424, 223, 610, 1, 764, 29, 10, 1, 1570, 9, 3, 64, 2, 490, 110, 5, 213, 1, 764, 813, 4, 164, 317, 11, 6, 15, 54]\n"
          ],
          "name": "stdout"
        }
      ]
    },
    {
      "metadata": {
        "id": "j6KYi2Q1kpK3",
        "colab_type": "code",
        "colab": {}
      },
      "cell_type": "code",
      "source": [
        "from keras.layers import Embedding, Conv1D, GlobalMaxPooling1D, Concatenate\n",
        "from keras.preprocessing import sequence\n",
        "\n",
        "X_train_seq = sequence.pad_sequences(X_train_seq, maxlen=200)\n",
        "X_valid_seq = sequence.pad_sequences(X_valid_seq, maxlen=200)\n",
        "\n",
        "input_text = Input(shape=(200,), dtype='int32')\n",
        "embedding = Embedding(len(tokenizer.word_index), \n",
        "                          300, \n",
        "                          input_length=200)(input_text)\n",
        "dropout = Dropout(0.1)(embedding)\n",
        "convolution = Conv1D(filters=100, \n",
        "                     kernel_size=3,\n",
        "                     padding='valid',\n",
        "                     strides=1,\n",
        "                     activation='relu')(dropout)\n",
        "pool = GlobalMaxPooling1D()(convolution)\n",
        "dense = Dense(100, activation='relu')(pool)\n",
        "dropout = Dropout(0.5)(dense)\n",
        "output = Dense(len(label_encoder.classes_), activation='softmax')(dense)\n",
        "\n",
        "conv_model = Model(inputs=input_text, outputs=output)\n",
        "\n",
        "conv_model.compile(optimizer='adam', \n",
        "                  loss='categorical_crossentropy', \n",
        "                  metrics=['accuracy'])\n"
      ],
      "execution_count": 0,
      "outputs": []
    },
    {
      "metadata": {
        "id": "7ZMiaIL_kpsP",
        "colab_type": "code",
        "colab": {
          "base_uri": "https://localhost:8080/",
          "height": 228
        },
        "outputId": "2a35156d-8732-4108-dc1c-ad1d18a6df31"
      },
      "cell_type": "code",
      "source": [
        "conv_model.fit(x=X_train_seq, y=y_train,\n",
        "               validation_data=(X_valid_seq, y_valid),\n",
        "               batch_size=256, epochs=5)"
      ],
      "execution_count": 24,
      "outputs": [
        {
          "output_type": "stream",
          "text": [
            "Train on 18681 samples, validate on 9032 samples\n",
            "Epoch 1/5\n",
            "18681/18681 [==============================] - 4s 238us/step - loss: 0.3430 - acc: 0.9076 - val_loss: 0.8128 - val_acc: 0.7905\n",
            "Epoch 2/5\n",
            "18681/18681 [==============================] - 4s 227us/step - loss: 0.2807 - acc: 0.9268 - val_loss: 0.8358 - val_acc: 0.7882\n",
            "Epoch 3/5\n",
            "18681/18681 [==============================] - 4s 230us/step - loss: 0.2280 - acc: 0.9436 - val_loss: 0.8782 - val_acc: 0.7845\n",
            "Epoch 4/5\n",
            "18681/18681 [==============================] - 4s 229us/step - loss: 0.1815 - acc: 0.9572 - val_loss: 0.9203 - val_acc: 0.7799\n",
            "Epoch 5/5\n",
            "18681/18681 [==============================] - 4s 229us/step - loss: 0.1441 - acc: 0.9677 - val_loss: 0.9542 - val_acc: 0.7827\n"
          ],
          "name": "stdout"
        },
        {
          "output_type": "execute_result",
          "data": {
            "text/plain": [
              "<keras.callbacks.History at 0x7fd273704c50>"
            ]
          },
          "metadata": {
            "tags": []
          },
          "execution_count": 24
        }
      ]
    },
    {
      "metadata": {
        "id": "_igKRjwQkswD",
        "colab_type": "code",
        "colab": {}
      },
      "cell_type": "code",
      "source": [
        "input_text = Input(shape=(200,), dtype='int32')\n",
        "embedding = Embedding(len(tokenizer.word_index), \n",
        "                          300, \n",
        "                          input_length=200)(input_text)\n",
        "dropout = Dropout(0.1)(embedding)\n",
        "pooled_convolutions = []\n",
        "for kernel_size in [2, 3, 4, 5]:\n",
        "    convolution = Conv1D(filters=20, \n",
        "                         kernel_size=kernel_size,\n",
        "                         padding='valid',\n",
        "                         strides=1,\n",
        "                         activation='relu')(dropout)\n",
        "    pool = GlobalMaxPooling1D()(convolution)\n",
        "    pooled_convolutions.append(pool)\n",
        "concatenated = Concatenate()(pooled_convolutions)\n",
        "dropout = Dropout(0.5)(concatenated)\n",
        "dense = Dense(100, activation='relu')(dropout)\n",
        "dropout = Dropout(0.5)(dense)\n",
        "output = Dense(len(label_encoder.classes_), activation='softmax')(dense)\n",
        "\n",
        "conv_model = Model(inputs=input_text, outputs=output)\n",
        "\n",
        "conv_model.compile(optimizer='adam', \n",
        "                  loss='categorical_crossentropy', \n",
        "                  metrics=['accuracy'])\n"
      ],
      "execution_count": 0,
      "outputs": []
    },
    {
      "metadata": {
        "id": "6cD4yELsk-EV",
        "colab_type": "code",
        "colab": {
          "base_uri": "https://localhost:8080/",
          "height": 175
        },
        "outputId": "42eccd66-f803-4f84-a42a-e987a460c823"
      },
      "cell_type": "code",
      "source": [
        "conv_model.fit(x=X_train_seq, y=y_train,\n",
        "               validation_data=(X_valid_seq, y_valid),\n",
        "               batch_size=128, epochs=5)"
      ],
      "execution_count": 0,
      "outputs": [
        {
          "output_type": "stream",
          "text": [
            "Train on 18681 samples, validate on 9032 samples\n",
            "Epoch 1/5\n",
            "18681/18681 [==============================] - 8s 442us/step - loss: 2.5917 - acc: 0.3496 - val_loss: 1.5503 - val_acc: 0.6172\n",
            "Epoch 2/5\n",
            "18681/18681 [==============================] - 7s 376us/step - loss: 1.4726 - acc: 0.6367 - val_loss: 1.0354 - val_acc: 0.7407\n",
            "Epoch 3/5\n",
            "18681/18681 [==============================] - 7s 377us/step - loss: 1.1278 - acc: 0.7174 - val_loss: 0.8805 - val_acc: 0.7700\n",
            "Epoch 4/5\n",
            "18560/18681 [============================>.] - ETA: 0s - loss: 0.9576 - acc: 0.7573"
          ],
          "name": "stdout"
        }
      ]
    },
    {
      "metadata": {
        "id": "Exkv3JPqlBEV",
        "colab_type": "code",
        "colab": {}
      },
      "cell_type": "code",
      "source": [
        ""
      ],
      "execution_count": 0,
      "outputs": []
    }
  ]
}